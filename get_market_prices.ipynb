{
 "cells": [
  {
   "cell_type": "code",
   "execution_count": 4,
   "metadata": {
    "ExecuteTime": {
     "end_time": "2024-08-27T10:58:55.853408792Z",
     "start_time": "2024-08-27T10:58:55.812510766Z"
    }
   },
   "outputs": [],
   "source": [
    "import pandas as pd\n",
    "from py_clob_client.client import ClobClient"
   ]
  },
  {
   "cell_type": "code",
   "execution_count": 5,
   "metadata": {
    "ExecuteTime": {
     "end_time": "2024-08-27T10:58:56.342220917Z",
     "start_time": "2024-08-27T10:58:56.338268335Z"
    }
   },
   "outputs": [],
   "source": [
    "client = ClobClient(\"https://clob.polymarket.com/\")"
   ]
  },
  {
   "cell_type": "code",
   "execution_count": 10,
   "metadata": {
    "ExecuteTime": {
     "end_time": "2024-08-27T11:54:08.084909039Z",
     "start_time": "2024-08-27T11:54:07.958468621Z"
    }
   },
   "outputs": [
    {
     "data": {
      "text/plain": "                                                                        price\n94902589775014439849762702665199610280704168297... 2023-02-13 15:16:53   0.50\n                                                   2023-02-13 15:19:00   0.50\n                                                   2023-02-13 15:20:33   0.50\n                                                   2023-02-13 15:21:36   0.78\n                                                   2023-02-13 15:22:26   0.58\n...                                                                       ...\n49372748800278861838074796223447366537099251510... 2024-08-25 15:25:01   0.13\n                                                   2024-08-25 15:26:01   0.13\n                                                   2024-08-25 15:27:01   0.13\n                                                   2024-08-25 15:28:01   0.13\n                                                   2024-08-25 15:29:01   0.13\n\n[535633 rows x 1 columns]",
      "text/html": "<div>\n<style scoped>\n    .dataframe tbody tr th:only-of-type {\n        vertical-align: middle;\n    }\n\n    .dataframe tbody tr th {\n        vertical-align: top;\n    }\n\n    .dataframe thead th {\n        text-align: right;\n    }\n</style>\n<table border=\"1\" class=\"dataframe\">\n  <thead>\n    <tr style=\"text-align: right;\">\n      <th></th>\n      <th></th>\n      <th>price</th>\n    </tr>\n  </thead>\n  <tbody>\n    <tr>\n      <th rowspan=\"5\" valign=\"top\">94902589775014439849762702665199610280704168297208686224141572755250589451330</th>\n      <th>2023-02-13 15:16:53</th>\n      <td>0.50</td>\n    </tr>\n    <tr>\n      <th>2023-02-13 15:19:00</th>\n      <td>0.50</td>\n    </tr>\n    <tr>\n      <th>2023-02-13 15:20:33</th>\n      <td>0.50</td>\n    </tr>\n    <tr>\n      <th>2023-02-13 15:21:36</th>\n      <td>0.78</td>\n    </tr>\n    <tr>\n      <th>2023-02-13 15:22:26</th>\n      <td>0.58</td>\n    </tr>\n    <tr>\n      <th>...</th>\n      <th>...</th>\n      <td>...</td>\n    </tr>\n    <tr>\n      <th rowspan=\"5\" valign=\"top\">49372748800278861838074796223447366537099251510119646665829347061068383659565</th>\n      <th>2024-08-25 15:25:01</th>\n      <td>0.13</td>\n    </tr>\n    <tr>\n      <th>2024-08-25 15:26:01</th>\n      <td>0.13</td>\n    </tr>\n    <tr>\n      <th>2024-08-25 15:27:01</th>\n      <td>0.13</td>\n    </tr>\n    <tr>\n      <th>2024-08-25 15:28:01</th>\n      <td>0.13</td>\n    </tr>\n    <tr>\n      <th>2024-08-25 15:29:01</th>\n      <td>0.13</td>\n    </tr>\n  </tbody>\n</table>\n<p>535633 rows × 1 columns</p>\n</div>"
     },
     "execution_count": 10,
     "metadata": {},
     "output_type": "execute_result"
    }
   ],
   "source": [
    "all_histories = pd.read_parquet(\"first_token_histories.parquet\")\n",
    "all_histories"
   ]
  },
  {
   "cell_type": "code",
   "execution_count": 7,
   "metadata": {
    "ExecuteTime": {
     "end_time": "2024-08-27T10:59:07.491668268Z",
     "start_time": "2024-08-27T10:59:07.481632719Z"
    }
   },
   "outputs": [
    {
     "data": {
      "text/plain": "                winner              loser  is_draw  \\\n0            Liverpool            Everton    False   \n1      Manchester City            Arsenal    False   \n2            Brentford     Crystal Palace    False   \n3              Arsenal        Aston Villa    False   \n4              Everton       Leeds United    False   \n..                 ...                ...      ...   \n177  Tottenham Hotspur   Newcastle United    False   \n178   Newcastle United  Tottenham Hotspur     True   \n179  Manchester United          Liverpool    False   \n180          Liverpool  Manchester United    False   \n181          Liverpool  Manchester United     True   \n\n                                           conditon_id  \\\n0    0x9420efd74abc9c507487b411f3fcf0fcad6122757fbe...   \n1    0x77d4a177ef2cd46573688aff848797473390923797ab...   \n2    0x1e1a3ecf6771f0cece8a8f12bf399cea863646b01c9b...   \n3    0xe10d50d9e49d0764ee1588622b9820552e957dc3e956...   \n4    0xd9561e6a65152b99a312807d42d0f5f6cb5ef0114a87...   \n..                                                 ...   \n177                                                      \n178                                                      \n179                                                      \n180                                                      \n181                                                      \n\n                                           question_id  \\\n0    0xdfaad7e3cd6cc8bb58ec20bcdc40394cea542e080afd...   \n1    0x72bdf23493c55ef5159d813965c20b5372232375c7d3...   \n2    0x4dfeebf9718e1e16993e4eb0cf6de0559f76cb34deb6...   \n3    0xe0d758110fa407e5ee581159107dd4f7bd95633b415d...   \n4    0xbc41bb12b02d02813d356ca528b44ace7792152918f1...   \n..                                                 ...   \n177                                                      \n178                                                      \n179                                                      \n180                                                      \n181                                                      \n\n                                           description          end_date_iso  \\\n0    In the upcoming Premier League soccer match sc...  2023-02-13T00:00:00Z   \n1    In the upcoming Premier League soccer match sc...  2023-02-15T00:00:00Z   \n2    In the upcoming Premier League soccer match sc...  2023-02-17T00:00:00Z   \n3    In the upcoming Premier League soccer match sc...  2023-02-17T00:00:00Z   \n4    In the upcoming Premier League soccer match sc...  2023-02-17T00:00:00Z   \n..                                                 ...                   ...   \n177  This market refers to the EPL match between Ne...                  None   \n178  This market refers to the EPL match between Ne...                  None   \n179  This market refers to the EPL match between Ma...                  None   \n180  This market refers to the EPL match between Ma...                  None   \n181  This market refers to the EPL match between Ma...                  None   \n\n          game_start_time  closed  \\\n0    2023-02-13T20:00:00Z    True   \n1    2023-02-15T19:30:00Z    True   \n2    2023-02-18T16:00:00Z    True   \n3    2023-02-18T13:30:00Z    True   \n4    2023-02-18T16:00:00Z    True   \n..                    ...     ...   \n177  2024-09-01T08:30:00Z   False   \n178                  None   False   \n179  2024-09-01T11:00:00Z   False   \n180  2024-09-01T11:00:00Z   False   \n181  2024-09-01T11:00:00Z   False   \n\n                                        first_token_id first_token_outcome  \\\n0    9490258977501443984976270266519961028070416829...                 Yes   \n1    9714838603458109642002379288377050750163273974...                 Yes   \n2    4756229773079825466964737831359906133840911025...                 Yes   \n3    9525744807227897516502676603230654240525125126...                 Yes   \n4    4378454905073590929747099294184775842520389865...                 Yes   \n..                                                 ...                 ...   \n177                                                                          \n178                                                                          \n179                                                                          \n180                                                                          \n181                                                                          \n\n                                       second_token_id second_token_outcome  \n0    2687322486988912113416014338560760285887290498...                   No  \n1    8213779654606940080772117066044229724431683031...                   No  \n2    6153572014446065346537931593686191287876519137...                   No  \n3    3625781480993561712002802958811250817505964879...                   No  \n4    6820097321154871537598972013836820358338945101...                   No  \n..                                                 ...                  ...  \n177                                                                          \n178                                                                          \n179                                                                          \n180                                                                          \n181                                                                          \n\n[182 rows x 13 columns]",
      "text/html": "<div>\n<style scoped>\n    .dataframe tbody tr th:only-of-type {\n        vertical-align: middle;\n    }\n\n    .dataframe tbody tr th {\n        vertical-align: top;\n    }\n\n    .dataframe thead th {\n        text-align: right;\n    }\n</style>\n<table border=\"1\" class=\"dataframe\">\n  <thead>\n    <tr style=\"text-align: right;\">\n      <th></th>\n      <th>winner</th>\n      <th>loser</th>\n      <th>is_draw</th>\n      <th>conditon_id</th>\n      <th>question_id</th>\n      <th>description</th>\n      <th>end_date_iso</th>\n      <th>game_start_time</th>\n      <th>closed</th>\n      <th>first_token_id</th>\n      <th>first_token_outcome</th>\n      <th>second_token_id</th>\n      <th>second_token_outcome</th>\n    </tr>\n  </thead>\n  <tbody>\n    <tr>\n      <th>0</th>\n      <td>Liverpool</td>\n      <td>Everton</td>\n      <td>False</td>\n      <td>0x9420efd74abc9c507487b411f3fcf0fcad6122757fbe...</td>\n      <td>0xdfaad7e3cd6cc8bb58ec20bcdc40394cea542e080afd...</td>\n      <td>In the upcoming Premier League soccer match sc...</td>\n      <td>2023-02-13T00:00:00Z</td>\n      <td>2023-02-13T20:00:00Z</td>\n      <td>True</td>\n      <td>9490258977501443984976270266519961028070416829...</td>\n      <td>Yes</td>\n      <td>2687322486988912113416014338560760285887290498...</td>\n      <td>No</td>\n    </tr>\n    <tr>\n      <th>1</th>\n      <td>Manchester City</td>\n      <td>Arsenal</td>\n      <td>False</td>\n      <td>0x77d4a177ef2cd46573688aff848797473390923797ab...</td>\n      <td>0x72bdf23493c55ef5159d813965c20b5372232375c7d3...</td>\n      <td>In the upcoming Premier League soccer match sc...</td>\n      <td>2023-02-15T00:00:00Z</td>\n      <td>2023-02-15T19:30:00Z</td>\n      <td>True</td>\n      <td>9714838603458109642002379288377050750163273974...</td>\n      <td>Yes</td>\n      <td>8213779654606940080772117066044229724431683031...</td>\n      <td>No</td>\n    </tr>\n    <tr>\n      <th>2</th>\n      <td>Brentford</td>\n      <td>Crystal Palace</td>\n      <td>False</td>\n      <td>0x1e1a3ecf6771f0cece8a8f12bf399cea863646b01c9b...</td>\n      <td>0x4dfeebf9718e1e16993e4eb0cf6de0559f76cb34deb6...</td>\n      <td>In the upcoming Premier League soccer match sc...</td>\n      <td>2023-02-17T00:00:00Z</td>\n      <td>2023-02-18T16:00:00Z</td>\n      <td>True</td>\n      <td>4756229773079825466964737831359906133840911025...</td>\n      <td>Yes</td>\n      <td>6153572014446065346537931593686191287876519137...</td>\n      <td>No</td>\n    </tr>\n    <tr>\n      <th>3</th>\n      <td>Arsenal</td>\n      <td>Aston Villa</td>\n      <td>False</td>\n      <td>0xe10d50d9e49d0764ee1588622b9820552e957dc3e956...</td>\n      <td>0xe0d758110fa407e5ee581159107dd4f7bd95633b415d...</td>\n      <td>In the upcoming Premier League soccer match sc...</td>\n      <td>2023-02-17T00:00:00Z</td>\n      <td>2023-02-18T13:30:00Z</td>\n      <td>True</td>\n      <td>9525744807227897516502676603230654240525125126...</td>\n      <td>Yes</td>\n      <td>3625781480993561712002802958811250817505964879...</td>\n      <td>No</td>\n    </tr>\n    <tr>\n      <th>4</th>\n      <td>Everton</td>\n      <td>Leeds United</td>\n      <td>False</td>\n      <td>0xd9561e6a65152b99a312807d42d0f5f6cb5ef0114a87...</td>\n      <td>0xbc41bb12b02d02813d356ca528b44ace7792152918f1...</td>\n      <td>In the upcoming Premier League soccer match sc...</td>\n      <td>2023-02-17T00:00:00Z</td>\n      <td>2023-02-18T16:00:00Z</td>\n      <td>True</td>\n      <td>4378454905073590929747099294184775842520389865...</td>\n      <td>Yes</td>\n      <td>6820097321154871537598972013836820358338945101...</td>\n      <td>No</td>\n    </tr>\n    <tr>\n      <th>...</th>\n      <td>...</td>\n      <td>...</td>\n      <td>...</td>\n      <td>...</td>\n      <td>...</td>\n      <td>...</td>\n      <td>...</td>\n      <td>...</td>\n      <td>...</td>\n      <td>...</td>\n      <td>...</td>\n      <td>...</td>\n      <td>...</td>\n    </tr>\n    <tr>\n      <th>177</th>\n      <td>Tottenham Hotspur</td>\n      <td>Newcastle United</td>\n      <td>False</td>\n      <td></td>\n      <td></td>\n      <td>This market refers to the EPL match between Ne...</td>\n      <td>None</td>\n      <td>2024-09-01T08:30:00Z</td>\n      <td>False</td>\n      <td></td>\n      <td></td>\n      <td></td>\n      <td></td>\n    </tr>\n    <tr>\n      <th>178</th>\n      <td>Newcastle United</td>\n      <td>Tottenham Hotspur</td>\n      <td>True</td>\n      <td></td>\n      <td></td>\n      <td>This market refers to the EPL match between Ne...</td>\n      <td>None</td>\n      <td>None</td>\n      <td>False</td>\n      <td></td>\n      <td></td>\n      <td></td>\n      <td></td>\n    </tr>\n    <tr>\n      <th>179</th>\n      <td>Manchester United</td>\n      <td>Liverpool</td>\n      <td>False</td>\n      <td></td>\n      <td></td>\n      <td>This market refers to the EPL match between Ma...</td>\n      <td>None</td>\n      <td>2024-09-01T11:00:00Z</td>\n      <td>False</td>\n      <td></td>\n      <td></td>\n      <td></td>\n      <td></td>\n    </tr>\n    <tr>\n      <th>180</th>\n      <td>Liverpool</td>\n      <td>Manchester United</td>\n      <td>False</td>\n      <td></td>\n      <td></td>\n      <td>This market refers to the EPL match between Ma...</td>\n      <td>None</td>\n      <td>2024-09-01T11:00:00Z</td>\n      <td>False</td>\n      <td></td>\n      <td></td>\n      <td></td>\n      <td></td>\n    </tr>\n    <tr>\n      <th>181</th>\n      <td>Liverpool</td>\n      <td>Manchester United</td>\n      <td>True</td>\n      <td></td>\n      <td></td>\n      <td>This market refers to the EPL match between Ma...</td>\n      <td>None</td>\n      <td>2024-09-01T11:00:00Z</td>\n      <td>False</td>\n      <td></td>\n      <td></td>\n      <td></td>\n      <td></td>\n    </tr>\n  </tbody>\n</table>\n<p>182 rows × 13 columns</p>\n</div>"
     },
     "execution_count": 7,
     "metadata": {},
     "output_type": "execute_result"
    }
   ],
   "source": [
    "markets_info_df = pd.read_parquet(\"epl_markets.parquet\")\n",
    "markets_info_df[markets_info_df.closed]\n",
    "\n",
    "markets_info_df"
   ]
  },
  {
   "cell_type": "code",
   "execution_count": null,
   "metadata": {},
   "outputs": [],
   "source": []
  }
 ],
 "metadata": {
  "kernelspec": {
   "display_name": "polymarket_env",
   "language": "python",
   "name": "python3"
  },
  "language_info": {
   "codemirror_mode": {
    "name": "ipython",
    "version": 3
   },
   "file_extension": ".py",
   "mimetype": "text/x-python",
   "name": "python",
   "nbconvert_exporter": "python",
   "pygments_lexer": "ipython3",
   "version": "3.12.4"
  }
 },
 "nbformat": 4,
 "nbformat_minor": 2
}
