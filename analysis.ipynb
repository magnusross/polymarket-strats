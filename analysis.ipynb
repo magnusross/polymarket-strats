{
 "cells": [
  {
   "cell_type": "code",
   "execution_count": 30,
   "id": "initial_id",
   "metadata": {
    "ExecuteTime": {
     "end_time": "2024-08-28T08:56:10.819901574Z",
     "start_time": "2024-08-28T08:56:10.704787255Z"
    },
    "collapsed": true
   },
   "outputs": [
    {
     "data": {
      "text/plain": "winner                               object\nloser                                object\nis_draw                                bool\ncondition_id                         object\nquestion_id                          object\nid                                   object\ndescription                          object\nend_date_iso                         object\numa_end_data                         object\nvolume                              float64\nclosed                                 bool\nfirst_token_id                       object\nfirst_token_outcome                  object\nfirst_token_price                   float64\nsecond_token_id                      object\nsecond_token_outcome                 object\nsecond_token_price                  float64\ngame_start_time         datetime64[ns, UTC]\ndtype: object"
     },
     "execution_count": 30,
     "metadata": {},
     "output_type": "execute_result"
    }
   ],
   "source": [
    "import pandas as pd\n",
    "\n",
    "markets_info_df = pd.read_parquet(\"epl_markets.parquet\")\n",
    "all_histories = pd.read_parquet(\"first_token_histories.parquet\")\n",
    "markets_info_df.dtypes"
   ]
  },
  {
   "cell_type": "code",
   "execution_count": 31,
   "id": "442982c202af39de",
   "metadata": {
    "ExecuteTime": {
     "end_time": "2024-08-28T08:56:28.281066548Z",
     "start_time": "2024-08-28T08:56:28.160682141Z"
    },
    "collapsed": false
   },
   "outputs": [
    {
     "data": {
      "text/html": "<div>\n<style scoped>\n    .dataframe tbody tr th:only-of-type {\n        vertical-align: middle;\n    }\n\n    .dataframe tbody tr th {\n        vertical-align: top;\n    }\n\n    .dataframe thead th {\n        text-align: right;\n    }\n</style>\n<table border=\"1\" class=\"dataframe\">\n  <thead>\n    <tr style=\"text-align: right;\">\n      <th></th>\n      <th>token_id</th>\n      <th>timestamp</th>\n      <th>price</th>\n      <th>game_start_time</th>\n      <th>first_token_id</th>\n      <th>first_token_price</th>\n      <th>closed</th>\n      <th>volume</th>\n      <th>pre_game_time</th>\n    </tr>\n  </thead>\n  <tbody>\n    <tr>\n      <th>0</th>\n      <td>9490258977501443984976270266519961028070416829...</td>\n      <td>2023-02-13 15:16:53+00:00</td>\n      <td>0.50</td>\n      <td>2023-02-13 20:00:00+00:00</td>\n      <td>9490258977501443984976270266519961028070416829...</td>\n      <td>0.999811</td>\n      <td>True</td>\n      <td>2436.708073</td>\n      <td>2023-02-13 19:55:00+00:00</td>\n    </tr>\n    <tr>\n      <th>1</th>\n      <td>9490258977501443984976270266519961028070416829...</td>\n      <td>2023-02-13 15:19:00+00:00</td>\n      <td>0.50</td>\n      <td>2023-02-13 20:00:00+00:00</td>\n      <td>9490258977501443984976270266519961028070416829...</td>\n      <td>0.999811</td>\n      <td>True</td>\n      <td>2436.708073</td>\n      <td>2023-02-13 19:55:00+00:00</td>\n    </tr>\n    <tr>\n      <th>2</th>\n      <td>9490258977501443984976270266519961028070416829...</td>\n      <td>2023-02-13 15:20:33+00:00</td>\n      <td>0.50</td>\n      <td>2023-02-13 20:00:00+00:00</td>\n      <td>9490258977501443984976270266519961028070416829...</td>\n      <td>0.999811</td>\n      <td>True</td>\n      <td>2436.708073</td>\n      <td>2023-02-13 19:55:00+00:00</td>\n    </tr>\n    <tr>\n      <th>3</th>\n      <td>9490258977501443984976270266519961028070416829...</td>\n      <td>2023-02-13 15:21:36+00:00</td>\n      <td>0.78</td>\n      <td>2023-02-13 20:00:00+00:00</td>\n      <td>9490258977501443984976270266519961028070416829...</td>\n      <td>0.999811</td>\n      <td>True</td>\n      <td>2436.708073</td>\n      <td>2023-02-13 19:55:00+00:00</td>\n    </tr>\n    <tr>\n      <th>4</th>\n      <td>9490258977501443984976270266519961028070416829...</td>\n      <td>2023-02-13 15:22:26+00:00</td>\n      <td>0.58</td>\n      <td>2023-02-13 20:00:00+00:00</td>\n      <td>9490258977501443984976270266519961028070416829...</td>\n      <td>0.999811</td>\n      <td>True</td>\n      <td>2436.708073</td>\n      <td>2023-02-13 19:55:00+00:00</td>\n    </tr>\n    <tr>\n      <th>...</th>\n      <td>...</td>\n      <td>...</td>\n      <td>...</td>\n      <td>...</td>\n      <td>...</td>\n      <td>...</td>\n      <td>...</td>\n      <td>...</td>\n      <td>...</td>\n    </tr>\n    <tr>\n      <th>668602</th>\n      <td>4937274880027886183807479622344736653709925151...</td>\n      <td>2024-08-25 15:25:01+00:00</td>\n      <td>0.13</td>\n      <td>2024-08-25 15:30:00+00:00</td>\n      <td>4937274880027886183807479622344736653709925151...</td>\n      <td>0.000000</td>\n      <td>True</td>\n      <td>9199.510944</td>\n      <td>2024-08-25 15:25:00+00:00</td>\n    </tr>\n    <tr>\n      <th>668603</th>\n      <td>4937274880027886183807479622344736653709925151...</td>\n      <td>2024-08-25 15:26:01+00:00</td>\n      <td>0.13</td>\n      <td>2024-08-25 15:30:00+00:00</td>\n      <td>4937274880027886183807479622344736653709925151...</td>\n      <td>0.000000</td>\n      <td>True</td>\n      <td>9199.510944</td>\n      <td>2024-08-25 15:25:00+00:00</td>\n    </tr>\n    <tr>\n      <th>668604</th>\n      <td>4937274880027886183807479622344736653709925151...</td>\n      <td>2024-08-25 15:27:01+00:00</td>\n      <td>0.13</td>\n      <td>2024-08-25 15:30:00+00:00</td>\n      <td>4937274880027886183807479622344736653709925151...</td>\n      <td>0.000000</td>\n      <td>True</td>\n      <td>9199.510944</td>\n      <td>2024-08-25 15:25:00+00:00</td>\n    </tr>\n    <tr>\n      <th>668605</th>\n      <td>4937274880027886183807479622344736653709925151...</td>\n      <td>2024-08-25 15:28:01+00:00</td>\n      <td>0.13</td>\n      <td>2024-08-25 15:30:00+00:00</td>\n      <td>4937274880027886183807479622344736653709925151...</td>\n      <td>0.000000</td>\n      <td>True</td>\n      <td>9199.510944</td>\n      <td>2024-08-25 15:25:00+00:00</td>\n    </tr>\n    <tr>\n      <th>668606</th>\n      <td>4937274880027886183807479622344736653709925151...</td>\n      <td>2024-08-25 15:29:01+00:00</td>\n      <td>0.13</td>\n      <td>2024-08-25 15:30:00+00:00</td>\n      <td>4937274880027886183807479622344736653709925151...</td>\n      <td>0.000000</td>\n      <td>True</td>\n      <td>9199.510944</td>\n      <td>2024-08-25 15:25:00+00:00</td>\n    </tr>\n  </tbody>\n</table>\n<p>668607 rows × 9 columns</p>\n</div>",
      "text/plain": "                                                 token_id  \\\n0       9490258977501443984976270266519961028070416829...   \n1       9490258977501443984976270266519961028070416829...   \n2       9490258977501443984976270266519961028070416829...   \n3       9490258977501443984976270266519961028070416829...   \n4       9490258977501443984976270266519961028070416829...   \n...                                                   ...   \n668602  4937274880027886183807479622344736653709925151...   \n668603  4937274880027886183807479622344736653709925151...   \n668604  4937274880027886183807479622344736653709925151...   \n668605  4937274880027886183807479622344736653709925151...   \n668606  4937274880027886183807479622344736653709925151...   \n\n                       timestamp  price           game_start_time  \\\n0      2023-02-13 15:16:53+00:00   0.50 2023-02-13 20:00:00+00:00   \n1      2023-02-13 15:19:00+00:00   0.50 2023-02-13 20:00:00+00:00   \n2      2023-02-13 15:20:33+00:00   0.50 2023-02-13 20:00:00+00:00   \n3      2023-02-13 15:21:36+00:00   0.78 2023-02-13 20:00:00+00:00   \n4      2023-02-13 15:22:26+00:00   0.58 2023-02-13 20:00:00+00:00   \n...                          ...    ...                       ...   \n668602 2024-08-25 15:25:01+00:00   0.13 2024-08-25 15:30:00+00:00   \n668603 2024-08-25 15:26:01+00:00   0.13 2024-08-25 15:30:00+00:00   \n668604 2024-08-25 15:27:01+00:00   0.13 2024-08-25 15:30:00+00:00   \n668605 2024-08-25 15:28:01+00:00   0.13 2024-08-25 15:30:00+00:00   \n668606 2024-08-25 15:29:01+00:00   0.13 2024-08-25 15:30:00+00:00   \n\n                                           first_token_id  first_token_price  \\\n0       9490258977501443984976270266519961028070416829...           0.999811   \n1       9490258977501443984976270266519961028070416829...           0.999811   \n2       9490258977501443984976270266519961028070416829...           0.999811   \n3       9490258977501443984976270266519961028070416829...           0.999811   \n4       9490258977501443984976270266519961028070416829...           0.999811   \n...                                                   ...                ...   \n668602  4937274880027886183807479622344736653709925151...           0.000000   \n668603  4937274880027886183807479622344736653709925151...           0.000000   \n668604  4937274880027886183807479622344736653709925151...           0.000000   \n668605  4937274880027886183807479622344736653709925151...           0.000000   \n668606  4937274880027886183807479622344736653709925151...           0.000000   \n\n        closed       volume             pre_game_time  \n0         True  2436.708073 2023-02-13 19:55:00+00:00  \n1         True  2436.708073 2023-02-13 19:55:00+00:00  \n2         True  2436.708073 2023-02-13 19:55:00+00:00  \n3         True  2436.708073 2023-02-13 19:55:00+00:00  \n4         True  2436.708073 2023-02-13 19:55:00+00:00  \n...        ...          ...                       ...  \n668602    True  9199.510944 2024-08-25 15:25:00+00:00  \n668603    True  9199.510944 2024-08-25 15:25:00+00:00  \n668604    True  9199.510944 2024-08-25 15:25:00+00:00  \n668605    True  9199.510944 2024-08-25 15:25:00+00:00  \n668606    True  9199.510944 2024-08-25 15:25:00+00:00  \n\n[668607 rows x 9 columns]"
     },
     "execution_count": 31,
     "metadata": {},
     "output_type": "execute_result"
    }
   ],
   "source": [
    "joined_gametime_prices = (\n",
    "    all_histories.reset_index(names=[\"token_id\", \"timestamp\"])\n",
    "    .merge(\n",
    "        markets_info_df[\n",
    "            [\n",
    "                \"game_start_time\",\n",
    "                \"first_token_id\",\n",
    "                \"first_token_price\",\n",
    "                \"closed\",\n",
    "                \"volume\",\n",
    "            ]\n",
    "        ],\n",
    "        left_on=\"token_id\",\n",
    "        right_on=\"first_token_id\",\n",
    "    )\n",
    "    .assign(\n",
    "        timestamp=lambda x: pd.to_datetime(x.timestamp).dt.tz_localize(\"UTC\"),\n",
    "    )\n",
    "    .assign(pre_game_time=lambda x: x.game_start_time - pd.Timedelta(minutes=5))\n",
    ")\n",
    "joined_gametime_prices"
   ]
  },
  {
   "cell_type": "code",
   "execution_count": 35,
   "id": "e17ef794619ef581",
   "metadata": {
    "ExecuteTime": {
     "end_time": "2024-08-28T08:59:24.930595187Z",
     "start_time": "2024-08-28T08:59:24.542153047Z"
    },
    "collapsed": false
   },
   "outputs": [],
   "source": [
    "procesed_df = (\n",
    "    joined_gametime_prices.loc[\n",
    "        (joined_gametime_prices.timestamp < joined_gametime_prices.pre_game_time)\n",
    "        & (joined_gametime_prices.volume > 1.0)\n",
    "    ]\n",
    "    .groupby(\"token_id\")\n",
    "    .last()\n",
    ")"
   ]
  },
  {
   "cell_type": "code",
   "execution_count": 36,
   "id": "a95283536c9851e0",
   "metadata": {
    "ExecuteTime": {
     "end_time": "2024-08-28T08:59:31.080242701Z",
     "start_time": "2024-08-28T08:59:31.017977Z"
    },
    "collapsed": false
   },
   "outputs": [
    {
     "data": {
      "application/vnd.plotly.v1+json": {
       "config": {
        "plotlyServerURL": "https://plot.ly"
       },
       "data": [
        {
         "hovertemplate": "price=%{x}<br>first_token_price=%{y}<extra></extra>",
         "legendgroup": "",
         "marker": {
          "color": "#636efa",
          "symbol": "circle"
         },
         "mode": "markers",
         "name": "",
         "orientation": "v",
         "showlegend": false,
         "type": "scatter",
         "x": [
          0.275,
          0.17,
          0.265,
          0.305,
          0.49,
          0.5,
          0.37,
          0.225,
          0.6,
          0.31,
          0.175,
          0.245,
          0.405,
          0.2,
          0.275,
          0.34,
          0.265,
          0.245,
          0.375,
          0.5,
          0.295,
          0.675,
          0.505,
          0.195,
          0.715,
          0.11,
          0.235,
          0.11,
          0.73,
          0.405,
          0.36,
          0.49,
          0.225,
          0.52,
          0.575,
          0.51,
          0.63,
          0.725,
          0.13,
          0.69,
          0.4,
          0.565,
          0.355,
          0.855,
          0.28,
          0.39,
          0.565,
          0.62,
          0.59,
          0.31,
          0.43,
          0.805,
          0.11,
          0.585,
          0.755,
          0.835,
          0.37,
          0.105,
          0.68,
          0.08,
          0.5,
          0.265,
          0.075,
          0.39,
          0.275,
          0.31,
          0.255,
          0.26,
          0.385,
          0.29,
          0.18,
          0.71,
          0.61,
          0.17,
          0.27,
          0.34,
          0.4,
          0.05
         ],
         "xaxis": "x",
         "y": [
          0.0,
          0.0,
          0.0,
          0.0,
          1.0,
          0.0,
          0.0,
          1.0,
          0.0,
          0.0,
          0.0,
          1.0,
          0.0,
          0.0,
          0.0,
          1.0,
          0.0,
          0.0,
          0.0,
          0.0,
          0.0,
          1.0,
          1.0,
          0.0,
          1.0,
          0.0,
          0.0,
          0.0,
          1.0,
          1.0,
          0.0,
          0.0,
          0.0,
          1.0,
          0.0,
          1.0,
          0.0,
          1.0,
          0.0,
          0.00008140065502455539,
          1.0,
          1.0,
          1.0,
          1.0,
          1.0,
          0.0,
          1.0,
          0.0,
          1.0,
          1.0,
          0.0,
          1.0,
          0.0,
          1.0,
          0.0,
          1.0,
          0.0,
          0.0,
          0.0,
          0.0,
          1.0,
          0.0,
          0.0,
          1.0,
          1.0,
          0.9767158039242548,
          0.0,
          0.0,
          0.0,
          0.0,
          0.0,
          0.0,
          0.9998105323986264,
          0.0,
          0.0,
          0.0,
          0.999883481099508,
          0.0
         ],
         "yaxis": "y"
        }
       ],
       "layout": {
        "legend": {
         "tracegroupgap": 0
        },
        "margin": {
         "t": 60
        },
        "template": {
         "data": {
          "bar": [
           {
            "error_x": {
             "color": "#2a3f5f"
            },
            "error_y": {
             "color": "#2a3f5f"
            },
            "marker": {
             "line": {
              "color": "#E5ECF6",
              "width": 0.5
             },
             "pattern": {
              "fillmode": "overlay",
              "size": 10,
              "solidity": 0.2
             }
            },
            "type": "bar"
           }
          ],
          "barpolar": [
           {
            "marker": {
             "line": {
              "color": "#E5ECF6",
              "width": 0.5
             },
             "pattern": {
              "fillmode": "overlay",
              "size": 10,
              "solidity": 0.2
             }
            },
            "type": "barpolar"
           }
          ],
          "carpet": [
           {
            "aaxis": {
             "endlinecolor": "#2a3f5f",
             "gridcolor": "white",
             "linecolor": "white",
             "minorgridcolor": "white",
             "startlinecolor": "#2a3f5f"
            },
            "baxis": {
             "endlinecolor": "#2a3f5f",
             "gridcolor": "white",
             "linecolor": "white",
             "minorgridcolor": "white",
             "startlinecolor": "#2a3f5f"
            },
            "type": "carpet"
           }
          ],
          "choropleth": [
           {
            "colorbar": {
             "outlinewidth": 0,
             "ticks": ""
            },
            "type": "choropleth"
           }
          ],
          "contour": [
           {
            "colorbar": {
             "outlinewidth": 0,
             "ticks": ""
            },
            "colorscale": [
             [
              0.0,
              "#0d0887"
             ],
             [
              0.1111111111111111,
              "#46039f"
             ],
             [
              0.2222222222222222,
              "#7201a8"
             ],
             [
              0.3333333333333333,
              "#9c179e"
             ],
             [
              0.4444444444444444,
              "#bd3786"
             ],
             [
              0.5555555555555556,
              "#d8576b"
             ],
             [
              0.6666666666666666,
              "#ed7953"
             ],
             [
              0.7777777777777778,
              "#fb9f3a"
             ],
             [
              0.8888888888888888,
              "#fdca26"
             ],
             [
              1.0,
              "#f0f921"
             ]
            ],
            "type": "contour"
           }
          ],
          "contourcarpet": [
           {
            "colorbar": {
             "outlinewidth": 0,
             "ticks": ""
            },
            "type": "contourcarpet"
           }
          ],
          "heatmap": [
           {
            "colorbar": {
             "outlinewidth": 0,
             "ticks": ""
            },
            "colorscale": [
             [
              0.0,
              "#0d0887"
             ],
             [
              0.1111111111111111,
              "#46039f"
             ],
             [
              0.2222222222222222,
              "#7201a8"
             ],
             [
              0.3333333333333333,
              "#9c179e"
             ],
             [
              0.4444444444444444,
              "#bd3786"
             ],
             [
              0.5555555555555556,
              "#d8576b"
             ],
             [
              0.6666666666666666,
              "#ed7953"
             ],
             [
              0.7777777777777778,
              "#fb9f3a"
             ],
             [
              0.8888888888888888,
              "#fdca26"
             ],
             [
              1.0,
              "#f0f921"
             ]
            ],
            "type": "heatmap"
           }
          ],
          "heatmapgl": [
           {
            "colorbar": {
             "outlinewidth": 0,
             "ticks": ""
            },
            "colorscale": [
             [
              0.0,
              "#0d0887"
             ],
             [
              0.1111111111111111,
              "#46039f"
             ],
             [
              0.2222222222222222,
              "#7201a8"
             ],
             [
              0.3333333333333333,
              "#9c179e"
             ],
             [
              0.4444444444444444,
              "#bd3786"
             ],
             [
              0.5555555555555556,
              "#d8576b"
             ],
             [
              0.6666666666666666,
              "#ed7953"
             ],
             [
              0.7777777777777778,
              "#fb9f3a"
             ],
             [
              0.8888888888888888,
              "#fdca26"
             ],
             [
              1.0,
              "#f0f921"
             ]
            ],
            "type": "heatmapgl"
           }
          ],
          "histogram": [
           {
            "marker": {
             "pattern": {
              "fillmode": "overlay",
              "size": 10,
              "solidity": 0.2
             }
            },
            "type": "histogram"
           }
          ],
          "histogram2d": [
           {
            "colorbar": {
             "outlinewidth": 0,
             "ticks": ""
            },
            "colorscale": [
             [
              0.0,
              "#0d0887"
             ],
             [
              0.1111111111111111,
              "#46039f"
             ],
             [
              0.2222222222222222,
              "#7201a8"
             ],
             [
              0.3333333333333333,
              "#9c179e"
             ],
             [
              0.4444444444444444,
              "#bd3786"
             ],
             [
              0.5555555555555556,
              "#d8576b"
             ],
             [
              0.6666666666666666,
              "#ed7953"
             ],
             [
              0.7777777777777778,
              "#fb9f3a"
             ],
             [
              0.8888888888888888,
              "#fdca26"
             ],
             [
              1.0,
              "#f0f921"
             ]
            ],
            "type": "histogram2d"
           }
          ],
          "histogram2dcontour": [
           {
            "colorbar": {
             "outlinewidth": 0,
             "ticks": ""
            },
            "colorscale": [
             [
              0.0,
              "#0d0887"
             ],
             [
              0.1111111111111111,
              "#46039f"
             ],
             [
              0.2222222222222222,
              "#7201a8"
             ],
             [
              0.3333333333333333,
              "#9c179e"
             ],
             [
              0.4444444444444444,
              "#bd3786"
             ],
             [
              0.5555555555555556,
              "#d8576b"
             ],
             [
              0.6666666666666666,
              "#ed7953"
             ],
             [
              0.7777777777777778,
              "#fb9f3a"
             ],
             [
              0.8888888888888888,
              "#fdca26"
             ],
             [
              1.0,
              "#f0f921"
             ]
            ],
            "type": "histogram2dcontour"
           }
          ],
          "mesh3d": [
           {
            "colorbar": {
             "outlinewidth": 0,
             "ticks": ""
            },
            "type": "mesh3d"
           }
          ],
          "parcoords": [
           {
            "line": {
             "colorbar": {
              "outlinewidth": 0,
              "ticks": ""
             }
            },
            "type": "parcoords"
           }
          ],
          "pie": [
           {
            "automargin": true,
            "type": "pie"
           }
          ],
          "scatter": [
           {
            "fillpattern": {
             "fillmode": "overlay",
             "size": 10,
             "solidity": 0.2
            },
            "type": "scatter"
           }
          ],
          "scatter3d": [
           {
            "line": {
             "colorbar": {
              "outlinewidth": 0,
              "ticks": ""
             }
            },
            "marker": {
             "colorbar": {
              "outlinewidth": 0,
              "ticks": ""
             }
            },
            "type": "scatter3d"
           }
          ],
          "scattercarpet": [
           {
            "marker": {
             "colorbar": {
              "outlinewidth": 0,
              "ticks": ""
             }
            },
            "type": "scattercarpet"
           }
          ],
          "scattergeo": [
           {
            "marker": {
             "colorbar": {
              "outlinewidth": 0,
              "ticks": ""
             }
            },
            "type": "scattergeo"
           }
          ],
          "scattergl": [
           {
            "marker": {
             "colorbar": {
              "outlinewidth": 0,
              "ticks": ""
             }
            },
            "type": "scattergl"
           }
          ],
          "scattermapbox": [
           {
            "marker": {
             "colorbar": {
              "outlinewidth": 0,
              "ticks": ""
             }
            },
            "type": "scattermapbox"
           }
          ],
          "scatterpolar": [
           {
            "marker": {
             "colorbar": {
              "outlinewidth": 0,
              "ticks": ""
             }
            },
            "type": "scatterpolar"
           }
          ],
          "scatterpolargl": [
           {
            "marker": {
             "colorbar": {
              "outlinewidth": 0,
              "ticks": ""
             }
            },
            "type": "scatterpolargl"
           }
          ],
          "scatterternary": [
           {
            "marker": {
             "colorbar": {
              "outlinewidth": 0,
              "ticks": ""
             }
            },
            "type": "scatterternary"
           }
          ],
          "surface": [
           {
            "colorbar": {
             "outlinewidth": 0,
             "ticks": ""
            },
            "colorscale": [
             [
              0.0,
              "#0d0887"
             ],
             [
              0.1111111111111111,
              "#46039f"
             ],
             [
              0.2222222222222222,
              "#7201a8"
             ],
             [
              0.3333333333333333,
              "#9c179e"
             ],
             [
              0.4444444444444444,
              "#bd3786"
             ],
             [
              0.5555555555555556,
              "#d8576b"
             ],
             [
              0.6666666666666666,
              "#ed7953"
             ],
             [
              0.7777777777777778,
              "#fb9f3a"
             ],
             [
              0.8888888888888888,
              "#fdca26"
             ],
             [
              1.0,
              "#f0f921"
             ]
            ],
            "type": "surface"
           }
          ],
          "table": [
           {
            "cells": {
             "fill": {
              "color": "#EBF0F8"
             },
             "line": {
              "color": "white"
             }
            },
            "header": {
             "fill": {
              "color": "#C8D4E3"
             },
             "line": {
              "color": "white"
             }
            },
            "type": "table"
           }
          ]
         },
         "layout": {
          "annotationdefaults": {
           "arrowcolor": "#2a3f5f",
           "arrowhead": 0,
           "arrowwidth": 1
          },
          "autotypenumbers": "strict",
          "coloraxis": {
           "colorbar": {
            "outlinewidth": 0,
            "ticks": ""
           }
          },
          "colorscale": {
           "diverging": [
            [
             0,
             "#8e0152"
            ],
            [
             0.1,
             "#c51b7d"
            ],
            [
             0.2,
             "#de77ae"
            ],
            [
             0.3,
             "#f1b6da"
            ],
            [
             0.4,
             "#fde0ef"
            ],
            [
             0.5,
             "#f7f7f7"
            ],
            [
             0.6,
             "#e6f5d0"
            ],
            [
             0.7,
             "#b8e186"
            ],
            [
             0.8,
             "#7fbc41"
            ],
            [
             0.9,
             "#4d9221"
            ],
            [
             1,
             "#276419"
            ]
           ],
           "sequential": [
            [
             0.0,
             "#0d0887"
            ],
            [
             0.1111111111111111,
             "#46039f"
            ],
            [
             0.2222222222222222,
             "#7201a8"
            ],
            [
             0.3333333333333333,
             "#9c179e"
            ],
            [
             0.4444444444444444,
             "#bd3786"
            ],
            [
             0.5555555555555556,
             "#d8576b"
            ],
            [
             0.6666666666666666,
             "#ed7953"
            ],
            [
             0.7777777777777778,
             "#fb9f3a"
            ],
            [
             0.8888888888888888,
             "#fdca26"
            ],
            [
             1.0,
             "#f0f921"
            ]
           ],
           "sequentialminus": [
            [
             0.0,
             "#0d0887"
            ],
            [
             0.1111111111111111,
             "#46039f"
            ],
            [
             0.2222222222222222,
             "#7201a8"
            ],
            [
             0.3333333333333333,
             "#9c179e"
            ],
            [
             0.4444444444444444,
             "#bd3786"
            ],
            [
             0.5555555555555556,
             "#d8576b"
            ],
            [
             0.6666666666666666,
             "#ed7953"
            ],
            [
             0.7777777777777778,
             "#fb9f3a"
            ],
            [
             0.8888888888888888,
             "#fdca26"
            ],
            [
             1.0,
             "#f0f921"
            ]
           ]
          },
          "colorway": [
           "#636efa",
           "#EF553B",
           "#00cc96",
           "#ab63fa",
           "#FFA15A",
           "#19d3f3",
           "#FF6692",
           "#B6E880",
           "#FF97FF",
           "#FECB52"
          ],
          "font": {
           "color": "#2a3f5f"
          },
          "geo": {
           "bgcolor": "white",
           "lakecolor": "white",
           "landcolor": "#E5ECF6",
           "showlakes": true,
           "showland": true,
           "subunitcolor": "white"
          },
          "hoverlabel": {
           "align": "left"
          },
          "hovermode": "closest",
          "mapbox": {
           "style": "light"
          },
          "paper_bgcolor": "white",
          "plot_bgcolor": "#E5ECF6",
          "polar": {
           "angularaxis": {
            "gridcolor": "white",
            "linecolor": "white",
            "ticks": ""
           },
           "bgcolor": "#E5ECF6",
           "radialaxis": {
            "gridcolor": "white",
            "linecolor": "white",
            "ticks": ""
           }
          },
          "scene": {
           "xaxis": {
            "backgroundcolor": "#E5ECF6",
            "gridcolor": "white",
            "gridwidth": 2,
            "linecolor": "white",
            "showbackground": true,
            "ticks": "",
            "zerolinecolor": "white"
           },
           "yaxis": {
            "backgroundcolor": "#E5ECF6",
            "gridcolor": "white",
            "gridwidth": 2,
            "linecolor": "white",
            "showbackground": true,
            "ticks": "",
            "zerolinecolor": "white"
           },
           "zaxis": {
            "backgroundcolor": "#E5ECF6",
            "gridcolor": "white",
            "gridwidth": 2,
            "linecolor": "white",
            "showbackground": true,
            "ticks": "",
            "zerolinecolor": "white"
           }
          },
          "shapedefaults": {
           "line": {
            "color": "#2a3f5f"
           }
          },
          "ternary": {
           "aaxis": {
            "gridcolor": "white",
            "linecolor": "white",
            "ticks": ""
           },
           "baxis": {
            "gridcolor": "white",
            "linecolor": "white",
            "ticks": ""
           },
           "bgcolor": "#E5ECF6",
           "caxis": {
            "gridcolor": "white",
            "linecolor": "white",
            "ticks": ""
           }
          },
          "title": {
           "x": 0.05
          },
          "xaxis": {
           "automargin": true,
           "gridcolor": "white",
           "linecolor": "white",
           "ticks": "",
           "title": {
            "standoff": 15
           },
           "zerolinecolor": "white",
           "zerolinewidth": 2
          },
          "yaxis": {
           "automargin": true,
           "gridcolor": "white",
           "linecolor": "white",
           "ticks": "",
           "title": {
            "standoff": 15
           },
           "zerolinecolor": "white",
           "zerolinewidth": 2
          }
         }
        },
        "xaxis": {
         "anchor": "y",
         "domain": [
          0.0,
          1.0
         ],
         "title": {
          "text": "price"
         }
        },
        "yaxis": {
         "anchor": "x",
         "domain": [
          0.0,
          1.0
         ],
         "title": {
          "text": "first_token_price"
         }
        }
       }
      },
      "text/html": "<div>                            <div id=\"8e4fff6a-ccbb-4991-b9d6-43d23b7af0cb\" class=\"plotly-graph-div\" style=\"height:525px; width:100%;\"></div>            <script type=\"text/javascript\">                require([\"plotly\"], function(Plotly) {                    window.PLOTLYENV=window.PLOTLYENV || {};                                    if (document.getElementById(\"8e4fff6a-ccbb-4991-b9d6-43d23b7af0cb\")) {                    Plotly.newPlot(                        \"8e4fff6a-ccbb-4991-b9d6-43d23b7af0cb\",                        [{\"hovertemplate\":\"price=%{x}\\u003cbr\\u003efirst_token_price=%{y}\\u003cextra\\u003e\\u003c\\u002fextra\\u003e\",\"legendgroup\":\"\",\"marker\":{\"color\":\"#636efa\",\"symbol\":\"circle\"},\"mode\":\"markers\",\"name\":\"\",\"orientation\":\"v\",\"showlegend\":false,\"x\":[0.275,0.17,0.265,0.305,0.49,0.5,0.37,0.225,0.6,0.31,0.175,0.245,0.405,0.2,0.275,0.34,0.265,0.245,0.375,0.5,0.295,0.675,0.505,0.195,0.715,0.11,0.235,0.11,0.73,0.405,0.36,0.49,0.225,0.52,0.575,0.51,0.63,0.725,0.13,0.69,0.4,0.565,0.355,0.855,0.28,0.39,0.565,0.62,0.59,0.31,0.43,0.805,0.11,0.585,0.755,0.835,0.37,0.105,0.68,0.08,0.5,0.265,0.075,0.39,0.275,0.31,0.255,0.26,0.385,0.29,0.18,0.71,0.61,0.17,0.27,0.34,0.4,0.05],\"xaxis\":\"x\",\"y\":[0.0,0.0,0.0,0.0,1.0,0.0,0.0,1.0,0.0,0.0,0.0,1.0,0.0,0.0,0.0,1.0,0.0,0.0,0.0,0.0,0.0,1.0,1.0,0.0,1.0,0.0,0.0,0.0,1.0,1.0,0.0,0.0,0.0,1.0,0.0,1.0,0.0,1.0,0.0,8.140065502455539e-05,1.0,1.0,1.0,1.0,1.0,0.0,1.0,0.0,1.0,1.0,0.0,1.0,0.0,1.0,0.0,1.0,0.0,0.0,0.0,0.0,1.0,0.0,0.0,1.0,1.0,0.9767158039242547,0.0,0.0,0.0,0.0,0.0,0.0,0.9998105323986264,0.0,0.0,0.0,0.999883481099508,0.0],\"yaxis\":\"y\",\"type\":\"scatter\"}],                        {\"template\":{\"data\":{\"histogram2dcontour\":[{\"type\":\"histogram2dcontour\",\"colorbar\":{\"outlinewidth\":0,\"ticks\":\"\"},\"colorscale\":[[0.0,\"#0d0887\"],[0.1111111111111111,\"#46039f\"],[0.2222222222222222,\"#7201a8\"],[0.3333333333333333,\"#9c179e\"],[0.4444444444444444,\"#bd3786\"],[0.5555555555555556,\"#d8576b\"],[0.6666666666666666,\"#ed7953\"],[0.7777777777777778,\"#fb9f3a\"],[0.8888888888888888,\"#fdca26\"],[1.0,\"#f0f921\"]]}],\"choropleth\":[{\"type\":\"choropleth\",\"colorbar\":{\"outlinewidth\":0,\"ticks\":\"\"}}],\"histogram2d\":[{\"type\":\"histogram2d\",\"colorbar\":{\"outlinewidth\":0,\"ticks\":\"\"},\"colorscale\":[[0.0,\"#0d0887\"],[0.1111111111111111,\"#46039f\"],[0.2222222222222222,\"#7201a8\"],[0.3333333333333333,\"#9c179e\"],[0.4444444444444444,\"#bd3786\"],[0.5555555555555556,\"#d8576b\"],[0.6666666666666666,\"#ed7953\"],[0.7777777777777778,\"#fb9f3a\"],[0.8888888888888888,\"#fdca26\"],[1.0,\"#f0f921\"]]}],\"heatmap\":[{\"type\":\"heatmap\",\"colorbar\":{\"outlinewidth\":0,\"ticks\":\"\"},\"colorscale\":[[0.0,\"#0d0887\"],[0.1111111111111111,\"#46039f\"],[0.2222222222222222,\"#7201a8\"],[0.3333333333333333,\"#9c179e\"],[0.4444444444444444,\"#bd3786\"],[0.5555555555555556,\"#d8576b\"],[0.6666666666666666,\"#ed7953\"],[0.7777777777777778,\"#fb9f3a\"],[0.8888888888888888,\"#fdca26\"],[1.0,\"#f0f921\"]]}],\"heatmapgl\":[{\"type\":\"heatmapgl\",\"colorbar\":{\"outlinewidth\":0,\"ticks\":\"\"},\"colorscale\":[[0.0,\"#0d0887\"],[0.1111111111111111,\"#46039f\"],[0.2222222222222222,\"#7201a8\"],[0.3333333333333333,\"#9c179e\"],[0.4444444444444444,\"#bd3786\"],[0.5555555555555556,\"#d8576b\"],[0.6666666666666666,\"#ed7953\"],[0.7777777777777778,\"#fb9f3a\"],[0.8888888888888888,\"#fdca26\"],[1.0,\"#f0f921\"]]}],\"contourcarpet\":[{\"type\":\"contourcarpet\",\"colorbar\":{\"outlinewidth\":0,\"ticks\":\"\"}}],\"contour\":[{\"type\":\"contour\",\"colorbar\":{\"outlinewidth\":0,\"ticks\":\"\"},\"colorscale\":[[0.0,\"#0d0887\"],[0.1111111111111111,\"#46039f\"],[0.2222222222222222,\"#7201a8\"],[0.3333333333333333,\"#9c179e\"],[0.4444444444444444,\"#bd3786\"],[0.5555555555555556,\"#d8576b\"],[0.6666666666666666,\"#ed7953\"],[0.7777777777777778,\"#fb9f3a\"],[0.8888888888888888,\"#fdca26\"],[1.0,\"#f0f921\"]]}],\"surface\":[{\"type\":\"surface\",\"colorbar\":{\"outlinewidth\":0,\"ticks\":\"\"},\"colorscale\":[[0.0,\"#0d0887\"],[0.1111111111111111,\"#46039f\"],[0.2222222222222222,\"#7201a8\"],[0.3333333333333333,\"#9c179e\"],[0.4444444444444444,\"#bd3786\"],[0.5555555555555556,\"#d8576b\"],[0.6666666666666666,\"#ed7953\"],[0.7777777777777778,\"#fb9f3a\"],[0.8888888888888888,\"#fdca26\"],[1.0,\"#f0f921\"]]}],\"mesh3d\":[{\"type\":\"mesh3d\",\"colorbar\":{\"outlinewidth\":0,\"ticks\":\"\"}}],\"scatter\":[{\"fillpattern\":{\"fillmode\":\"overlay\",\"size\":10,\"solidity\":0.2},\"type\":\"scatter\"}],\"parcoords\":[{\"type\":\"parcoords\",\"line\":{\"colorbar\":{\"outlinewidth\":0,\"ticks\":\"\"}}}],\"scatterpolargl\":[{\"type\":\"scatterpolargl\",\"marker\":{\"colorbar\":{\"outlinewidth\":0,\"ticks\":\"\"}}}],\"bar\":[{\"error_x\":{\"color\":\"#2a3f5f\"},\"error_y\":{\"color\":\"#2a3f5f\"},\"marker\":{\"line\":{\"color\":\"#E5ECF6\",\"width\":0.5},\"pattern\":{\"fillmode\":\"overlay\",\"size\":10,\"solidity\":0.2}},\"type\":\"bar\"}],\"scattergeo\":[{\"type\":\"scattergeo\",\"marker\":{\"colorbar\":{\"outlinewidth\":0,\"ticks\":\"\"}}}],\"scatterpolar\":[{\"type\":\"scatterpolar\",\"marker\":{\"colorbar\":{\"outlinewidth\":0,\"ticks\":\"\"}}}],\"histogram\":[{\"marker\":{\"pattern\":{\"fillmode\":\"overlay\",\"size\":10,\"solidity\":0.2}},\"type\":\"histogram\"}],\"scattergl\":[{\"type\":\"scattergl\",\"marker\":{\"colorbar\":{\"outlinewidth\":0,\"ticks\":\"\"}}}],\"scatter3d\":[{\"type\":\"scatter3d\",\"line\":{\"colorbar\":{\"outlinewidth\":0,\"ticks\":\"\"}},\"marker\":{\"colorbar\":{\"outlinewidth\":0,\"ticks\":\"\"}}}],\"scattermapbox\":[{\"type\":\"scattermapbox\",\"marker\":{\"colorbar\":{\"outlinewidth\":0,\"ticks\":\"\"}}}],\"scatterternary\":[{\"type\":\"scatterternary\",\"marker\":{\"colorbar\":{\"outlinewidth\":0,\"ticks\":\"\"}}}],\"scattercarpet\":[{\"type\":\"scattercarpet\",\"marker\":{\"colorbar\":{\"outlinewidth\":0,\"ticks\":\"\"}}}],\"carpet\":[{\"aaxis\":{\"endlinecolor\":\"#2a3f5f\",\"gridcolor\":\"white\",\"linecolor\":\"white\",\"minorgridcolor\":\"white\",\"startlinecolor\":\"#2a3f5f\"},\"baxis\":{\"endlinecolor\":\"#2a3f5f\",\"gridcolor\":\"white\",\"linecolor\":\"white\",\"minorgridcolor\":\"white\",\"startlinecolor\":\"#2a3f5f\"},\"type\":\"carpet\"}],\"table\":[{\"cells\":{\"fill\":{\"color\":\"#EBF0F8\"},\"line\":{\"color\":\"white\"}},\"header\":{\"fill\":{\"color\":\"#C8D4E3\"},\"line\":{\"color\":\"white\"}},\"type\":\"table\"}],\"barpolar\":[{\"marker\":{\"line\":{\"color\":\"#E5ECF6\",\"width\":0.5},\"pattern\":{\"fillmode\":\"overlay\",\"size\":10,\"solidity\":0.2}},\"type\":\"barpolar\"}],\"pie\":[{\"automargin\":true,\"type\":\"pie\"}]},\"layout\":{\"autotypenumbers\":\"strict\",\"colorway\":[\"#636efa\",\"#EF553B\",\"#00cc96\",\"#ab63fa\",\"#FFA15A\",\"#19d3f3\",\"#FF6692\",\"#B6E880\",\"#FF97FF\",\"#FECB52\"],\"font\":{\"color\":\"#2a3f5f\"},\"hovermode\":\"closest\",\"hoverlabel\":{\"align\":\"left\"},\"paper_bgcolor\":\"white\",\"plot_bgcolor\":\"#E5ECF6\",\"polar\":{\"bgcolor\":\"#E5ECF6\",\"angularaxis\":{\"gridcolor\":\"white\",\"linecolor\":\"white\",\"ticks\":\"\"},\"radialaxis\":{\"gridcolor\":\"white\",\"linecolor\":\"white\",\"ticks\":\"\"}},\"ternary\":{\"bgcolor\":\"#E5ECF6\",\"aaxis\":{\"gridcolor\":\"white\",\"linecolor\":\"white\",\"ticks\":\"\"},\"baxis\":{\"gridcolor\":\"white\",\"linecolor\":\"white\",\"ticks\":\"\"},\"caxis\":{\"gridcolor\":\"white\",\"linecolor\":\"white\",\"ticks\":\"\"}},\"coloraxis\":{\"colorbar\":{\"outlinewidth\":0,\"ticks\":\"\"}},\"colorscale\":{\"sequential\":[[0.0,\"#0d0887\"],[0.1111111111111111,\"#46039f\"],[0.2222222222222222,\"#7201a8\"],[0.3333333333333333,\"#9c179e\"],[0.4444444444444444,\"#bd3786\"],[0.5555555555555556,\"#d8576b\"],[0.6666666666666666,\"#ed7953\"],[0.7777777777777778,\"#fb9f3a\"],[0.8888888888888888,\"#fdca26\"],[1.0,\"#f0f921\"]],\"sequentialminus\":[[0.0,\"#0d0887\"],[0.1111111111111111,\"#46039f\"],[0.2222222222222222,\"#7201a8\"],[0.3333333333333333,\"#9c179e\"],[0.4444444444444444,\"#bd3786\"],[0.5555555555555556,\"#d8576b\"],[0.6666666666666666,\"#ed7953\"],[0.7777777777777778,\"#fb9f3a\"],[0.8888888888888888,\"#fdca26\"],[1.0,\"#f0f921\"]],\"diverging\":[[0,\"#8e0152\"],[0.1,\"#c51b7d\"],[0.2,\"#de77ae\"],[0.3,\"#f1b6da\"],[0.4,\"#fde0ef\"],[0.5,\"#f7f7f7\"],[0.6,\"#e6f5d0\"],[0.7,\"#b8e186\"],[0.8,\"#7fbc41\"],[0.9,\"#4d9221\"],[1,\"#276419\"]]},\"xaxis\":{\"gridcolor\":\"white\",\"linecolor\":\"white\",\"ticks\":\"\",\"title\":{\"standoff\":15},\"zerolinecolor\":\"white\",\"automargin\":true,\"zerolinewidth\":2},\"yaxis\":{\"gridcolor\":\"white\",\"linecolor\":\"white\",\"ticks\":\"\",\"title\":{\"standoff\":15},\"zerolinecolor\":\"white\",\"automargin\":true,\"zerolinewidth\":2},\"scene\":{\"xaxis\":{\"backgroundcolor\":\"#E5ECF6\",\"gridcolor\":\"white\",\"linecolor\":\"white\",\"showbackground\":true,\"ticks\":\"\",\"zerolinecolor\":\"white\",\"gridwidth\":2},\"yaxis\":{\"backgroundcolor\":\"#E5ECF6\",\"gridcolor\":\"white\",\"linecolor\":\"white\",\"showbackground\":true,\"ticks\":\"\",\"zerolinecolor\":\"white\",\"gridwidth\":2},\"zaxis\":{\"backgroundcolor\":\"#E5ECF6\",\"gridcolor\":\"white\",\"linecolor\":\"white\",\"showbackground\":true,\"ticks\":\"\",\"zerolinecolor\":\"white\",\"gridwidth\":2}},\"shapedefaults\":{\"line\":{\"color\":\"#2a3f5f\"}},\"annotationdefaults\":{\"arrowcolor\":\"#2a3f5f\",\"arrowhead\":0,\"arrowwidth\":1},\"geo\":{\"bgcolor\":\"white\",\"landcolor\":\"#E5ECF6\",\"subunitcolor\":\"white\",\"showland\":true,\"showlakes\":true,\"lakecolor\":\"white\"},\"title\":{\"x\":0.05},\"mapbox\":{\"style\":\"light\"}}},\"xaxis\":{\"anchor\":\"y\",\"domain\":[0.0,1.0],\"title\":{\"text\":\"price\"}},\"yaxis\":{\"anchor\":\"x\",\"domain\":[0.0,1.0],\"title\":{\"text\":\"first_token_price\"}},\"legend\":{\"tracegroupgap\":0},\"margin\":{\"t\":60}},                        {\"responsive\": true}                    ).then(function(){\n                            \nvar gd = document.getElementById('8e4fff6a-ccbb-4991-b9d6-43d23b7af0cb');\nvar x = new MutationObserver(function (mutations, observer) {{\n        var display = window.getComputedStyle(gd).display;\n        if (!display || display === 'none') {{\n            console.log([gd, 'removed!']);\n            Plotly.purge(gd);\n            observer.disconnect();\n        }}\n}});\n\n// Listen for the removal of the full notebook cells\nvar notebookContainer = gd.closest('#notebook-container');\nif (notebookContainer) {{\n    x.observe(notebookContainer, {childList: true});\n}}\n\n// Listen for the clearing of the current output cell\nvar outputEl = gd.closest('.output');\nif (outputEl) {{\n    x.observe(outputEl, {childList: true});\n}}\n\n                        })                };                });            </script>        </div>"
     },
     "metadata": {},
     "output_type": "display_data"
    }
   ],
   "source": [
    "import plotly.express as px\n",
    "\n",
    "px.scatter(procesed_df, x=\"price\", y=\"first_token_price\")"
   ]
  },
  {
   "cell_type": "code",
   "execution_count": 41,
   "id": "32de614c3ea3410a",
   "metadata": {
    "ExecuteTime": {
     "end_time": "2024-08-28T09:01:28.518610960Z",
     "start_time": "2024-08-28T09:01:28.516859243Z"
    },
    "collapsed": false
   },
   "outputs": [
    {
     "data": {
      "text/plain": "np.float64(0.717948717948718)"
     },
     "execution_count": 41,
     "metadata": {},
     "output_type": "execute_result"
    }
   ],
   "source": [
    "import numpy as np\n",
    "\n",
    "(\n",
    "    np.round(procesed_df.price, 0) == np.round(procesed_df.first_token_price, 0)\n",
    ").sum() / len(procesed_df)"
   ]
  },
  {
   "cell_type": "code",
   "execution_count": null,
   "id": "4ae9b1e412bdac00",
   "metadata": {
    "collapsed": false
   },
   "outputs": [],
   "source": []
  }
 ],
 "metadata": {
  "kernelspec": {
   "display_name": "Python 3",
   "language": "python",
   "name": "python3"
  },
  "language_info": {
   "codemirror_mode": {
    "name": "ipython",
    "version": 2
   },
   "file_extension": ".py",
   "mimetype": "text/x-python",
   "name": "python",
   "nbconvert_exporter": "python",
   "pygments_lexer": "ipython2",
   "version": "2.7.6"
  }
 },
 "nbformat": 4,
 "nbformat_minor": 5
}
