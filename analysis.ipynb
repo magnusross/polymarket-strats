{
 "cells": [
  {
   "cell_type": "code",
   "execution_count": 140,
   "id": "initial_id",
   "metadata": {
    "collapsed": true,
    "ExecuteTime": {
     "end_time": "2024-09-05T12:52:51.023785887Z",
     "start_time": "2024-09-05T12:52:50.742713620Z"
    }
   },
   "outputs": [
    {
     "data": {
      "text/plain": "winner                  string[python]\nloser                   string[python]\nis_draw                        boolean\nquestion                string[python]\ncondition_id            string[python]\nquestion_id             string[python]\nid                      string[python]\ndescription             string[python]\nend_date_iso            string[python]\numa_end_data            string[python]\nvolume                         Float64\nclosed                         boolean\nfirst_token_id          string[python]\nfirst_token_outcome     string[python]\nfirst_token_price              Float64\nsecond_token_id         string[python]\nsecond_token_outcome    string[python]\nsecond_token_price             Float64\ngame_start_time         datetime64[ns]\ndtype: object"
     },
     "execution_count": 140,
     "metadata": {},
     "output_type": "execute_result"
    }
   ],
   "source": [
    "import pandas as pd\n",
    "\n",
    "markets_info_df = pd.read_parquet(\"epl_markets.parquet\")\n",
    "all_histories = pd.read_parquet(\"token_histories.parquet\")\n",
    "markets_info_df.dtypes"
   ]
  },
  {
   "cell_type": "code",
   "execution_count": 141,
   "id": "5c3a6e5434e9c481",
   "metadata": {
    "collapsed": false,
    "ExecuteTime": {
     "end_time": "2024-09-05T12:52:52.016635608Z",
     "start_time": "2024-09-05T12:52:52.013826610Z"
    }
   },
   "outputs": [],
   "source": [
    "markets_info_df = markets_info_df.assign(\n",
    "    match_id=markets_info_df[[\"winner\", \"loser\", \"game_start_time\"]]\n",
    "    .agg(frozenset, axis=1)\n",
    "    .apply(hash)\n",
    ")"
   ]
  },
  {
   "cell_type": "code",
   "execution_count": 142,
   "id": "d4d48b48dd7fa603",
   "metadata": {
    "collapsed": false,
    "ExecuteTime": {
     "end_time": "2024-09-05T12:52:52.767623245Z",
     "start_time": "2024-09-05T12:52:52.750391565Z"
    }
   },
   "outputs": [
    {
     "data": {
      "text/plain": "                     winner                    loser        volume  closed  \\\n2          Newcastle United        Tottenham Hotspur   1648.157327    True   \n5                   Chelsea           Crystal Palace  10562.379214    True   \n8           Manchester City          West Ham United   4246.952856    True   \n11              Aston Villa           Leicester City   6130.092364    True   \n13              Bournemouth                  Everton   2343.687726    True   \n15                   Fulham             Ipswich Town   1958.268762    True   \n17        Nottingham Forest  Wolverhampton Wanderers   2678.878368    True   \n25                  Arsenal   Brighton & Hove Albion    8872.87221    True   \n26                Brentford              Southampton    502.707692    True   \n30                Brentford                Liverpool   9199.510944    True   \n33              Bournemouth         Newcastle United   4162.556595    True   \n36                  Chelsea  Wolverhampton Wanderers   5997.290636    True   \n38                  Arsenal              Aston Villa   5577.057493    True   \n45                  Everton        Tottenham Hotspur   8131.359812    True   \n46          Manchester City             Ipswich Town   3473.958097    True   \n54        Nottingham Forest              Southampton   3249.901986    True   \n55                   Fulham           Leicester City   2098.449725    True   \n56           Crystal Palace          West Ham United   4029.638629    True   \n57   Brighton & Hove Albion        Manchester United  15849.786412    True   \n58           Leicester City        Tottenham Hotspur  24546.561788    True   \n63                  Chelsea          Manchester City  11682.140654    True   \n64                Brentford           Crystal Palace   1492.639232    True   \n70              Aston Villa          West Ham United   2347.075767    True   \n73                  Arsenal  Wolverhampton Wanderers    753.267611    True   \n75         Newcastle United              Southampton    792.289394    True   \n78              Bournemouth        Nottingham Forest  11762.437828    True   \n80   Brighton & Hove Albion                  Everton    478.229104    True   \n84                Liverpool             Ipswich Town   1063.357305    True   \n86                   Fulham        Manchester United  35575.660334    True   \n176               Liverpool        Manchester United  19738.931366    True   \n\n                                     draw_yes_token_id  draw_yes_token_price  \\\n2    4968230879603371948866041796987077791752868535...                   0.0   \n5    6628081043611276835629741132699692180128963103...                   1.0   \n8    4652444992635632642529930521199192482880908236...                   0.0   \n11   7198006125524017729020999112949591754130072873...                   0.0   \n13   6979466265655015180736494637283075984297819167...                   0.0   \n15   1056239115982502641842514644390919491396338064...                   1.0   \n17   1922636093149757117752916299704362461806023417...                   1.0   \n25   3282101053200081500732589041854931815637585813...                   1.0   \n26   3102412140979869086108516105922538862811635984...                   0.0   \n30   4937274880027886183807479622344736653709925151...                   0.0   \n33   9048290216715822669728345412856006694560460510...                   1.0   \n36   2669948816667389679952961159118377490819933872...                   0.0   \n38   3984949472265518240895263056129376916184709390...                   0.0   \n45   1030756381874894962188194491483407194908508542...                   0.0   \n46   8635915436035463467856304212862722541649139336...                   0.0   \n54   1023502335964161516192191431308073662125875606...                   0.0   \n55   8573518884612686090908478468464167480657353847...                   0.0   \n56   9554407256829296345146719819597792373406094240...                   0.0   \n57   9251162583240927984496059688535910213923573518...                   0.0   \n58   1092150698655357541278584944054193986397459611...                   1.0   \n63   9235149848008054060490035014978016041910731296...                   0.0   \n64   3009219378362503783120539603216859989448679922...                   0.0   \n70   2532192871106907135935473814725416209094440745...                   0.0   \n73   6991194735553612848038250487034629546236464121...                   0.0   \n75   9446028769889790347069042358640515469682078849...                   0.0   \n78   5548849022392522826256320455747757471022017206...                   1.0   \n80   9304919452958376896948055473437428899642005415...                   0.0   \n84   9540005954158311246396907146026386130907160950...                   0.0   \n86   4574822642040335406924607620918373394202085737...                   0.0   \n176  5748346962930599168820369398523887618224462408...                   0.0   \n\n                                      draw_no_token_id  draw_no_token_price  \\\n2    6486150380988866473748206016838559835962169397...                  1.0   \n5    2038204275565301344807054547965085333069777021...                  0.0   \n8    5519563340748631936641826338054313097421920479...                  1.0   \n11   1108105314871755573169486973066833564111072150...                  1.0   \n13   9201488080747150865847341565897594405713204637...                  1.0   \n15   6474528836620100582363221559257100699919142728...                  0.0   \n17   1072383393901019078745413673212653811002433746...                  0.0   \n25   5646917549123102449163419527608818678170441410...                  0.0   \n26   1071771006010210786837770353476734639789497155...                  1.0   \n30   8933757800840528696678082589188567084286739295...                  1.0   \n33   2081943794877508791078019192487212357316597380...                  0.0   \n36   9345163663462117530864421716810644385871310572...                  1.0   \n38   4485337955163659016002637467309784252215764770...                  1.0   \n45   1065955351846421313987627768369814483760100781...                  1.0   \n46   2684865682111585531196272682439415627946860772...                  1.0   \n54   7609766072672013523728429479250792043771199824...                  1.0   \n55   1815059595045740714942503862018463711066903613...                  1.0   \n56   1154766797920305868052899971040407028071036858...                  1.0   \n57   8310108723809550530413844159414015681331768326...                  1.0   \n58   7969158721120412268685074789077235878213919874...                  0.0   \n63   1973119911403294056966328834312271279094967896...                  1.0   \n64   2629166468993578745643089517480206338817416906...                  1.0   \n70   9704881586517114115511717036962037270461276676...                  1.0   \n73   5262318723269700375203161846345002558649857960...                  1.0   \n75   2180189139190563354478432591385881887983722370...                  1.0   \n78   1287798470161381994661331765600389966380379915...                  0.0   \n80   3447947886944640827701489797204784932790754822...                  1.0   \n84   2855830619693306362215765671441184555426887207...                  1.0   \n86   9413900031581212950670543634633325437183025849...                  1.0   \n176  1140402873184196006623330813957637322465116705...                  1.0   \n\n        game_start_time             match_id  \n2   2024-09-01 12:30:00 -7021113643698515774  \n5   2024-09-01 12:30:00   976617573959895639  \n8   2024-08-31 16:30:00   243350930839179468  \n11  2024-08-31 14:00:00  -759681699818020003  \n13  2024-08-31 14:00:00  7114991348099034180  \n15  2024-08-31 14:00:00 -7686705775813752617  \n17  2024-08-31 14:00:00 -6606115192345121424  \n25  2024-08-31 11:30:00 -6178097404848359776  \n26  2024-08-31 14:00:00 -1960004041559828337  \n30  2024-08-25 15:30:00 -6372488427790714442  \n33  2024-08-25 13:00:00 -7207986795286300592  \n36  2024-08-25 13:00:00  1436906738194619564  \n38  2024-08-24 16:30:00  6558637850094995970  \n45  2024-08-24 14:00:00 -4473749050102683384  \n46  2024-08-24 14:00:00  5474862885669447301  \n54  2024-08-24 14:00:00  6627028072653977744  \n55  2024-08-24 14:00:00 -5668478559215340077  \n56  2024-08-24 14:00:00  1377212323258161019  \n57  2024-08-24 11:30:00  3676152965018794107  \n58  2024-08-19 19:00:00   566101740155459773  \n63  2024-08-18 15:30:00  4695431331216630878  \n64  2024-08-18 13:00:00  5683784463457326474  \n70  2024-08-17 16:30:00  4133713339814173687  \n73  2024-08-17 14:00:00  -568488610496461985  \n75  2024-08-17 14:00:00  3249248685185371228  \n78  2024-08-17 14:00:00  3222644086984654977  \n80  2024-08-17 14:00:00  -937966214669850518  \n84  2024-08-17 11:30:00  9058556983094558512  \n86  2024-08-16 19:00:00 -1958410684441444657  \n176 2024-09-01 15:00:00  8403341662787711466  ",
      "text/html": "<div>\n<style scoped>\n    .dataframe tbody tr th:only-of-type {\n        vertical-align: middle;\n    }\n\n    .dataframe tbody tr th {\n        vertical-align: top;\n    }\n\n    .dataframe thead th {\n        text-align: right;\n    }\n</style>\n<table border=\"1\" class=\"dataframe\">\n  <thead>\n    <tr style=\"text-align: right;\">\n      <th></th>\n      <th>winner</th>\n      <th>loser</th>\n      <th>volume</th>\n      <th>closed</th>\n      <th>draw_yes_token_id</th>\n      <th>draw_yes_token_price</th>\n      <th>draw_no_token_id</th>\n      <th>draw_no_token_price</th>\n      <th>game_start_time</th>\n      <th>match_id</th>\n    </tr>\n  </thead>\n  <tbody>\n    <tr>\n      <th>2</th>\n      <td>Newcastle United</td>\n      <td>Tottenham Hotspur</td>\n      <td>1648.157327</td>\n      <td>True</td>\n      <td>4968230879603371948866041796987077791752868535...</td>\n      <td>0.0</td>\n      <td>6486150380988866473748206016838559835962169397...</td>\n      <td>1.0</td>\n      <td>2024-09-01 12:30:00</td>\n      <td>-7021113643698515774</td>\n    </tr>\n    <tr>\n      <th>5</th>\n      <td>Chelsea</td>\n      <td>Crystal Palace</td>\n      <td>10562.379214</td>\n      <td>True</td>\n      <td>6628081043611276835629741132699692180128963103...</td>\n      <td>1.0</td>\n      <td>2038204275565301344807054547965085333069777021...</td>\n      <td>0.0</td>\n      <td>2024-09-01 12:30:00</td>\n      <td>976617573959895639</td>\n    </tr>\n    <tr>\n      <th>8</th>\n      <td>Manchester City</td>\n      <td>West Ham United</td>\n      <td>4246.952856</td>\n      <td>True</td>\n      <td>4652444992635632642529930521199192482880908236...</td>\n      <td>0.0</td>\n      <td>5519563340748631936641826338054313097421920479...</td>\n      <td>1.0</td>\n      <td>2024-08-31 16:30:00</td>\n      <td>243350930839179468</td>\n    </tr>\n    <tr>\n      <th>11</th>\n      <td>Aston Villa</td>\n      <td>Leicester City</td>\n      <td>6130.092364</td>\n      <td>True</td>\n      <td>7198006125524017729020999112949591754130072873...</td>\n      <td>0.0</td>\n      <td>1108105314871755573169486973066833564111072150...</td>\n      <td>1.0</td>\n      <td>2024-08-31 14:00:00</td>\n      <td>-759681699818020003</td>\n    </tr>\n    <tr>\n      <th>13</th>\n      <td>Bournemouth</td>\n      <td>Everton</td>\n      <td>2343.687726</td>\n      <td>True</td>\n      <td>6979466265655015180736494637283075984297819167...</td>\n      <td>0.0</td>\n      <td>9201488080747150865847341565897594405713204637...</td>\n      <td>1.0</td>\n      <td>2024-08-31 14:00:00</td>\n      <td>7114991348099034180</td>\n    </tr>\n    <tr>\n      <th>15</th>\n      <td>Fulham</td>\n      <td>Ipswich Town</td>\n      <td>1958.268762</td>\n      <td>True</td>\n      <td>1056239115982502641842514644390919491396338064...</td>\n      <td>1.0</td>\n      <td>6474528836620100582363221559257100699919142728...</td>\n      <td>0.0</td>\n      <td>2024-08-31 14:00:00</td>\n      <td>-7686705775813752617</td>\n    </tr>\n    <tr>\n      <th>17</th>\n      <td>Nottingham Forest</td>\n      <td>Wolverhampton Wanderers</td>\n      <td>2678.878368</td>\n      <td>True</td>\n      <td>1922636093149757117752916299704362461806023417...</td>\n      <td>1.0</td>\n      <td>1072383393901019078745413673212653811002433746...</td>\n      <td>0.0</td>\n      <td>2024-08-31 14:00:00</td>\n      <td>-6606115192345121424</td>\n    </tr>\n    <tr>\n      <th>25</th>\n      <td>Arsenal</td>\n      <td>Brighton &amp; Hove Albion</td>\n      <td>8872.87221</td>\n      <td>True</td>\n      <td>3282101053200081500732589041854931815637585813...</td>\n      <td>1.0</td>\n      <td>5646917549123102449163419527608818678170441410...</td>\n      <td>0.0</td>\n      <td>2024-08-31 11:30:00</td>\n      <td>-6178097404848359776</td>\n    </tr>\n    <tr>\n      <th>26</th>\n      <td>Brentford</td>\n      <td>Southampton</td>\n      <td>502.707692</td>\n      <td>True</td>\n      <td>3102412140979869086108516105922538862811635984...</td>\n      <td>0.0</td>\n      <td>1071771006010210786837770353476734639789497155...</td>\n      <td>1.0</td>\n      <td>2024-08-31 14:00:00</td>\n      <td>-1960004041559828337</td>\n    </tr>\n    <tr>\n      <th>30</th>\n      <td>Brentford</td>\n      <td>Liverpool</td>\n      <td>9199.510944</td>\n      <td>True</td>\n      <td>4937274880027886183807479622344736653709925151...</td>\n      <td>0.0</td>\n      <td>8933757800840528696678082589188567084286739295...</td>\n      <td>1.0</td>\n      <td>2024-08-25 15:30:00</td>\n      <td>-6372488427790714442</td>\n    </tr>\n    <tr>\n      <th>33</th>\n      <td>Bournemouth</td>\n      <td>Newcastle United</td>\n      <td>4162.556595</td>\n      <td>True</td>\n      <td>9048290216715822669728345412856006694560460510...</td>\n      <td>1.0</td>\n      <td>2081943794877508791078019192487212357316597380...</td>\n      <td>0.0</td>\n      <td>2024-08-25 13:00:00</td>\n      <td>-7207986795286300592</td>\n    </tr>\n    <tr>\n      <th>36</th>\n      <td>Chelsea</td>\n      <td>Wolverhampton Wanderers</td>\n      <td>5997.290636</td>\n      <td>True</td>\n      <td>2669948816667389679952961159118377490819933872...</td>\n      <td>0.0</td>\n      <td>9345163663462117530864421716810644385871310572...</td>\n      <td>1.0</td>\n      <td>2024-08-25 13:00:00</td>\n      <td>1436906738194619564</td>\n    </tr>\n    <tr>\n      <th>38</th>\n      <td>Arsenal</td>\n      <td>Aston Villa</td>\n      <td>5577.057493</td>\n      <td>True</td>\n      <td>3984949472265518240895263056129376916184709390...</td>\n      <td>0.0</td>\n      <td>4485337955163659016002637467309784252215764770...</td>\n      <td>1.0</td>\n      <td>2024-08-24 16:30:00</td>\n      <td>6558637850094995970</td>\n    </tr>\n    <tr>\n      <th>45</th>\n      <td>Everton</td>\n      <td>Tottenham Hotspur</td>\n      <td>8131.359812</td>\n      <td>True</td>\n      <td>1030756381874894962188194491483407194908508542...</td>\n      <td>0.0</td>\n      <td>1065955351846421313987627768369814483760100781...</td>\n      <td>1.0</td>\n      <td>2024-08-24 14:00:00</td>\n      <td>-4473749050102683384</td>\n    </tr>\n    <tr>\n      <th>46</th>\n      <td>Manchester City</td>\n      <td>Ipswich Town</td>\n      <td>3473.958097</td>\n      <td>True</td>\n      <td>8635915436035463467856304212862722541649139336...</td>\n      <td>0.0</td>\n      <td>2684865682111585531196272682439415627946860772...</td>\n      <td>1.0</td>\n      <td>2024-08-24 14:00:00</td>\n      <td>5474862885669447301</td>\n    </tr>\n    <tr>\n      <th>54</th>\n      <td>Nottingham Forest</td>\n      <td>Southampton</td>\n      <td>3249.901986</td>\n      <td>True</td>\n      <td>1023502335964161516192191431308073662125875606...</td>\n      <td>0.0</td>\n      <td>7609766072672013523728429479250792043771199824...</td>\n      <td>1.0</td>\n      <td>2024-08-24 14:00:00</td>\n      <td>6627028072653977744</td>\n    </tr>\n    <tr>\n      <th>55</th>\n      <td>Fulham</td>\n      <td>Leicester City</td>\n      <td>2098.449725</td>\n      <td>True</td>\n      <td>8573518884612686090908478468464167480657353847...</td>\n      <td>0.0</td>\n      <td>1815059595045740714942503862018463711066903613...</td>\n      <td>1.0</td>\n      <td>2024-08-24 14:00:00</td>\n      <td>-5668478559215340077</td>\n    </tr>\n    <tr>\n      <th>56</th>\n      <td>Crystal Palace</td>\n      <td>West Ham United</td>\n      <td>4029.638629</td>\n      <td>True</td>\n      <td>9554407256829296345146719819597792373406094240...</td>\n      <td>0.0</td>\n      <td>1154766797920305868052899971040407028071036858...</td>\n      <td>1.0</td>\n      <td>2024-08-24 14:00:00</td>\n      <td>1377212323258161019</td>\n    </tr>\n    <tr>\n      <th>57</th>\n      <td>Brighton &amp; Hove Albion</td>\n      <td>Manchester United</td>\n      <td>15849.786412</td>\n      <td>True</td>\n      <td>9251162583240927984496059688535910213923573518...</td>\n      <td>0.0</td>\n      <td>8310108723809550530413844159414015681331768326...</td>\n      <td>1.0</td>\n      <td>2024-08-24 11:30:00</td>\n      <td>3676152965018794107</td>\n    </tr>\n    <tr>\n      <th>58</th>\n      <td>Leicester City</td>\n      <td>Tottenham Hotspur</td>\n      <td>24546.561788</td>\n      <td>True</td>\n      <td>1092150698655357541278584944054193986397459611...</td>\n      <td>1.0</td>\n      <td>7969158721120412268685074789077235878213919874...</td>\n      <td>0.0</td>\n      <td>2024-08-19 19:00:00</td>\n      <td>566101740155459773</td>\n    </tr>\n    <tr>\n      <th>63</th>\n      <td>Chelsea</td>\n      <td>Manchester City</td>\n      <td>11682.140654</td>\n      <td>True</td>\n      <td>9235149848008054060490035014978016041910731296...</td>\n      <td>0.0</td>\n      <td>1973119911403294056966328834312271279094967896...</td>\n      <td>1.0</td>\n      <td>2024-08-18 15:30:00</td>\n      <td>4695431331216630878</td>\n    </tr>\n    <tr>\n      <th>64</th>\n      <td>Brentford</td>\n      <td>Crystal Palace</td>\n      <td>1492.639232</td>\n      <td>True</td>\n      <td>3009219378362503783120539603216859989448679922...</td>\n      <td>0.0</td>\n      <td>2629166468993578745643089517480206338817416906...</td>\n      <td>1.0</td>\n      <td>2024-08-18 13:00:00</td>\n      <td>5683784463457326474</td>\n    </tr>\n    <tr>\n      <th>70</th>\n      <td>Aston Villa</td>\n      <td>West Ham United</td>\n      <td>2347.075767</td>\n      <td>True</td>\n      <td>2532192871106907135935473814725416209094440745...</td>\n      <td>0.0</td>\n      <td>9704881586517114115511717036962037270461276676...</td>\n      <td>1.0</td>\n      <td>2024-08-17 16:30:00</td>\n      <td>4133713339814173687</td>\n    </tr>\n    <tr>\n      <th>73</th>\n      <td>Arsenal</td>\n      <td>Wolverhampton Wanderers</td>\n      <td>753.267611</td>\n      <td>True</td>\n      <td>6991194735553612848038250487034629546236464121...</td>\n      <td>0.0</td>\n      <td>5262318723269700375203161846345002558649857960...</td>\n      <td>1.0</td>\n      <td>2024-08-17 14:00:00</td>\n      <td>-568488610496461985</td>\n    </tr>\n    <tr>\n      <th>75</th>\n      <td>Newcastle United</td>\n      <td>Southampton</td>\n      <td>792.289394</td>\n      <td>True</td>\n      <td>9446028769889790347069042358640515469682078849...</td>\n      <td>0.0</td>\n      <td>2180189139190563354478432591385881887983722370...</td>\n      <td>1.0</td>\n      <td>2024-08-17 14:00:00</td>\n      <td>3249248685185371228</td>\n    </tr>\n    <tr>\n      <th>78</th>\n      <td>Bournemouth</td>\n      <td>Nottingham Forest</td>\n      <td>11762.437828</td>\n      <td>True</td>\n      <td>5548849022392522826256320455747757471022017206...</td>\n      <td>1.0</td>\n      <td>1287798470161381994661331765600389966380379915...</td>\n      <td>0.0</td>\n      <td>2024-08-17 14:00:00</td>\n      <td>3222644086984654977</td>\n    </tr>\n    <tr>\n      <th>80</th>\n      <td>Brighton &amp; Hove Albion</td>\n      <td>Everton</td>\n      <td>478.229104</td>\n      <td>True</td>\n      <td>9304919452958376896948055473437428899642005415...</td>\n      <td>0.0</td>\n      <td>3447947886944640827701489797204784932790754822...</td>\n      <td>1.0</td>\n      <td>2024-08-17 14:00:00</td>\n      <td>-937966214669850518</td>\n    </tr>\n    <tr>\n      <th>84</th>\n      <td>Liverpool</td>\n      <td>Ipswich Town</td>\n      <td>1063.357305</td>\n      <td>True</td>\n      <td>9540005954158311246396907146026386130907160950...</td>\n      <td>0.0</td>\n      <td>2855830619693306362215765671441184555426887207...</td>\n      <td>1.0</td>\n      <td>2024-08-17 11:30:00</td>\n      <td>9058556983094558512</td>\n    </tr>\n    <tr>\n      <th>86</th>\n      <td>Fulham</td>\n      <td>Manchester United</td>\n      <td>35575.660334</td>\n      <td>True</td>\n      <td>4574822642040335406924607620918373394202085737...</td>\n      <td>0.0</td>\n      <td>9413900031581212950670543634633325437183025849...</td>\n      <td>1.0</td>\n      <td>2024-08-16 19:00:00</td>\n      <td>-1958410684441444657</td>\n    </tr>\n    <tr>\n      <th>176</th>\n      <td>Liverpool</td>\n      <td>Manchester United</td>\n      <td>19738.931366</td>\n      <td>True</td>\n      <td>5748346962930599168820369398523887618224462408...</td>\n      <td>0.0</td>\n      <td>1140402873184196006623330813957637322465116705...</td>\n      <td>1.0</td>\n      <td>2024-09-01 15:00:00</td>\n      <td>8403341662787711466</td>\n    </tr>\n  </tbody>\n</table>\n</div>"
     },
     "execution_count": 142,
     "metadata": {},
     "output_type": "execute_result"
    }
   ],
   "source": [
    "traded_df = markets_info_df[markets_info_df.volume > 0.01].drop_duplicates()\n",
    "markets_info_traded_df_draws = (\n",
    "    traded_df[traded_df.is_draw]\n",
    "    .drop(columns=[c for c in traded_df.columns if \"outcome\" in c])\n",
    "    .rename(columns={c: c.replace(\"first\", \"draw_yes\") for c in traded_df.columns})\n",
    "    .rename(columns={c: c.replace(\"second\", \"draw_no\") for c in traded_df.columns})\n",
    "    .drop(\n",
    "        columns=[\n",
    "            \"is_draw\",\n",
    "            \"question\",\n",
    "            \"condition_id\",\n",
    "            \"question_id\",\n",
    "            \"id\",\n",
    "            \"description\",\n",
    "            \"end_date_iso\",\n",
    "            \"uma_end_data\",\n",
    "        ]\n",
    "    )\n",
    ")\n",
    "markets_info_traded_df_draws"
   ]
  },
  {
   "cell_type": "code",
   "execution_count": 143,
   "id": "cb9c59d5a1302d6b",
   "metadata": {
    "collapsed": false,
    "ExecuteTime": {
     "end_time": "2024-09-05T12:52:52.950363897Z",
     "start_time": "2024-09-05T12:52:52.909599915Z"
    }
   },
   "outputs": [
    {
     "data": {
      "text/plain": "                 loser                   winner        volume  closed  \\\n0    Manchester United                Liverpool  27321.177281    True   \n1       Crystal Palace                  Chelsea  16465.558516    True   \n3              Chelsea           Crystal Palace   74848.61748    True   \n4     Newcastle United        Tottenham Hotspur  16197.184165    True   \n6    Tottenham Hotspur         Newcastle United   5338.051969    True   \n..                 ...                      ...           ...     ...   \n214          Liverpool              Aston Villa     62.783485    True   \n215            Arsenal        Manchester United     24.285713    True   \n219            Arsenal              Bournemouth     37.138885    True   \n220     Crystal Palace  Wolverhampton Wanderers      0.068964    True   \n222            Chelsea        Nottingham Forest      62.92794    True   \n\n                               second_win_yes_token_id  \\\n0    1070268098614301483769400035048192945868028748...   \n1    2240836493145815788231779528861370764772082802...   \n3    8473141659136127648919471372081023410636831516...   \n4    3902396297125861646265048524779791779669292294...   \n6    5462649995618436636028509551748704905681350869...   \n..                                                 ...   \n214  6039475446325558590610830792923439094235664256...   \n215  5719121657815100684863998168411340463668945474...   \n219  3476227583566235893385207197809170546483891999...   \n220  3991272135719335455425689967467591073248100202...   \n222  9475819631454689694179666850125678465766941241...   \n\n     second_win_yes_token_price  \\\n0                           0.0   \n1                           0.0   \n3                           0.0   \n4                           1.0   \n6                           0.0   \n..                          ...   \n214                         1.0   \n215                         1.0   \n219                         1.0   \n220                         1.0   \n222                         0.0   \n\n                                second_win_no_token_id  \\\n0    4641946105864093247918510751580466890037570902...   \n1    9112607163262702891896524070679080530791126243...   \n3    7168237386744928574044957256855095466455619768...   \n4    6390143151867843714655104214159797394603648846...   \n6    5130458727082798673488813540528413902741629816...   \n..                                                 ...   \n214  7478682910843262796119864286568811611031017045...   \n215  4633691986224411951686891585684086012813294716...   \n219  6626472848259693355623768601741507876320467959...   \n220  4095702638071914562064741827563675366981703730...   \n222  1035505651984493656016183804289054275105833787...   \n\n     second_win_no_token_price     game_start_time             match_id  \n0                          1.0 2024-09-01 15:00:00  8403341662787711466  \n1                          1.0 2024-09-01 12:30:00   976617573959895639  \n3                          1.0 2024-09-01 12:30:00   976617573959895639  \n4                          0.0 2024-09-01 12:30:00 -7021113643698515774  \n6                          1.0 2024-09-01 12:30:00 -7021113643698515774  \n..                         ...                 ...                  ...  \n214                        0.0 2023-09-03 11:00:00 -4527743939016230220  \n215                        0.0 2023-09-03 13:30:00 -4306841848665369009  \n219                        0.0 2023-09-30 14:00:00   352885978626819290  \n220                        0.0 2023-09-03 11:00:00  1866254063103686471  \n222                        1.0 2023-09-02 12:00:00  4339863824168751038  \n\n[83 rows x 10 columns]",
      "text/html": "<div>\n<style scoped>\n    .dataframe tbody tr th:only-of-type {\n        vertical-align: middle;\n    }\n\n    .dataframe tbody tr th {\n        vertical-align: top;\n    }\n\n    .dataframe thead th {\n        text-align: right;\n    }\n</style>\n<table border=\"1\" class=\"dataframe\">\n  <thead>\n    <tr style=\"text-align: right;\">\n      <th></th>\n      <th>loser</th>\n      <th>winner</th>\n      <th>volume</th>\n      <th>closed</th>\n      <th>second_win_yes_token_id</th>\n      <th>second_win_yes_token_price</th>\n      <th>second_win_no_token_id</th>\n      <th>second_win_no_token_price</th>\n      <th>game_start_time</th>\n      <th>match_id</th>\n    </tr>\n  </thead>\n  <tbody>\n    <tr>\n      <th>0</th>\n      <td>Manchester United</td>\n      <td>Liverpool</td>\n      <td>27321.177281</td>\n      <td>True</td>\n      <td>1070268098614301483769400035048192945868028748...</td>\n      <td>0.0</td>\n      <td>4641946105864093247918510751580466890037570902...</td>\n      <td>1.0</td>\n      <td>2024-09-01 15:00:00</td>\n      <td>8403341662787711466</td>\n    </tr>\n    <tr>\n      <th>1</th>\n      <td>Crystal Palace</td>\n      <td>Chelsea</td>\n      <td>16465.558516</td>\n      <td>True</td>\n      <td>2240836493145815788231779528861370764772082802...</td>\n      <td>0.0</td>\n      <td>9112607163262702891896524070679080530791126243...</td>\n      <td>1.0</td>\n      <td>2024-09-01 12:30:00</td>\n      <td>976617573959895639</td>\n    </tr>\n    <tr>\n      <th>3</th>\n      <td>Chelsea</td>\n      <td>Crystal Palace</td>\n      <td>74848.61748</td>\n      <td>True</td>\n      <td>8473141659136127648919471372081023410636831516...</td>\n      <td>0.0</td>\n      <td>7168237386744928574044957256855095466455619768...</td>\n      <td>1.0</td>\n      <td>2024-09-01 12:30:00</td>\n      <td>976617573959895639</td>\n    </tr>\n    <tr>\n      <th>4</th>\n      <td>Newcastle United</td>\n      <td>Tottenham Hotspur</td>\n      <td>16197.184165</td>\n      <td>True</td>\n      <td>3902396297125861646265048524779791779669292294...</td>\n      <td>1.0</td>\n      <td>6390143151867843714655104214159797394603648846...</td>\n      <td>0.0</td>\n      <td>2024-09-01 12:30:00</td>\n      <td>-7021113643698515774</td>\n    </tr>\n    <tr>\n      <th>6</th>\n      <td>Tottenham Hotspur</td>\n      <td>Newcastle United</td>\n      <td>5338.051969</td>\n      <td>True</td>\n      <td>5462649995618436636028509551748704905681350869...</td>\n      <td>0.0</td>\n      <td>5130458727082798673488813540528413902741629816...</td>\n      <td>1.0</td>\n      <td>2024-09-01 12:30:00</td>\n      <td>-7021113643698515774</td>\n    </tr>\n    <tr>\n      <th>...</th>\n      <td>...</td>\n      <td>...</td>\n      <td>...</td>\n      <td>...</td>\n      <td>...</td>\n      <td>...</td>\n      <td>...</td>\n      <td>...</td>\n      <td>...</td>\n      <td>...</td>\n    </tr>\n    <tr>\n      <th>214</th>\n      <td>Liverpool</td>\n      <td>Aston Villa</td>\n      <td>62.783485</td>\n      <td>True</td>\n      <td>6039475446325558590610830792923439094235664256...</td>\n      <td>1.0</td>\n      <td>7478682910843262796119864286568811611031017045...</td>\n      <td>0.0</td>\n      <td>2023-09-03 11:00:00</td>\n      <td>-4527743939016230220</td>\n    </tr>\n    <tr>\n      <th>215</th>\n      <td>Arsenal</td>\n      <td>Manchester United</td>\n      <td>24.285713</td>\n      <td>True</td>\n      <td>5719121657815100684863998168411340463668945474...</td>\n      <td>1.0</td>\n      <td>4633691986224411951686891585684086012813294716...</td>\n      <td>0.0</td>\n      <td>2023-09-03 13:30:00</td>\n      <td>-4306841848665369009</td>\n    </tr>\n    <tr>\n      <th>219</th>\n      <td>Arsenal</td>\n      <td>Bournemouth</td>\n      <td>37.138885</td>\n      <td>True</td>\n      <td>3476227583566235893385207197809170546483891999...</td>\n      <td>1.0</td>\n      <td>6626472848259693355623768601741507876320467959...</td>\n      <td>0.0</td>\n      <td>2023-09-30 14:00:00</td>\n      <td>352885978626819290</td>\n    </tr>\n    <tr>\n      <th>220</th>\n      <td>Crystal Palace</td>\n      <td>Wolverhampton Wanderers</td>\n      <td>0.068964</td>\n      <td>True</td>\n      <td>3991272135719335455425689967467591073248100202...</td>\n      <td>1.0</td>\n      <td>4095702638071914562064741827563675366981703730...</td>\n      <td>0.0</td>\n      <td>2023-09-03 11:00:00</td>\n      <td>1866254063103686471</td>\n    </tr>\n    <tr>\n      <th>222</th>\n      <td>Chelsea</td>\n      <td>Nottingham Forest</td>\n      <td>62.92794</td>\n      <td>True</td>\n      <td>9475819631454689694179666850125678465766941241...</td>\n      <td>0.0</td>\n      <td>1035505651984493656016183804289054275105833787...</td>\n      <td>1.0</td>\n      <td>2023-09-02 12:00:00</td>\n      <td>4339863824168751038</td>\n    </tr>\n  </tbody>\n</table>\n<p>83 rows × 10 columns</p>\n</div>"
     },
     "execution_count": 143,
     "metadata": {},
     "output_type": "execute_result"
    }
   ],
   "source": [
    "traded_wl_df = (\n",
    "    traded_df[~traded_df.is_draw]\n",
    "    .drop(columns=[c for c in traded_df.columns if \"outcome\" in c])\n",
    "    .rename(columns={c: c.replace(\"first\", \"first_win_yes\") for c in traded_df.columns})\n",
    "    .rename(columns={c: c.replace(\"second\", \"first_win_no\") for c in traded_df.columns})\n",
    "    .drop(\n",
    "        columns=[\n",
    "            \"is_draw\",\n",
    "            \"question\",\n",
    "            \"condition_id\",\n",
    "            \"question_id\",\n",
    "            \"id\",\n",
    "            \"description\",\n",
    "            \"end_date_iso\",\n",
    "            \"uma_end_data\",\n",
    "        ]\n",
    "    )\n",
    ")\n",
    "\n",
    "traded_wl_df_switched = (\n",
    "    traded_df[~traded_df.is_draw]\n",
    "    .drop(columns=[c for c in traded_df.columns if \"outcome\" in c])\n",
    "    .rename(columns={\"winner\": \"loser\", \"loser\": \"winner\"})\n",
    "    .rename(\n",
    "        columns={c: c.replace(\"first\", \"second_win_yes\") for c in traded_df.columns}\n",
    "    )\n",
    "    .rename(\n",
    "        columns={c: c.replace(\"second\", \"second_win_no\") for c in traded_df.columns}\n",
    "    )\n",
    "    .drop(\n",
    "        columns=[\n",
    "            \"is_draw\",\n",
    "            \"question\",\n",
    "            \"condition_id\",\n",
    "            \"question_id\",\n",
    "            \"id\",\n",
    "            \"description\",\n",
    "            \"end_date_iso\",\n",
    "            \"uma_end_data\",\n",
    "        ]\n",
    "    )\n",
    ")\n",
    "\n",
    "traded_wl_df_switched"
   ]
  },
  {
   "cell_type": "code",
   "execution_count": 144,
   "id": "9c1c0148d1411935",
   "metadata": {
    "collapsed": false,
    "ExecuteTime": {
     "end_time": "2024-09-05T12:52:53.128107729Z",
     "start_time": "2024-09-05T12:52:53.083378744Z"
    }
   },
   "outputs": [
    {
     "data": {
      "text/plain": "                winner                    loser        volume  closed  \\\n0    Manchester United                Liverpool  27321.177281    True   \n1       Crystal Palace                  Chelsea  16465.558516    True   \n3              Chelsea           Crystal Palace   74848.61748    True   \n4     Newcastle United        Tottenham Hotspur  16197.184165    True   \n6    Tottenham Hotspur         Newcastle United   5338.051969    True   \n..                 ...                      ...           ...     ...   \n214          Liverpool              Aston Villa     62.783485    True   \n215            Arsenal        Manchester United     24.285713    True   \n219            Arsenal              Bournemouth     37.138885    True   \n220     Crystal Palace  Wolverhampton Wanderers      0.068964    True   \n222            Chelsea        Nottingham Forest      62.92794    True   \n\n                                first_win_yes_token_id  \\\n0    1070268098614301483769400035048192945868028748...   \n1    2240836493145815788231779528861370764772082802...   \n3    8473141659136127648919471372081023410636831516...   \n4    3902396297125861646265048524779791779669292294...   \n6    5462649995618436636028509551748704905681350869...   \n..                                                 ...   \n214  6039475446325558590610830792923439094235664256...   \n215  5719121657815100684863998168411340463668945474...   \n219  3476227583566235893385207197809170546483891999...   \n220  3991272135719335455425689967467591073248100202...   \n222  9475819631454689694179666850125678465766941241...   \n\n     first_win_yes_token_price  \\\n0                          0.0   \n1                          0.0   \n3                          0.0   \n4                          1.0   \n6                          0.0   \n..                         ...   \n214                        1.0   \n215                        1.0   \n219                        1.0   \n220                        1.0   \n222                        0.0   \n\n                                 first_win_no_token_id  \\\n0    4641946105864093247918510751580466890037570902...   \n1    9112607163262702891896524070679080530791126243...   \n3    7168237386744928574044957256855095466455619768...   \n4    6390143151867843714655104214159797394603648846...   \n6    5130458727082798673488813540528413902741629816...   \n..                                                 ...   \n214  7478682910843262796119864286568811611031017045...   \n215  4633691986224411951686891585684086012813294716...   \n219  6626472848259693355623768601741507876320467959...   \n220  4095702638071914562064741827563675366981703730...   \n222  1035505651984493656016183804289054275105833787...   \n\n     first_win_no_token_price     game_start_time             match_id  \n0                         1.0 2024-09-01 15:00:00  8403341662787711466  \n1                         1.0 2024-09-01 12:30:00   976617573959895639  \n3                         1.0 2024-09-01 12:30:00   976617573959895639  \n4                         0.0 2024-09-01 12:30:00 -7021113643698515774  \n6                         1.0 2024-09-01 12:30:00 -7021113643698515774  \n..                        ...                 ...                  ...  \n214                       0.0 2023-09-03 11:00:00 -4527743939016230220  \n215                       0.0 2023-09-03 13:30:00 -4306841848665369009  \n219                       0.0 2023-09-30 14:00:00   352885978626819290  \n220                       0.0 2023-09-03 11:00:00  1866254063103686471  \n222                       1.0 2023-09-02 12:00:00  4339863824168751038  \n\n[83 rows x 10 columns]",
      "text/html": "<div>\n<style scoped>\n    .dataframe tbody tr th:only-of-type {\n        vertical-align: middle;\n    }\n\n    .dataframe tbody tr th {\n        vertical-align: top;\n    }\n\n    .dataframe thead th {\n        text-align: right;\n    }\n</style>\n<table border=\"1\" class=\"dataframe\">\n  <thead>\n    <tr style=\"text-align: right;\">\n      <th></th>\n      <th>winner</th>\n      <th>loser</th>\n      <th>volume</th>\n      <th>closed</th>\n      <th>first_win_yes_token_id</th>\n      <th>first_win_yes_token_price</th>\n      <th>first_win_no_token_id</th>\n      <th>first_win_no_token_price</th>\n      <th>game_start_time</th>\n      <th>match_id</th>\n    </tr>\n  </thead>\n  <tbody>\n    <tr>\n      <th>0</th>\n      <td>Manchester United</td>\n      <td>Liverpool</td>\n      <td>27321.177281</td>\n      <td>True</td>\n      <td>1070268098614301483769400035048192945868028748...</td>\n      <td>0.0</td>\n      <td>4641946105864093247918510751580466890037570902...</td>\n      <td>1.0</td>\n      <td>2024-09-01 15:00:00</td>\n      <td>8403341662787711466</td>\n    </tr>\n    <tr>\n      <th>1</th>\n      <td>Crystal Palace</td>\n      <td>Chelsea</td>\n      <td>16465.558516</td>\n      <td>True</td>\n      <td>2240836493145815788231779528861370764772082802...</td>\n      <td>0.0</td>\n      <td>9112607163262702891896524070679080530791126243...</td>\n      <td>1.0</td>\n      <td>2024-09-01 12:30:00</td>\n      <td>976617573959895639</td>\n    </tr>\n    <tr>\n      <th>3</th>\n      <td>Chelsea</td>\n      <td>Crystal Palace</td>\n      <td>74848.61748</td>\n      <td>True</td>\n      <td>8473141659136127648919471372081023410636831516...</td>\n      <td>0.0</td>\n      <td>7168237386744928574044957256855095466455619768...</td>\n      <td>1.0</td>\n      <td>2024-09-01 12:30:00</td>\n      <td>976617573959895639</td>\n    </tr>\n    <tr>\n      <th>4</th>\n      <td>Newcastle United</td>\n      <td>Tottenham Hotspur</td>\n      <td>16197.184165</td>\n      <td>True</td>\n      <td>3902396297125861646265048524779791779669292294...</td>\n      <td>1.0</td>\n      <td>6390143151867843714655104214159797394603648846...</td>\n      <td>0.0</td>\n      <td>2024-09-01 12:30:00</td>\n      <td>-7021113643698515774</td>\n    </tr>\n    <tr>\n      <th>6</th>\n      <td>Tottenham Hotspur</td>\n      <td>Newcastle United</td>\n      <td>5338.051969</td>\n      <td>True</td>\n      <td>5462649995618436636028509551748704905681350869...</td>\n      <td>0.0</td>\n      <td>5130458727082798673488813540528413902741629816...</td>\n      <td>1.0</td>\n      <td>2024-09-01 12:30:00</td>\n      <td>-7021113643698515774</td>\n    </tr>\n    <tr>\n      <th>...</th>\n      <td>...</td>\n      <td>...</td>\n      <td>...</td>\n      <td>...</td>\n      <td>...</td>\n      <td>...</td>\n      <td>...</td>\n      <td>...</td>\n      <td>...</td>\n      <td>...</td>\n    </tr>\n    <tr>\n      <th>214</th>\n      <td>Liverpool</td>\n      <td>Aston Villa</td>\n      <td>62.783485</td>\n      <td>True</td>\n      <td>6039475446325558590610830792923439094235664256...</td>\n      <td>1.0</td>\n      <td>7478682910843262796119864286568811611031017045...</td>\n      <td>0.0</td>\n      <td>2023-09-03 11:00:00</td>\n      <td>-4527743939016230220</td>\n    </tr>\n    <tr>\n      <th>215</th>\n      <td>Arsenal</td>\n      <td>Manchester United</td>\n      <td>24.285713</td>\n      <td>True</td>\n      <td>5719121657815100684863998168411340463668945474...</td>\n      <td>1.0</td>\n      <td>4633691986224411951686891585684086012813294716...</td>\n      <td>0.0</td>\n      <td>2023-09-03 13:30:00</td>\n      <td>-4306841848665369009</td>\n    </tr>\n    <tr>\n      <th>219</th>\n      <td>Arsenal</td>\n      <td>Bournemouth</td>\n      <td>37.138885</td>\n      <td>True</td>\n      <td>3476227583566235893385207197809170546483891999...</td>\n      <td>1.0</td>\n      <td>6626472848259693355623768601741507876320467959...</td>\n      <td>0.0</td>\n      <td>2023-09-30 14:00:00</td>\n      <td>352885978626819290</td>\n    </tr>\n    <tr>\n      <th>220</th>\n      <td>Crystal Palace</td>\n      <td>Wolverhampton Wanderers</td>\n      <td>0.068964</td>\n      <td>True</td>\n      <td>3991272135719335455425689967467591073248100202...</td>\n      <td>1.0</td>\n      <td>4095702638071914562064741827563675366981703730...</td>\n      <td>0.0</td>\n      <td>2023-09-03 11:00:00</td>\n      <td>1866254063103686471</td>\n    </tr>\n    <tr>\n      <th>222</th>\n      <td>Chelsea</td>\n      <td>Nottingham Forest</td>\n      <td>62.92794</td>\n      <td>True</td>\n      <td>9475819631454689694179666850125678465766941241...</td>\n      <td>0.0</td>\n      <td>1035505651984493656016183804289054275105833787...</td>\n      <td>1.0</td>\n      <td>2023-09-02 12:00:00</td>\n      <td>4339863824168751038</td>\n    </tr>\n  </tbody>\n</table>\n<p>83 rows × 10 columns</p>\n</div>"
     },
     "execution_count": 144,
     "metadata": {},
     "output_type": "execute_result"
    }
   ],
   "source": [
    "traded_wl_df"
   ]
  },
  {
   "cell_type": "code",
   "execution_count": 145,
   "id": "9288c9c08dc35e62",
   "metadata": {
    "collapsed": false,
    "ExecuteTime": {
     "end_time": "2024-09-05T12:52:54.034205717Z",
     "start_time": "2024-09-05T12:52:53.992343530Z"
    }
   },
   "outputs": [
    {
     "data": {
      "text/plain": "               match_id                   first                   second  \\\n0  -7686705775813752617                  Fulham             Ipswich Town   \n1  -7207986795286300592             Bournemouth         Newcastle United   \n2  -7021113643698515774        Newcastle United        Tottenham Hotspur   \n3  -6606115192345121424       Nottingham Forest  Wolverhampton Wanderers   \n4  -6372488427790714442               Brentford                Liverpool   \n5  -6178097404848359776                 Arsenal   Brighton & Hove Albion   \n6  -5668478559215340077                  Fulham           Leicester City   \n7  -4473749050102683384                 Everton        Tottenham Hotspur   \n8  -1960004041559828337               Brentford              Southampton   \n9  -1958410684441444657                  Fulham        Manchester United   \n10  -937966214669850518  Brighton & Hove Albion                  Everton   \n11  -759681699818020003             Aston Villa           Leicester City   \n12  -568488610496461985                 Arsenal  Wolverhampton Wanderers   \n13   243350930839179468         Manchester City          West Ham United   \n14   566101740155459773          Leicester City        Tottenham Hotspur   \n15   976617573959895639                 Chelsea           Crystal Palace   \n16  1377212323258161019          Crystal Palace          West Ham United   \n17  1436906738194619564                 Chelsea  Wolverhampton Wanderers   \n18  3222644086984654977             Bournemouth        Nottingham Forest   \n19  3249248685185371228        Newcastle United              Southampton   \n20  3676152965018794107  Brighton & Hove Albion        Manchester United   \n21  4133713339814173687             Aston Villa          West Ham United   \n22  4695431331216630878                 Chelsea          Manchester City   \n23  5474862885669447301         Manchester City             Ipswich Town   \n24  5683784463457326474               Brentford           Crystal Palace   \n25  6558637850094995970                 Arsenal              Aston Villa   \n26  6627028072653977744       Nottingham Forest              Southampton   \n27  7114991348099034180             Bournemouth                  Everton   \n28  8403341662787711466               Liverpool        Manchester United   \n29  9058556983094558512               Liverpool             Ipswich Town   \n\n    volume_first_win  closed_first_win  \\\n0        5815.749542              True   \n1         6817.51712              True   \n2       16197.184165              True   \n3        1996.301956              True   \n4       10460.211613              True   \n5       38583.198239              True   \n6        3539.832769              True   \n7        2620.177761              True   \n8        8893.260638              True   \n9       55641.874117              True   \n10       3653.510487              True   \n11      13667.839539              True   \n12       6020.189452              True   \n13      75228.648358              True   \n14      35486.842783              True   \n15       74848.61748              True   \n16      10191.574675              True   \n17      26634.716515              True   \n18       1011.850958              True   \n19       3826.085033              True   \n20       16100.67302              True   \n21       1586.266102              True   \n22      69173.470051              True   \n23      27893.808524              True   \n24       9461.179934              True   \n25       45331.94036              True   \n26       5875.637812              True   \n27       4898.660583              True   \n28     103092.660937              True   \n29      49991.555894              True   \n\n                               first_win_yes_token_id  \\\n0   5390684612591871180226940463614602007632608985...   \n1   5595597303624263375013541904246077929556506181...   \n2   3902396297125861646265048524779791779669292294...   \n3   6154942560231987257537066294648112889077743278...   \n4   8058812937056295301077754963716989842392959855...   \n5   6111503160491403443221654004462481775096015381...   \n6   4607962402989626140266501134480645068086366987...   \n7   6275796669559057519575423296233233326165712844...   \n8   9285165882976373321289124694825334422477391015...   \n9   1315385407057815291697000886516025911268371559...   \n10  8649969074913199093366662172869297709764982534...   \n11  4895205612462089475470288018904350190822398673...   \n12  5527691846705234450672254184205107543305538545...   \n13  1152175810247391033797625278510112484896101388...   \n14  2253496967083768029418370817958792540468892500...   \n15  8473141659136127648919471372081023410636831516...   \n16  4516439200542223346191468991244421433853323549...   \n17  4693983744224611933414059770758735147603128512...   \n18  1050823326941745808232230384776635914686556222...   \n19  3703189904231227990983035320875064301349630483...   \n20  4363887430695681438439969777135385836141535812...   \n21  2590834825744532827126496855820377172959601337...   \n22  1044409297542378279919133058732051678323714609...   \n23  1032286975385829717679040619296039282922051758...   \n24  5429626262733062082159357387223963655041915915...   \n25  5407858762055642414194294314062033095094505113...   \n26  6084219350777293337548432367912405711356629547...   \n27  3959980066742036215089748788937411215762900226...   \n28  2240422563777819450306265318188080406256478492...   \n29  4076493248006068459372043931314483211652301464...   \n\n    first_win_yes_token_price  \\\n0                         0.0   \n1                         0.0   \n2                         1.0   \n3                         0.0   \n4                         0.0   \n5                         0.0   \n6                         1.0   \n7                         0.0   \n8                         1.0   \n9                         0.0   \n10                        1.0   \n11                        1.0   \n12                        1.0   \n13                        1.0   \n14                        0.0   \n15                        0.0   \n16                        0.0   \n17                        1.0   \n18                        0.0   \n19                        1.0   \n20                        1.0   \n21                        1.0   \n22                        0.0   \n23                        1.0   \n24                        1.0   \n25                        1.0   \n26                        1.0   \n27                        1.0   \n28                        1.0   \n29                        1.0   \n\n                                first_win_no_token_id  \\\n0   4835867034043260323210602260980380172342860099...   \n1   2829599343436084726317107655436762981197686206...   \n2   6390143151867843714655104214159797394603648846...   \n3   7274828458575385276549632588018871878040247012...   \n4   4586745120104545026109118389516543779698202352...   \n5   5891194826219718921556265951457901437359904302...   \n6   7261539017555037054997917278338131112479553989...   \n7   8691539046046940277665499791939596124790931338...   \n8   6983060241552922298703023478823448877784249474...   \n9   1406282590488127830418252672774515413854682441...   \n10  3826764301780064585839803219870728228769895841...   \n11  1024314703901033275352340158084315679587779112...   \n12  6356458188135244770097471152068516793489505990...   \n13  9614120485896560286434949594283223492495138737...   \n14  5205264815967394975076098271007751665803291533...   \n15  7168237386744928574044957256855095466455619768...   \n16  4687957320348410016122138051488234221412201927...   \n17  1676359483389114381616880318941226244037654967...   \n18  3055705040419724043925898401765169215229404101...   \n19  4835519349073389880262784246706662900972151660...   \n20  3220601571635084165345439339081203289434711305...   \n21  4986474821922900765021775461704418956007315170...   \n22  5914849581549848345325833405767467637133756047...   \n23  4865186346945742731547308793659948177461921637...   \n24  4400918050715841535738213725320333214733871865...   \n25  1926331838542292358683977471374101091601070425...   \n26  2990764898818507744154341107216516002194136257...   \n27  2171311100446299993519861709116600368641588070...   \n28  9820099966911355146652312394094644541815475460...   \n29  1649837615641636063605105083833377683124643888...   \n\n    first_win_no_token_price     game_start_time  ...  \\\n0                        1.0 2024-08-31 14:00:00  ...   \n1                        1.0 2024-08-25 13:00:00  ...   \n2                        0.0 2024-09-01 12:30:00  ...   \n3                        1.0 2024-08-31 14:00:00  ...   \n4                        1.0 2024-08-25 15:30:00  ...   \n5                        1.0 2024-08-31 11:30:00  ...   \n6                        0.0 2024-08-24 14:00:00  ...   \n7                        1.0 2024-08-24 14:00:00  ...   \n8                        0.0 2024-08-31 14:00:00  ...   \n9                        1.0 2024-08-16 19:00:00  ...   \n10                       0.0 2024-08-17 14:00:00  ...   \n11                       0.0 2024-08-31 14:00:00  ...   \n12                       0.0 2024-08-17 14:00:00  ...   \n13                       0.0 2024-08-31 16:30:00  ...   \n14                       1.0 2024-08-19 19:00:00  ...   \n15                       1.0 2024-09-01 12:30:00  ...   \n16                       1.0 2024-08-24 14:00:00  ...   \n17                       0.0 2024-08-25 13:00:00  ...   \n18                       1.0 2024-08-17 14:00:00  ...   \n19                       0.0 2024-08-17 14:00:00  ...   \n20                       0.0 2024-08-24 11:30:00  ...   \n21                       0.0 2024-08-17 16:30:00  ...   \n22                       1.0 2024-08-18 15:30:00  ...   \n23                       0.0 2024-08-24 14:00:00  ...   \n24                       0.0 2024-08-18 13:00:00  ...   \n25                       0.0 2024-08-24 16:30:00  ...   \n26                       0.0 2024-08-24 14:00:00  ...   \n27                       0.0 2024-08-31 14:00:00  ...   \n28                       0.0 2024-09-01 15:00:00  ...   \n29                       0.0 2024-08-17 11:30:00  ...   \n\n                              second_win_yes_token_id  \\\n0   2724863763841420578046708779868589387441936666...   \n1   1082024554349514253531564589217953799162453000...   \n2   5462649995618436636028509551748704905681350869...   \n3   7650721475605775229306239491570036659123722307...   \n4   6181134725108988943382990745734226687444082523...   \n5   1116610378897274981341652849429823672930913311...   \n6   4469108998165111035747799236588079997245140576...   \n7   4917496998749688653456658639021768943769564153...   \n8   4282247823224208661728420876385017155888061913...   \n9   6427688002440507927405673977828253383227919096...   \n10  1110056920560983274729010732510554357469740847...   \n11  7922046025294671836521900010277799797992704584...   \n12  9851527802560527020226180820292240969221950174...   \n13  8008059975543712220868492118443853640040298426...   \n14  4634970614365849210415179112351193917826577172...   \n15  2240836493145815788231779528861370764772082802...   \n16  1378747810885136801358125025867228566043703388...   \n17  2752654578026161765237232764385691146059628172...   \n18  6136814017597483222485589924157953297800237271...   \n19  3995624212923234127426013872390515750597472518...   \n20  9571848821720621022067275526860373518879299414...   \n21  9260612819837924492731518014151178678492646718...   \n22  1060140799405269658095409313525882476166829768...   \n23  9944490211570650174209507901699131522316462510...   \n24  2850728810171352748250003514659045266306933860...   \n25  3572690946983071319451542669524457204608893230...   \n26  1395104733239302672244185455477469392963778317...   \n27  8414157994261804734944978451273314491500711434...   \n28  1070268098614301483769400035048192945868028748...   \n29  3954106876666529576378779271895702675031017476...   \n\n    second_win_yes_token_price  \\\n0                          0.0   \n1                          0.0   \n2                          0.0   \n3                          0.0   \n4                          1.0   \n5                          0.0   \n6                          0.0   \n7                          1.0   \n8                          0.0   \n9                          1.0   \n10                         0.0   \n11                         0.0   \n12                         0.0   \n13                         0.0   \n14                         0.0   \n15                         0.0   \n16                         1.0   \n17                         0.0   \n18                         0.0   \n19                         0.0   \n20                         0.0   \n21                         0.0   \n22                         1.0   \n23                         0.0   \n24                         0.0   \n25                         0.0   \n26                         0.0   \n27                         0.0   \n28                         0.0   \n29                         0.0   \n\n                               second_win_no_token_id  \\\n0   4592496941083629569447042476295961754389643201...   \n1   4432888292968002860833730739498129959429415973...   \n2   5130458727082798673488813540528413902741629816...   \n3   9334483916931061512989620164357410658582777708...   \n4   2689521720270122027066650781604176657297852439...   \n5   5259322497049373785466208713290228068678828929...   \n6   5424410382959485122279389019281489307327875564...   \n7   7883479697323373245952680051157073912273260113...   \n8   5239744205912208951419911709612814651181011670...   \n9   1542008466805974007002239934314756830779090010...   \n10  1060641398300335609151645060645013963601270036...   \n11  6793079700941201639676970772430942800396930763...   \n12  7532224115279299696011827927568175961809185315...   \n13  9331240994314597206796836972376625238701884044...   \n14  2209813341289928292057434843769470585778627817...   \n15  9112607163262702891896524070679080530791126243...   \n16  6943761874575697410033605346000673964668528611...   \n17  4128830414349950115012837661207401879399605094...   \n18  1429174952419877936659470081835158792207990521...   \n19  5018292757511720560933636935595736436725549527...   \n20  6022909429418516783618078939454427585858743426...   \n21  3195854915670989987515518969152206921109322815...   \n22  1492894499894733087409576145758441037874285748...   \n23  7831748507648110627020642458374911267739835515...   \n24  8622411848783413521364191037682051662672299726...   \n25  9508566054309741253938951248227178834216390840...   \n26  1271404804744160548056338265844392517495844927...   \n27  4058076631458650619417463379827423945891322141...   \n28  4641946105864093247918510751580466890037570902...   \n29  9477180411761545735977087398462987846705234318...   \n\n    second_win_no_token_price        volume  closed  \\\n0                         1.0   1958.268762    True   \n1                         1.0   4162.556595    True   \n2                         1.0   1648.157327    True   \n3                         1.0   2678.878368    True   \n4                         0.0   9199.510944    True   \n5                         1.0    8872.87221    True   \n6                         1.0   2098.449725    True   \n7                         0.0   8131.359812    True   \n8                         1.0    502.707692    True   \n9                         0.0  35575.660334    True   \n10                        1.0    478.229104    True   \n11                        1.0   6130.092364    True   \n12                        1.0    753.267611    True   \n13                        1.0   4246.952856    True   \n14                        1.0  24546.561788    True   \n15                        1.0  10562.379214    True   \n16                        0.0   4029.638629    True   \n17                        1.0   5997.290636    True   \n18                        1.0  11762.437828    True   \n19                        1.0    792.289394    True   \n20                        1.0  15849.786412    True   \n21                        1.0   2347.075767    True   \n22                        0.0  11682.140654    True   \n23                        1.0   3473.958097    True   \n24                        1.0   1492.639232    True   \n25                        1.0   5577.057493    True   \n26                        1.0   3249.901986    True   \n27                        1.0   2343.687726    True   \n28                        1.0  19738.931366    True   \n29                        1.0   1063.357305    True   \n\n                                    draw_yes_token_id  draw_yes_token_price  \\\n0   1056239115982502641842514644390919491396338064...                   1.0   \n1   9048290216715822669728345412856006694560460510...                   1.0   \n2   4968230879603371948866041796987077791752868535...                   0.0   \n3   1922636093149757117752916299704362461806023417...                   1.0   \n4   4937274880027886183807479622344736653709925151...                   0.0   \n5   3282101053200081500732589041854931815637585813...                   1.0   \n6   8573518884612686090908478468464167480657353847...                   0.0   \n7   1030756381874894962188194491483407194908508542...                   0.0   \n8   3102412140979869086108516105922538862811635984...                   0.0   \n9   4574822642040335406924607620918373394202085737...                   0.0   \n10  9304919452958376896948055473437428899642005415...                   0.0   \n11  7198006125524017729020999112949591754130072873...                   0.0   \n12  6991194735553612848038250487034629546236464121...                   0.0   \n13  4652444992635632642529930521199192482880908236...                   0.0   \n14  1092150698655357541278584944054193986397459611...                   1.0   \n15  6628081043611276835629741132699692180128963103...                   1.0   \n16  9554407256829296345146719819597792373406094240...                   0.0   \n17  2669948816667389679952961159118377490819933872...                   0.0   \n18  5548849022392522826256320455747757471022017206...                   1.0   \n19  9446028769889790347069042358640515469682078849...                   0.0   \n20  9251162583240927984496059688535910213923573518...                   0.0   \n21  2532192871106907135935473814725416209094440745...                   0.0   \n22  9235149848008054060490035014978016041910731296...                   0.0   \n23  8635915436035463467856304212862722541649139336...                   0.0   \n24  3009219378362503783120539603216859989448679922...                   0.0   \n25  3984949472265518240895263056129376916184709390...                   0.0   \n26  1023502335964161516192191431308073662125875606...                   0.0   \n27  6979466265655015180736494637283075984297819167...                   0.0   \n28  5748346962930599168820369398523887618224462408...                   0.0   \n29  9540005954158311246396907146026386130907160950...                   0.0   \n\n                                     draw_no_token_id  draw_no_token_price  \n0   6474528836620100582363221559257100699919142728...                  0.0  \n1   2081943794877508791078019192487212357316597380...                  0.0  \n2   6486150380988866473748206016838559835962169397...                  1.0  \n3   1072383393901019078745413673212653811002433746...                  0.0  \n4   8933757800840528696678082589188567084286739295...                  1.0  \n5   5646917549123102449163419527608818678170441410...                  0.0  \n6   1815059595045740714942503862018463711066903613...                  1.0  \n7   1065955351846421313987627768369814483760100781...                  1.0  \n8   1071771006010210786837770353476734639789497155...                  1.0  \n9   9413900031581212950670543634633325437183025849...                  1.0  \n10  3447947886944640827701489797204784932790754822...                  1.0  \n11  1108105314871755573169486973066833564111072150...                  1.0  \n12  5262318723269700375203161846345002558649857960...                  1.0  \n13  5519563340748631936641826338054313097421920479...                  1.0  \n14  7969158721120412268685074789077235878213919874...                  0.0  \n15  2038204275565301344807054547965085333069777021...                  0.0  \n16  1154766797920305868052899971040407028071036858...                  1.0  \n17  9345163663462117530864421716810644385871310572...                  1.0  \n18  1287798470161381994661331765600389966380379915...                  0.0  \n19  2180189139190563354478432591385881887983722370...                  1.0  \n20  8310108723809550530413844159414015681331768326...                  1.0  \n21  9704881586517114115511717036962037270461276676...                  1.0  \n22  1973119911403294056966328834312271279094967896...                  1.0  \n23  2684865682111585531196272682439415627946860772...                  1.0  \n24  2629166468993578745643089517480206338817416906...                  1.0  \n25  4485337955163659016002637467309784252215764770...                  1.0  \n26  7609766072672013523728429479250792043771199824...                  1.0  \n27  9201488080747150865847341565897594405713204637...                  1.0  \n28  1140402873184196006623330813957637322465116705...                  1.0  \n29  2855830619693306362215765671441184555426887207...                  1.0  \n\n[30 rows x 22 columns]",
      "text/html": "<div>\n<style scoped>\n    .dataframe tbody tr th:only-of-type {\n        vertical-align: middle;\n    }\n\n    .dataframe tbody tr th {\n        vertical-align: top;\n    }\n\n    .dataframe thead th {\n        text-align: right;\n    }\n</style>\n<table border=\"1\" class=\"dataframe\">\n  <thead>\n    <tr style=\"text-align: right;\">\n      <th></th>\n      <th>match_id</th>\n      <th>first</th>\n      <th>second</th>\n      <th>volume_first_win</th>\n      <th>closed_first_win</th>\n      <th>first_win_yes_token_id</th>\n      <th>first_win_yes_token_price</th>\n      <th>first_win_no_token_id</th>\n      <th>first_win_no_token_price</th>\n      <th>game_start_time</th>\n      <th>...</th>\n      <th>second_win_yes_token_id</th>\n      <th>second_win_yes_token_price</th>\n      <th>second_win_no_token_id</th>\n      <th>second_win_no_token_price</th>\n      <th>volume</th>\n      <th>closed</th>\n      <th>draw_yes_token_id</th>\n      <th>draw_yes_token_price</th>\n      <th>draw_no_token_id</th>\n      <th>draw_no_token_price</th>\n    </tr>\n  </thead>\n  <tbody>\n    <tr>\n      <th>0</th>\n      <td>-7686705775813752617</td>\n      <td>Fulham</td>\n      <td>Ipswich Town</td>\n      <td>5815.749542</td>\n      <td>True</td>\n      <td>5390684612591871180226940463614602007632608985...</td>\n      <td>0.0</td>\n      <td>4835867034043260323210602260980380172342860099...</td>\n      <td>1.0</td>\n      <td>2024-08-31 14:00:00</td>\n      <td>...</td>\n      <td>2724863763841420578046708779868589387441936666...</td>\n      <td>0.0</td>\n      <td>4592496941083629569447042476295961754389643201...</td>\n      <td>1.0</td>\n      <td>1958.268762</td>\n      <td>True</td>\n      <td>1056239115982502641842514644390919491396338064...</td>\n      <td>1.0</td>\n      <td>6474528836620100582363221559257100699919142728...</td>\n      <td>0.0</td>\n    </tr>\n    <tr>\n      <th>1</th>\n      <td>-7207986795286300592</td>\n      <td>Bournemouth</td>\n      <td>Newcastle United</td>\n      <td>6817.51712</td>\n      <td>True</td>\n      <td>5595597303624263375013541904246077929556506181...</td>\n      <td>0.0</td>\n      <td>2829599343436084726317107655436762981197686206...</td>\n      <td>1.0</td>\n      <td>2024-08-25 13:00:00</td>\n      <td>...</td>\n      <td>1082024554349514253531564589217953799162453000...</td>\n      <td>0.0</td>\n      <td>4432888292968002860833730739498129959429415973...</td>\n      <td>1.0</td>\n      <td>4162.556595</td>\n      <td>True</td>\n      <td>9048290216715822669728345412856006694560460510...</td>\n      <td>1.0</td>\n      <td>2081943794877508791078019192487212357316597380...</td>\n      <td>0.0</td>\n    </tr>\n    <tr>\n      <th>2</th>\n      <td>-7021113643698515774</td>\n      <td>Newcastle United</td>\n      <td>Tottenham Hotspur</td>\n      <td>16197.184165</td>\n      <td>True</td>\n      <td>3902396297125861646265048524779791779669292294...</td>\n      <td>1.0</td>\n      <td>6390143151867843714655104214159797394603648846...</td>\n      <td>0.0</td>\n      <td>2024-09-01 12:30:00</td>\n      <td>...</td>\n      <td>5462649995618436636028509551748704905681350869...</td>\n      <td>0.0</td>\n      <td>5130458727082798673488813540528413902741629816...</td>\n      <td>1.0</td>\n      <td>1648.157327</td>\n      <td>True</td>\n      <td>4968230879603371948866041796987077791752868535...</td>\n      <td>0.0</td>\n      <td>6486150380988866473748206016838559835962169397...</td>\n      <td>1.0</td>\n    </tr>\n    <tr>\n      <th>3</th>\n      <td>-6606115192345121424</td>\n      <td>Nottingham Forest</td>\n      <td>Wolverhampton Wanderers</td>\n      <td>1996.301956</td>\n      <td>True</td>\n      <td>6154942560231987257537066294648112889077743278...</td>\n      <td>0.0</td>\n      <td>7274828458575385276549632588018871878040247012...</td>\n      <td>1.0</td>\n      <td>2024-08-31 14:00:00</td>\n      <td>...</td>\n      <td>7650721475605775229306239491570036659123722307...</td>\n      <td>0.0</td>\n      <td>9334483916931061512989620164357410658582777708...</td>\n      <td>1.0</td>\n      <td>2678.878368</td>\n      <td>True</td>\n      <td>1922636093149757117752916299704362461806023417...</td>\n      <td>1.0</td>\n      <td>1072383393901019078745413673212653811002433746...</td>\n      <td>0.0</td>\n    </tr>\n    <tr>\n      <th>4</th>\n      <td>-6372488427790714442</td>\n      <td>Brentford</td>\n      <td>Liverpool</td>\n      <td>10460.211613</td>\n      <td>True</td>\n      <td>8058812937056295301077754963716989842392959855...</td>\n      <td>0.0</td>\n      <td>4586745120104545026109118389516543779698202352...</td>\n      <td>1.0</td>\n      <td>2024-08-25 15:30:00</td>\n      <td>...</td>\n      <td>6181134725108988943382990745734226687444082523...</td>\n      <td>1.0</td>\n      <td>2689521720270122027066650781604176657297852439...</td>\n      <td>0.0</td>\n      <td>9199.510944</td>\n      <td>True</td>\n      <td>4937274880027886183807479622344736653709925151...</td>\n      <td>0.0</td>\n      <td>8933757800840528696678082589188567084286739295...</td>\n      <td>1.0</td>\n    </tr>\n    <tr>\n      <th>5</th>\n      <td>-6178097404848359776</td>\n      <td>Arsenal</td>\n      <td>Brighton &amp; Hove Albion</td>\n      <td>38583.198239</td>\n      <td>True</td>\n      <td>6111503160491403443221654004462481775096015381...</td>\n      <td>0.0</td>\n      <td>5891194826219718921556265951457901437359904302...</td>\n      <td>1.0</td>\n      <td>2024-08-31 11:30:00</td>\n      <td>...</td>\n      <td>1116610378897274981341652849429823672930913311...</td>\n      <td>0.0</td>\n      <td>5259322497049373785466208713290228068678828929...</td>\n      <td>1.0</td>\n      <td>8872.87221</td>\n      <td>True</td>\n      <td>3282101053200081500732589041854931815637585813...</td>\n      <td>1.0</td>\n      <td>5646917549123102449163419527608818678170441410...</td>\n      <td>0.0</td>\n    </tr>\n    <tr>\n      <th>6</th>\n      <td>-5668478559215340077</td>\n      <td>Fulham</td>\n      <td>Leicester City</td>\n      <td>3539.832769</td>\n      <td>True</td>\n      <td>4607962402989626140266501134480645068086366987...</td>\n      <td>1.0</td>\n      <td>7261539017555037054997917278338131112479553989...</td>\n      <td>0.0</td>\n      <td>2024-08-24 14:00:00</td>\n      <td>...</td>\n      <td>4469108998165111035747799236588079997245140576...</td>\n      <td>0.0</td>\n      <td>5424410382959485122279389019281489307327875564...</td>\n      <td>1.0</td>\n      <td>2098.449725</td>\n      <td>True</td>\n      <td>8573518884612686090908478468464167480657353847...</td>\n      <td>0.0</td>\n      <td>1815059595045740714942503862018463711066903613...</td>\n      <td>1.0</td>\n    </tr>\n    <tr>\n      <th>7</th>\n      <td>-4473749050102683384</td>\n      <td>Everton</td>\n      <td>Tottenham Hotspur</td>\n      <td>2620.177761</td>\n      <td>True</td>\n      <td>6275796669559057519575423296233233326165712844...</td>\n      <td>0.0</td>\n      <td>8691539046046940277665499791939596124790931338...</td>\n      <td>1.0</td>\n      <td>2024-08-24 14:00:00</td>\n      <td>...</td>\n      <td>4917496998749688653456658639021768943769564153...</td>\n      <td>1.0</td>\n      <td>7883479697323373245952680051157073912273260113...</td>\n      <td>0.0</td>\n      <td>8131.359812</td>\n      <td>True</td>\n      <td>1030756381874894962188194491483407194908508542...</td>\n      <td>0.0</td>\n      <td>1065955351846421313987627768369814483760100781...</td>\n      <td>1.0</td>\n    </tr>\n    <tr>\n      <th>8</th>\n      <td>-1960004041559828337</td>\n      <td>Brentford</td>\n      <td>Southampton</td>\n      <td>8893.260638</td>\n      <td>True</td>\n      <td>9285165882976373321289124694825334422477391015...</td>\n      <td>1.0</td>\n      <td>6983060241552922298703023478823448877784249474...</td>\n      <td>0.0</td>\n      <td>2024-08-31 14:00:00</td>\n      <td>...</td>\n      <td>4282247823224208661728420876385017155888061913...</td>\n      <td>0.0</td>\n      <td>5239744205912208951419911709612814651181011670...</td>\n      <td>1.0</td>\n      <td>502.707692</td>\n      <td>True</td>\n      <td>3102412140979869086108516105922538862811635984...</td>\n      <td>0.0</td>\n      <td>1071771006010210786837770353476734639789497155...</td>\n      <td>1.0</td>\n    </tr>\n    <tr>\n      <th>9</th>\n      <td>-1958410684441444657</td>\n      <td>Fulham</td>\n      <td>Manchester United</td>\n      <td>55641.874117</td>\n      <td>True</td>\n      <td>1315385407057815291697000886516025911268371559...</td>\n      <td>0.0</td>\n      <td>1406282590488127830418252672774515413854682441...</td>\n      <td>1.0</td>\n      <td>2024-08-16 19:00:00</td>\n      <td>...</td>\n      <td>6427688002440507927405673977828253383227919096...</td>\n      <td>1.0</td>\n      <td>1542008466805974007002239934314756830779090010...</td>\n      <td>0.0</td>\n      <td>35575.660334</td>\n      <td>True</td>\n      <td>4574822642040335406924607620918373394202085737...</td>\n      <td>0.0</td>\n      <td>9413900031581212950670543634633325437183025849...</td>\n      <td>1.0</td>\n    </tr>\n    <tr>\n      <th>10</th>\n      <td>-937966214669850518</td>\n      <td>Brighton &amp; Hove Albion</td>\n      <td>Everton</td>\n      <td>3653.510487</td>\n      <td>True</td>\n      <td>8649969074913199093366662172869297709764982534...</td>\n      <td>1.0</td>\n      <td>3826764301780064585839803219870728228769895841...</td>\n      <td>0.0</td>\n      <td>2024-08-17 14:00:00</td>\n      <td>...</td>\n      <td>1110056920560983274729010732510554357469740847...</td>\n      <td>0.0</td>\n      <td>1060641398300335609151645060645013963601270036...</td>\n      <td>1.0</td>\n      <td>478.229104</td>\n      <td>True</td>\n      <td>9304919452958376896948055473437428899642005415...</td>\n      <td>0.0</td>\n      <td>3447947886944640827701489797204784932790754822...</td>\n      <td>1.0</td>\n    </tr>\n    <tr>\n      <th>11</th>\n      <td>-759681699818020003</td>\n      <td>Aston Villa</td>\n      <td>Leicester City</td>\n      <td>13667.839539</td>\n      <td>True</td>\n      <td>4895205612462089475470288018904350190822398673...</td>\n      <td>1.0</td>\n      <td>1024314703901033275352340158084315679587779112...</td>\n      <td>0.0</td>\n      <td>2024-08-31 14:00:00</td>\n      <td>...</td>\n      <td>7922046025294671836521900010277799797992704584...</td>\n      <td>0.0</td>\n      <td>6793079700941201639676970772430942800396930763...</td>\n      <td>1.0</td>\n      <td>6130.092364</td>\n      <td>True</td>\n      <td>7198006125524017729020999112949591754130072873...</td>\n      <td>0.0</td>\n      <td>1108105314871755573169486973066833564111072150...</td>\n      <td>1.0</td>\n    </tr>\n    <tr>\n      <th>12</th>\n      <td>-568488610496461985</td>\n      <td>Arsenal</td>\n      <td>Wolverhampton Wanderers</td>\n      <td>6020.189452</td>\n      <td>True</td>\n      <td>5527691846705234450672254184205107543305538545...</td>\n      <td>1.0</td>\n      <td>6356458188135244770097471152068516793489505990...</td>\n      <td>0.0</td>\n      <td>2024-08-17 14:00:00</td>\n      <td>...</td>\n      <td>9851527802560527020226180820292240969221950174...</td>\n      <td>0.0</td>\n      <td>7532224115279299696011827927568175961809185315...</td>\n      <td>1.0</td>\n      <td>753.267611</td>\n      <td>True</td>\n      <td>6991194735553612848038250487034629546236464121...</td>\n      <td>0.0</td>\n      <td>5262318723269700375203161846345002558649857960...</td>\n      <td>1.0</td>\n    </tr>\n    <tr>\n      <th>13</th>\n      <td>243350930839179468</td>\n      <td>Manchester City</td>\n      <td>West Ham United</td>\n      <td>75228.648358</td>\n      <td>True</td>\n      <td>1152175810247391033797625278510112484896101388...</td>\n      <td>1.0</td>\n      <td>9614120485896560286434949594283223492495138737...</td>\n      <td>0.0</td>\n      <td>2024-08-31 16:30:00</td>\n      <td>...</td>\n      <td>8008059975543712220868492118443853640040298426...</td>\n      <td>0.0</td>\n      <td>9331240994314597206796836972376625238701884044...</td>\n      <td>1.0</td>\n      <td>4246.952856</td>\n      <td>True</td>\n      <td>4652444992635632642529930521199192482880908236...</td>\n      <td>0.0</td>\n      <td>5519563340748631936641826338054313097421920479...</td>\n      <td>1.0</td>\n    </tr>\n    <tr>\n      <th>14</th>\n      <td>566101740155459773</td>\n      <td>Leicester City</td>\n      <td>Tottenham Hotspur</td>\n      <td>35486.842783</td>\n      <td>True</td>\n      <td>2253496967083768029418370817958792540468892500...</td>\n      <td>0.0</td>\n      <td>5205264815967394975076098271007751665803291533...</td>\n      <td>1.0</td>\n      <td>2024-08-19 19:00:00</td>\n      <td>...</td>\n      <td>4634970614365849210415179112351193917826577172...</td>\n      <td>0.0</td>\n      <td>2209813341289928292057434843769470585778627817...</td>\n      <td>1.0</td>\n      <td>24546.561788</td>\n      <td>True</td>\n      <td>1092150698655357541278584944054193986397459611...</td>\n      <td>1.0</td>\n      <td>7969158721120412268685074789077235878213919874...</td>\n      <td>0.0</td>\n    </tr>\n    <tr>\n      <th>15</th>\n      <td>976617573959895639</td>\n      <td>Chelsea</td>\n      <td>Crystal Palace</td>\n      <td>74848.61748</td>\n      <td>True</td>\n      <td>8473141659136127648919471372081023410636831516...</td>\n      <td>0.0</td>\n      <td>7168237386744928574044957256855095466455619768...</td>\n      <td>1.0</td>\n      <td>2024-09-01 12:30:00</td>\n      <td>...</td>\n      <td>2240836493145815788231779528861370764772082802...</td>\n      <td>0.0</td>\n      <td>9112607163262702891896524070679080530791126243...</td>\n      <td>1.0</td>\n      <td>10562.379214</td>\n      <td>True</td>\n      <td>6628081043611276835629741132699692180128963103...</td>\n      <td>1.0</td>\n      <td>2038204275565301344807054547965085333069777021...</td>\n      <td>0.0</td>\n    </tr>\n    <tr>\n      <th>16</th>\n      <td>1377212323258161019</td>\n      <td>Crystal Palace</td>\n      <td>West Ham United</td>\n      <td>10191.574675</td>\n      <td>True</td>\n      <td>4516439200542223346191468991244421433853323549...</td>\n      <td>0.0</td>\n      <td>4687957320348410016122138051488234221412201927...</td>\n      <td>1.0</td>\n      <td>2024-08-24 14:00:00</td>\n      <td>...</td>\n      <td>1378747810885136801358125025867228566043703388...</td>\n      <td>1.0</td>\n      <td>6943761874575697410033605346000673964668528611...</td>\n      <td>0.0</td>\n      <td>4029.638629</td>\n      <td>True</td>\n      <td>9554407256829296345146719819597792373406094240...</td>\n      <td>0.0</td>\n      <td>1154766797920305868052899971040407028071036858...</td>\n      <td>1.0</td>\n    </tr>\n    <tr>\n      <th>17</th>\n      <td>1436906738194619564</td>\n      <td>Chelsea</td>\n      <td>Wolverhampton Wanderers</td>\n      <td>26634.716515</td>\n      <td>True</td>\n      <td>4693983744224611933414059770758735147603128512...</td>\n      <td>1.0</td>\n      <td>1676359483389114381616880318941226244037654967...</td>\n      <td>0.0</td>\n      <td>2024-08-25 13:00:00</td>\n      <td>...</td>\n      <td>2752654578026161765237232764385691146059628172...</td>\n      <td>0.0</td>\n      <td>4128830414349950115012837661207401879399605094...</td>\n      <td>1.0</td>\n      <td>5997.290636</td>\n      <td>True</td>\n      <td>2669948816667389679952961159118377490819933872...</td>\n      <td>0.0</td>\n      <td>9345163663462117530864421716810644385871310572...</td>\n      <td>1.0</td>\n    </tr>\n    <tr>\n      <th>18</th>\n      <td>3222644086984654977</td>\n      <td>Bournemouth</td>\n      <td>Nottingham Forest</td>\n      <td>1011.850958</td>\n      <td>True</td>\n      <td>1050823326941745808232230384776635914686556222...</td>\n      <td>0.0</td>\n      <td>3055705040419724043925898401765169215229404101...</td>\n      <td>1.0</td>\n      <td>2024-08-17 14:00:00</td>\n      <td>...</td>\n      <td>6136814017597483222485589924157953297800237271...</td>\n      <td>0.0</td>\n      <td>1429174952419877936659470081835158792207990521...</td>\n      <td>1.0</td>\n      <td>11762.437828</td>\n      <td>True</td>\n      <td>5548849022392522826256320455747757471022017206...</td>\n      <td>1.0</td>\n      <td>1287798470161381994661331765600389966380379915...</td>\n      <td>0.0</td>\n    </tr>\n    <tr>\n      <th>19</th>\n      <td>3249248685185371228</td>\n      <td>Newcastle United</td>\n      <td>Southampton</td>\n      <td>3826.085033</td>\n      <td>True</td>\n      <td>3703189904231227990983035320875064301349630483...</td>\n      <td>1.0</td>\n      <td>4835519349073389880262784246706662900972151660...</td>\n      <td>0.0</td>\n      <td>2024-08-17 14:00:00</td>\n      <td>...</td>\n      <td>3995624212923234127426013872390515750597472518...</td>\n      <td>0.0</td>\n      <td>5018292757511720560933636935595736436725549527...</td>\n      <td>1.0</td>\n      <td>792.289394</td>\n      <td>True</td>\n      <td>9446028769889790347069042358640515469682078849...</td>\n      <td>0.0</td>\n      <td>2180189139190563354478432591385881887983722370...</td>\n      <td>1.0</td>\n    </tr>\n    <tr>\n      <th>20</th>\n      <td>3676152965018794107</td>\n      <td>Brighton &amp; Hove Albion</td>\n      <td>Manchester United</td>\n      <td>16100.67302</td>\n      <td>True</td>\n      <td>4363887430695681438439969777135385836141535812...</td>\n      <td>1.0</td>\n      <td>3220601571635084165345439339081203289434711305...</td>\n      <td>0.0</td>\n      <td>2024-08-24 11:30:00</td>\n      <td>...</td>\n      <td>9571848821720621022067275526860373518879299414...</td>\n      <td>0.0</td>\n      <td>6022909429418516783618078939454427585858743426...</td>\n      <td>1.0</td>\n      <td>15849.786412</td>\n      <td>True</td>\n      <td>9251162583240927984496059688535910213923573518...</td>\n      <td>0.0</td>\n      <td>8310108723809550530413844159414015681331768326...</td>\n      <td>1.0</td>\n    </tr>\n    <tr>\n      <th>21</th>\n      <td>4133713339814173687</td>\n      <td>Aston Villa</td>\n      <td>West Ham United</td>\n      <td>1586.266102</td>\n      <td>True</td>\n      <td>2590834825744532827126496855820377172959601337...</td>\n      <td>1.0</td>\n      <td>4986474821922900765021775461704418956007315170...</td>\n      <td>0.0</td>\n      <td>2024-08-17 16:30:00</td>\n      <td>...</td>\n      <td>9260612819837924492731518014151178678492646718...</td>\n      <td>0.0</td>\n      <td>3195854915670989987515518969152206921109322815...</td>\n      <td>1.0</td>\n      <td>2347.075767</td>\n      <td>True</td>\n      <td>2532192871106907135935473814725416209094440745...</td>\n      <td>0.0</td>\n      <td>9704881586517114115511717036962037270461276676...</td>\n      <td>1.0</td>\n    </tr>\n    <tr>\n      <th>22</th>\n      <td>4695431331216630878</td>\n      <td>Chelsea</td>\n      <td>Manchester City</td>\n      <td>69173.470051</td>\n      <td>True</td>\n      <td>1044409297542378279919133058732051678323714609...</td>\n      <td>0.0</td>\n      <td>5914849581549848345325833405767467637133756047...</td>\n      <td>1.0</td>\n      <td>2024-08-18 15:30:00</td>\n      <td>...</td>\n      <td>1060140799405269658095409313525882476166829768...</td>\n      <td>1.0</td>\n      <td>1492894499894733087409576145758441037874285748...</td>\n      <td>0.0</td>\n      <td>11682.140654</td>\n      <td>True</td>\n      <td>9235149848008054060490035014978016041910731296...</td>\n      <td>0.0</td>\n      <td>1973119911403294056966328834312271279094967896...</td>\n      <td>1.0</td>\n    </tr>\n    <tr>\n      <th>23</th>\n      <td>5474862885669447301</td>\n      <td>Manchester City</td>\n      <td>Ipswich Town</td>\n      <td>27893.808524</td>\n      <td>True</td>\n      <td>1032286975385829717679040619296039282922051758...</td>\n      <td>1.0</td>\n      <td>4865186346945742731547308793659948177461921637...</td>\n      <td>0.0</td>\n      <td>2024-08-24 14:00:00</td>\n      <td>...</td>\n      <td>9944490211570650174209507901699131522316462510...</td>\n      <td>0.0</td>\n      <td>7831748507648110627020642458374911267739835515...</td>\n      <td>1.0</td>\n      <td>3473.958097</td>\n      <td>True</td>\n      <td>8635915436035463467856304212862722541649139336...</td>\n      <td>0.0</td>\n      <td>2684865682111585531196272682439415627946860772...</td>\n      <td>1.0</td>\n    </tr>\n    <tr>\n      <th>24</th>\n      <td>5683784463457326474</td>\n      <td>Brentford</td>\n      <td>Crystal Palace</td>\n      <td>9461.179934</td>\n      <td>True</td>\n      <td>5429626262733062082159357387223963655041915915...</td>\n      <td>1.0</td>\n      <td>4400918050715841535738213725320333214733871865...</td>\n      <td>0.0</td>\n      <td>2024-08-18 13:00:00</td>\n      <td>...</td>\n      <td>2850728810171352748250003514659045266306933860...</td>\n      <td>0.0</td>\n      <td>8622411848783413521364191037682051662672299726...</td>\n      <td>1.0</td>\n      <td>1492.639232</td>\n      <td>True</td>\n      <td>3009219378362503783120539603216859989448679922...</td>\n      <td>0.0</td>\n      <td>2629166468993578745643089517480206338817416906...</td>\n      <td>1.0</td>\n    </tr>\n    <tr>\n      <th>25</th>\n      <td>6558637850094995970</td>\n      <td>Arsenal</td>\n      <td>Aston Villa</td>\n      <td>45331.94036</td>\n      <td>True</td>\n      <td>5407858762055642414194294314062033095094505113...</td>\n      <td>1.0</td>\n      <td>1926331838542292358683977471374101091601070425...</td>\n      <td>0.0</td>\n      <td>2024-08-24 16:30:00</td>\n      <td>...</td>\n      <td>3572690946983071319451542669524457204608893230...</td>\n      <td>0.0</td>\n      <td>9508566054309741253938951248227178834216390840...</td>\n      <td>1.0</td>\n      <td>5577.057493</td>\n      <td>True</td>\n      <td>3984949472265518240895263056129376916184709390...</td>\n      <td>0.0</td>\n      <td>4485337955163659016002637467309784252215764770...</td>\n      <td>1.0</td>\n    </tr>\n    <tr>\n      <th>26</th>\n      <td>6627028072653977744</td>\n      <td>Nottingham Forest</td>\n      <td>Southampton</td>\n      <td>5875.637812</td>\n      <td>True</td>\n      <td>6084219350777293337548432367912405711356629547...</td>\n      <td>1.0</td>\n      <td>2990764898818507744154341107216516002194136257...</td>\n      <td>0.0</td>\n      <td>2024-08-24 14:00:00</td>\n      <td>...</td>\n      <td>1395104733239302672244185455477469392963778317...</td>\n      <td>0.0</td>\n      <td>1271404804744160548056338265844392517495844927...</td>\n      <td>1.0</td>\n      <td>3249.901986</td>\n      <td>True</td>\n      <td>1023502335964161516192191431308073662125875606...</td>\n      <td>0.0</td>\n      <td>7609766072672013523728429479250792043771199824...</td>\n      <td>1.0</td>\n    </tr>\n    <tr>\n      <th>27</th>\n      <td>7114991348099034180</td>\n      <td>Bournemouth</td>\n      <td>Everton</td>\n      <td>4898.660583</td>\n      <td>True</td>\n      <td>3959980066742036215089748788937411215762900226...</td>\n      <td>1.0</td>\n      <td>2171311100446299993519861709116600368641588070...</td>\n      <td>0.0</td>\n      <td>2024-08-31 14:00:00</td>\n      <td>...</td>\n      <td>8414157994261804734944978451273314491500711434...</td>\n      <td>0.0</td>\n      <td>4058076631458650619417463379827423945891322141...</td>\n      <td>1.0</td>\n      <td>2343.687726</td>\n      <td>True</td>\n      <td>6979466265655015180736494637283075984297819167...</td>\n      <td>0.0</td>\n      <td>9201488080747150865847341565897594405713204637...</td>\n      <td>1.0</td>\n    </tr>\n    <tr>\n      <th>28</th>\n      <td>8403341662787711466</td>\n      <td>Liverpool</td>\n      <td>Manchester United</td>\n      <td>103092.660937</td>\n      <td>True</td>\n      <td>2240422563777819450306265318188080406256478492...</td>\n      <td>1.0</td>\n      <td>9820099966911355146652312394094644541815475460...</td>\n      <td>0.0</td>\n      <td>2024-09-01 15:00:00</td>\n      <td>...</td>\n      <td>1070268098614301483769400035048192945868028748...</td>\n      <td>0.0</td>\n      <td>4641946105864093247918510751580466890037570902...</td>\n      <td>1.0</td>\n      <td>19738.931366</td>\n      <td>True</td>\n      <td>5748346962930599168820369398523887618224462408...</td>\n      <td>0.0</td>\n      <td>1140402873184196006623330813957637322465116705...</td>\n      <td>1.0</td>\n    </tr>\n    <tr>\n      <th>29</th>\n      <td>9058556983094558512</td>\n      <td>Liverpool</td>\n      <td>Ipswich Town</td>\n      <td>49991.555894</td>\n      <td>True</td>\n      <td>4076493248006068459372043931314483211652301464...</td>\n      <td>1.0</td>\n      <td>1649837615641636063605105083833377683124643888...</td>\n      <td>0.0</td>\n      <td>2024-08-17 11:30:00</td>\n      <td>...</td>\n      <td>3954106876666529576378779271895702675031017476...</td>\n      <td>0.0</td>\n      <td>9477180411761545735977087398462987846705234318...</td>\n      <td>1.0</td>\n      <td>1063.357305</td>\n      <td>True</td>\n      <td>9540005954158311246396907146026386130907160950...</td>\n      <td>0.0</td>\n      <td>2855830619693306362215765671441184555426887207...</td>\n      <td>1.0</td>\n    </tr>\n  </tbody>\n</table>\n<p>30 rows × 22 columns</p>\n</div>"
     },
     "execution_count": 145,
     "metadata": {},
     "output_type": "execute_result"
    }
   ],
   "source": [
    "merged_duped = (\n",
    "    traded_wl_df.merge(\n",
    "        traded_wl_df_switched,\n",
    "        on=[\"winner\", \"loser\", \"game_start_time\", \"match_id\"],\n",
    "        suffixes=(\"_first_win\", \"_second_win\"),\n",
    "    )\n",
    "    .merge(\n",
    "        markets_info_traded_df_draws,\n",
    "        on=[\"winner\", \"loser\", \"game_start_time\", \"match_id\"],\n",
    "        suffixes=(\"\", \"_draw\"),\n",
    "    )\n",
    "    .rename(columns={\"winner\": \"first\", \"loser\": \"second\"})\n",
    "    .groupby(\"match_id\")\n",
    "    .first()\n",
    "    .reset_index()\n",
    ")\n",
    "merged_duped"
   ]
  },
  {
   "cell_type": "code",
   "execution_count": 154,
   "id": "857f6e462de2386c",
   "metadata": {
    "collapsed": false,
    "ExecuteTime": {
     "end_time": "2024-09-05T12:58:41.015714063Z",
     "start_time": "2024-09-05T12:58:39.890793777Z"
    }
   },
   "outputs": [
    {
     "data": {
      "text/plain": "               match_id                   first                   second  \\\n0  -7686705775813752617                  Fulham             Ipswich Town   \n1  -7207986795286300592             Bournemouth         Newcastle United   \n2  -7021113643698515774        Newcastle United        Tottenham Hotspur   \n3  -6606115192345121424       Nottingham Forest  Wolverhampton Wanderers   \n4  -6372488427790714442               Brentford                Liverpool   \n5  -6178097404848359776                 Arsenal   Brighton & Hove Albion   \n6  -5668478559215340077                  Fulham           Leicester City   \n7  -4473749050102683384                 Everton        Tottenham Hotspur   \n8  -1960004041559828337               Brentford              Southampton   \n9  -1958410684441444657                  Fulham        Manchester United   \n10  -937966214669850518  Brighton & Hove Albion                  Everton   \n11  -759681699818020003             Aston Villa           Leicester City   \n12  -568488610496461985                 Arsenal  Wolverhampton Wanderers   \n13   243350930839179468         Manchester City          West Ham United   \n14   566101740155459773          Leicester City        Tottenham Hotspur   \n15   976617573959895639                 Chelsea           Crystal Palace   \n16  1377212323258161019          Crystal Palace          West Ham United   \n17  1436906738194619564                 Chelsea  Wolverhampton Wanderers   \n18  3222644086984654977             Bournemouth        Nottingham Forest   \n19  3249248685185371228        Newcastle United              Southampton   \n20  3676152965018794107  Brighton & Hove Albion        Manchester United   \n21  4133713339814173687             Aston Villa          West Ham United   \n22  4695431331216630878                 Chelsea          Manchester City   \n23  5474862885669447301         Manchester City             Ipswich Town   \n24  5683784463457326474               Brentford           Crystal Palace   \n25  6558637850094995970                 Arsenal              Aston Villa   \n26  6627028072653977744       Nottingham Forest              Southampton   \n27  7114991348099034180             Bournemouth                  Everton   \n28  8403341662787711466               Liverpool        Manchester United   \n29  9058556983094558512               Liverpool             Ipswich Town   \n\n    volume_first_win  closed_first_win  \\\n0        5815.749542              True   \n1         6817.51712              True   \n2       16197.184165              True   \n3        1996.301956              True   \n4       10460.211613              True   \n5       38583.198239              True   \n6        3539.832769              True   \n7        2620.177761              True   \n8        8893.260638              True   \n9       55641.874117              True   \n10       3653.510487              True   \n11      13667.839539              True   \n12       6020.189452              True   \n13      75228.648358              True   \n14      35486.842783              True   \n15       74848.61748              True   \n16      10191.574675              True   \n17      26634.716515              True   \n18       1011.850958              True   \n19       3826.085033              True   \n20       16100.67302              True   \n21       1586.266102              True   \n22      69173.470051              True   \n23      27893.808524              True   \n24       9461.179934              True   \n25       45331.94036              True   \n26       5875.637812              True   \n27       4898.660583              True   \n28     103092.660937              True   \n29      49991.555894              True   \n\n                               first_win_yes_token_id  \\\n0   5390684612591871180226940463614602007632608985...   \n1   5595597303624263375013541904246077929556506181...   \n2   3902396297125861646265048524779791779669292294...   \n3   6154942560231987257537066294648112889077743278...   \n4   8058812937056295301077754963716989842392959855...   \n5   6111503160491403443221654004462481775096015381...   \n6   4607962402989626140266501134480645068086366987...   \n7   6275796669559057519575423296233233326165712844...   \n8   9285165882976373321289124694825334422477391015...   \n9   1315385407057815291697000886516025911268371559...   \n10  8649969074913199093366662172869297709764982534...   \n11  4895205612462089475470288018904350190822398673...   \n12  5527691846705234450672254184205107543305538545...   \n13  1152175810247391033797625278510112484896101388...   \n14  2253496967083768029418370817958792540468892500...   \n15  8473141659136127648919471372081023410636831516...   \n16  4516439200542223346191468991244421433853323549...   \n17  4693983744224611933414059770758735147603128512...   \n18  1050823326941745808232230384776635914686556222...   \n19  3703189904231227990983035320875064301349630483...   \n20  4363887430695681438439969777135385836141535812...   \n21  2590834825744532827126496855820377172959601337...   \n22  1044409297542378279919133058732051678323714609...   \n23  1032286975385829717679040619296039282922051758...   \n24  5429626262733062082159357387223963655041915915...   \n25  5407858762055642414194294314062033095094505113...   \n26  6084219350777293337548432367912405711356629547...   \n27  3959980066742036215089748788937411215762900226...   \n28  2240422563777819450306265318188080406256478492...   \n29  4076493248006068459372043931314483211652301464...   \n\n    first_win_yes_token_price  \\\n0                         0.0   \n1                         0.0   \n2                         1.0   \n3                         0.0   \n4                         0.0   \n5                         0.0   \n6                         1.0   \n7                         0.0   \n8                         1.0   \n9                         0.0   \n10                        1.0   \n11                        1.0   \n12                        1.0   \n13                        1.0   \n14                        0.0   \n15                        0.0   \n16                        0.0   \n17                        1.0   \n18                        0.0   \n19                        1.0   \n20                        1.0   \n21                        1.0   \n22                        0.0   \n23                        1.0   \n24                        1.0   \n25                        1.0   \n26                        1.0   \n27                        1.0   \n28                        1.0   \n29                        1.0   \n\n                                first_win_no_token_id  \\\n0   4835867034043260323210602260980380172342860099...   \n1   2829599343436084726317107655436762981197686206...   \n2   6390143151867843714655104214159797394603648846...   \n3   7274828458575385276549632588018871878040247012...   \n4   4586745120104545026109118389516543779698202352...   \n5   5891194826219718921556265951457901437359904302...   \n6   7261539017555037054997917278338131112479553989...   \n7   8691539046046940277665499791939596124790931338...   \n8   6983060241552922298703023478823448877784249474...   \n9   1406282590488127830418252672774515413854682441...   \n10  3826764301780064585839803219870728228769895841...   \n11  1024314703901033275352340158084315679587779112...   \n12  6356458188135244770097471152068516793489505990...   \n13  9614120485896560286434949594283223492495138737...   \n14  5205264815967394975076098271007751665803291533...   \n15  7168237386744928574044957256855095466455619768...   \n16  4687957320348410016122138051488234221412201927...   \n17  1676359483389114381616880318941226244037654967...   \n18  3055705040419724043925898401765169215229404101...   \n19  4835519349073389880262784246706662900972151660...   \n20  3220601571635084165345439339081203289434711305...   \n21  4986474821922900765021775461704418956007315170...   \n22  5914849581549848345325833405767467637133756047...   \n23  4865186346945742731547308793659948177461921637...   \n24  4400918050715841535738213725320333214733871865...   \n25  1926331838542292358683977471374101091601070425...   \n26  2990764898818507744154341107216516002194136257...   \n27  2171311100446299993519861709116600368641588070...   \n28  9820099966911355146652312394094644541815475460...   \n29  1649837615641636063605105083833377683124643888...   \n\n    first_win_no_token_price     game_start_time  ...  \\\n0                        1.0 2024-08-31 14:00:00  ...   \n1                        1.0 2024-08-25 13:00:00  ...   \n2                        0.0 2024-09-01 12:30:00  ...   \n3                        1.0 2024-08-31 14:00:00  ...   \n4                        1.0 2024-08-25 15:30:00  ...   \n5                        1.0 2024-08-31 11:30:00  ...   \n6                        0.0 2024-08-24 14:00:00  ...   \n7                        1.0 2024-08-24 14:00:00  ...   \n8                        0.0 2024-08-31 14:00:00  ...   \n9                        1.0 2024-08-16 19:00:00  ...   \n10                       0.0 2024-08-17 14:00:00  ...   \n11                       0.0 2024-08-31 14:00:00  ...   \n12                       0.0 2024-08-17 14:00:00  ...   \n13                       0.0 2024-08-31 16:30:00  ...   \n14                       1.0 2024-08-19 19:00:00  ...   \n15                       1.0 2024-09-01 12:30:00  ...   \n16                       1.0 2024-08-24 14:00:00  ...   \n17                       0.0 2024-08-25 13:00:00  ...   \n18                       1.0 2024-08-17 14:00:00  ...   \n19                       0.0 2024-08-17 14:00:00  ...   \n20                       0.0 2024-08-24 11:30:00  ...   \n21                       0.0 2024-08-17 16:30:00  ...   \n22                       1.0 2024-08-18 15:30:00  ...   \n23                       0.0 2024-08-24 14:00:00  ...   \n24                       0.0 2024-08-18 13:00:00  ...   \n25                       0.0 2024-08-24 16:30:00  ...   \n26                       0.0 2024-08-24 14:00:00  ...   \n27                       0.0 2024-08-31 14:00:00  ...   \n28                       0.0 2024-09-01 15:00:00  ...   \n29                       0.0 2024-08-17 11:30:00  ...   \n\n                                    draw_yes_token_id  draw_yes_token_price  \\\n0   1056239115982502641842514644390919491396338064...                   1.0   \n1   9048290216715822669728345412856006694560460510...                   1.0   \n2   4968230879603371948866041796987077791752868535...                   0.0   \n3   1922636093149757117752916299704362461806023417...                   1.0   \n4   4937274880027886183807479622344736653709925151...                   0.0   \n5   3282101053200081500732589041854931815637585813...                   1.0   \n6   8573518884612686090908478468464167480657353847...                   0.0   \n7   1030756381874894962188194491483407194908508542...                   0.0   \n8   3102412140979869086108516105922538862811635984...                   0.0   \n9   4574822642040335406924607620918373394202085737...                   0.0   \n10  9304919452958376896948055473437428899642005415...                   0.0   \n11  7198006125524017729020999112949591754130072873...                   0.0   \n12  6991194735553612848038250487034629546236464121...                   0.0   \n13  4652444992635632642529930521199192482880908236...                   0.0   \n14  1092150698655357541278584944054193986397459611...                   1.0   \n15  6628081043611276835629741132699692180128963103...                   1.0   \n16  9554407256829296345146719819597792373406094240...                   0.0   \n17  2669948816667389679952961159118377490819933872...                   0.0   \n18  5548849022392522826256320455747757471022017206...                   1.0   \n19  9446028769889790347069042358640515469682078849...                   0.0   \n20  9251162583240927984496059688535910213923573518...                   0.0   \n21  2532192871106907135935473814725416209094440745...                   0.0   \n22  9235149848008054060490035014978016041910731296...                   0.0   \n23  8635915436035463467856304212862722541649139336...                   0.0   \n24  3009219378362503783120539603216859989448679922...                   0.0   \n25  3984949472265518240895263056129376916184709390...                   0.0   \n26  1023502335964161516192191431308073662125875606...                   0.0   \n27  6979466265655015180736494637283075984297819167...                   0.0   \n28  5748346962930599168820369398523887618224462408...                   0.0   \n29  9540005954158311246396907146026386130907160950...                   0.0   \n\n                                     draw_no_token_id  draw_no_token_price  \\\n0   6474528836620100582363221559257100699919142728...                  0.0   \n1   2081943794877508791078019192487212357316597380...                  0.0   \n2   6486150380988866473748206016838559835962169397...                  1.0   \n3   1072383393901019078745413673212653811002433746...                  0.0   \n4   8933757800840528696678082589188567084286739295...                  1.0   \n5   5646917549123102449163419527608818678170441410...                  0.0   \n6   1815059595045740714942503862018463711066903613...                  1.0   \n7   1065955351846421313987627768369814483760100781...                  1.0   \n8   1071771006010210786837770353476734639789497155...                  1.0   \n9   9413900031581212950670543634633325437183025849...                  1.0   \n10  3447947886944640827701489797204784932790754822...                  1.0   \n11  1108105314871755573169486973066833564111072150...                  1.0   \n12  5262318723269700375203161846345002558649857960...                  1.0   \n13  5519563340748631936641826338054313097421920479...                  1.0   \n14  7969158721120412268685074789077235878213919874...                  0.0   \n15  2038204275565301344807054547965085333069777021...                  0.0   \n16  1154766797920305868052899971040407028071036858...                  1.0   \n17  9345163663462117530864421716810644385871310572...                  1.0   \n18  1287798470161381994661331765600389966380379915...                  0.0   \n19  2180189139190563354478432591385881887983722370...                  1.0   \n20  8310108723809550530413844159414015681331768326...                  1.0   \n21  9704881586517114115511717036962037270461276676...                  1.0   \n22  1973119911403294056966328834312271279094967896...                  1.0   \n23  2684865682111585531196272682439415627946860772...                  1.0   \n24  2629166468993578745643089517480206338817416906...                  1.0   \n25  4485337955163659016002637467309784252215764770...                  1.0   \n26  7609766072672013523728429479250792043771199824...                  1.0   \n27  9201488080747150865847341565897594405713204637...                  1.0   \n28  1140402873184196006623330813957637322465116705...                  1.0   \n29  2855830619693306362215765671441184555426887207...                  1.0   \n\n   first_win_yes_toke_pre_price  first_win_no_toke_pre_price  \\\n0                         0.905                        0.500   \n1                         0.265                        0.825   \n2                         0.305                        0.270   \n3                         0.705                        0.490   \n4                         0.175                        0.435   \n5                         0.510                        0.615   \n6                         0.200                        0.610   \n7                         0.340                        0.690   \n8                         0.715                        0.695   \n9                         0.400                        0.595   \n10                        0.385                        0.610   \n11                        0.730                        0.645   \n12                        0.405                        0.920   \n13                        0.490                        0.510   \n14                        0.520                        0.285   \n15                        0.510                        0.590   \n16                        0.500                        0.095   \n17                        0.410                        0.660   \n18                        0.565                        0.800   \n19                        0.355                        0.275   \n20                        0.855                        0.735   \n21                        0.390                        0.145   \n22                        0.310                        0.600   \n23                        0.725                        0.455   \n24                        0.485                        0.410   \n25                        0.110                        0.480   \n26                        0.080                        0.515   \n27                        0.590                        0.890   \n28                        0.390                        0.295   \n29                        0.545                        0.490   \n\n    second_win_yes_toke_pre_price  second_win_no_toke_pre_price  \\\n0                           0.490                         0.690   \n1                           0.265                         0.595   \n2                           0.370                         0.570   \n3                           0.310                         0.510   \n4                           0.110                         0.415   \n5                           0.245                         0.425   \n6                           0.405                         0.195   \n7                           0.185                         0.615   \n8                           0.315                         0.665   \n9                           0.245                         0.755   \n10                          0.375                         0.630   \n11                          0.195                         0.685   \n12                          0.110                         0.735   \n13                          0.110                         0.890   \n14                          0.210                         0.640   \n15                          0.215                         0.790   \n16                          0.575                         0.890   \n17                          0.725                         0.785   \n18                          0.360                         0.660   \n19                          0.430                         0.750   \n20                          0.805                         0.755   \n21                          0.585                         0.950   \n22                          0.250                         0.976   \n23                          0.250                         0.275   \n24                          0.115                         0.625   \n25                          0.335                         0.815   \n26                          0.385                         0.885   \n27                          0.340                         0.750   \n28                          0.050                         0.890   \n29                          0.024                         0.805   \n\n   draw_yes_toke_pre_price  draw_no_toke_pre_price  \n0                    0.275                   0.830  \n1                    0.170                   0.750  \n2                    0.280                   0.735  \n3                    0.225                   0.750  \n4                    0.265                   0.755  \n5                    0.275                   0.730  \n6                    0.265                   0.720  \n7                    0.295                   0.735  \n8                    0.250                   0.745  \n9                    0.170                   0.770  \n10                   0.235                   0.725  \n11                   0.225                   0.820  \n12                   0.175                   0.705  \n13                   0.130                   0.925  \n14                   0.250                   0.830  \n15                   0.280                   0.710  \n16                   0.245                   0.765  \n17                   0.230                   0.895  \n18                   0.280                   0.825  \n19                   0.105                   0.830  \n20                   0.250                   0.720  \n21                   0.265                   0.750  \n22                   0.075                   0.725  \n23                   0.275                   0.775  \n24                   0.255                   0.740  \n25                   0.260                   0.870  \n26                   0.290                   0.720  \n27                   0.180                   0.735  \n28                   0.170                   0.775  \n29                   0.270                   0.725  \n\n[30 rows x 28 columns]",
      "text/html": "<div>\n<style scoped>\n    .dataframe tbody tr th:only-of-type {\n        vertical-align: middle;\n    }\n\n    .dataframe tbody tr th {\n        vertical-align: top;\n    }\n\n    .dataframe thead th {\n        text-align: right;\n    }\n</style>\n<table border=\"1\" class=\"dataframe\">\n  <thead>\n    <tr style=\"text-align: right;\">\n      <th></th>\n      <th>match_id</th>\n      <th>first</th>\n      <th>second</th>\n      <th>volume_first_win</th>\n      <th>closed_first_win</th>\n      <th>first_win_yes_token_id</th>\n      <th>first_win_yes_token_price</th>\n      <th>first_win_no_token_id</th>\n      <th>first_win_no_token_price</th>\n      <th>game_start_time</th>\n      <th>...</th>\n      <th>draw_yes_token_id</th>\n      <th>draw_yes_token_price</th>\n      <th>draw_no_token_id</th>\n      <th>draw_no_token_price</th>\n      <th>first_win_yes_toke_pre_price</th>\n      <th>first_win_no_toke_pre_price</th>\n      <th>second_win_yes_toke_pre_price</th>\n      <th>second_win_no_toke_pre_price</th>\n      <th>draw_yes_toke_pre_price</th>\n      <th>draw_no_toke_pre_price</th>\n    </tr>\n  </thead>\n  <tbody>\n    <tr>\n      <th>0</th>\n      <td>-7686705775813752617</td>\n      <td>Fulham</td>\n      <td>Ipswich Town</td>\n      <td>5815.749542</td>\n      <td>True</td>\n      <td>5390684612591871180226940463614602007632608985...</td>\n      <td>0.0</td>\n      <td>4835867034043260323210602260980380172342860099...</td>\n      <td>1.0</td>\n      <td>2024-08-31 14:00:00</td>\n      <td>...</td>\n      <td>1056239115982502641842514644390919491396338064...</td>\n      <td>1.0</td>\n      <td>6474528836620100582363221559257100699919142728...</td>\n      <td>0.0</td>\n      <td>0.905</td>\n      <td>0.500</td>\n      <td>0.490</td>\n      <td>0.690</td>\n      <td>0.275</td>\n      <td>0.830</td>\n    </tr>\n    <tr>\n      <th>1</th>\n      <td>-7207986795286300592</td>\n      <td>Bournemouth</td>\n      <td>Newcastle United</td>\n      <td>6817.51712</td>\n      <td>True</td>\n      <td>5595597303624263375013541904246077929556506181...</td>\n      <td>0.0</td>\n      <td>2829599343436084726317107655436762981197686206...</td>\n      <td>1.0</td>\n      <td>2024-08-25 13:00:00</td>\n      <td>...</td>\n      <td>9048290216715822669728345412856006694560460510...</td>\n      <td>1.0</td>\n      <td>2081943794877508791078019192487212357316597380...</td>\n      <td>0.0</td>\n      <td>0.265</td>\n      <td>0.825</td>\n      <td>0.265</td>\n      <td>0.595</td>\n      <td>0.170</td>\n      <td>0.750</td>\n    </tr>\n    <tr>\n      <th>2</th>\n      <td>-7021113643698515774</td>\n      <td>Newcastle United</td>\n      <td>Tottenham Hotspur</td>\n      <td>16197.184165</td>\n      <td>True</td>\n      <td>3902396297125861646265048524779791779669292294...</td>\n      <td>1.0</td>\n      <td>6390143151867843714655104214159797394603648846...</td>\n      <td>0.0</td>\n      <td>2024-09-01 12:30:00</td>\n      <td>...</td>\n      <td>4968230879603371948866041796987077791752868535...</td>\n      <td>0.0</td>\n      <td>6486150380988866473748206016838559835962169397...</td>\n      <td>1.0</td>\n      <td>0.305</td>\n      <td>0.270</td>\n      <td>0.370</td>\n      <td>0.570</td>\n      <td>0.280</td>\n      <td>0.735</td>\n    </tr>\n    <tr>\n      <th>3</th>\n      <td>-6606115192345121424</td>\n      <td>Nottingham Forest</td>\n      <td>Wolverhampton Wanderers</td>\n      <td>1996.301956</td>\n      <td>True</td>\n      <td>6154942560231987257537066294648112889077743278...</td>\n      <td>0.0</td>\n      <td>7274828458575385276549632588018871878040247012...</td>\n      <td>1.0</td>\n      <td>2024-08-31 14:00:00</td>\n      <td>...</td>\n      <td>1922636093149757117752916299704362461806023417...</td>\n      <td>1.0</td>\n      <td>1072383393901019078745413673212653811002433746...</td>\n      <td>0.0</td>\n      <td>0.705</td>\n      <td>0.490</td>\n      <td>0.310</td>\n      <td>0.510</td>\n      <td>0.225</td>\n      <td>0.750</td>\n    </tr>\n    <tr>\n      <th>4</th>\n      <td>-6372488427790714442</td>\n      <td>Brentford</td>\n      <td>Liverpool</td>\n      <td>10460.211613</td>\n      <td>True</td>\n      <td>8058812937056295301077754963716989842392959855...</td>\n      <td>0.0</td>\n      <td>4586745120104545026109118389516543779698202352...</td>\n      <td>1.0</td>\n      <td>2024-08-25 15:30:00</td>\n      <td>...</td>\n      <td>4937274880027886183807479622344736653709925151...</td>\n      <td>0.0</td>\n      <td>8933757800840528696678082589188567084286739295...</td>\n      <td>1.0</td>\n      <td>0.175</td>\n      <td>0.435</td>\n      <td>0.110</td>\n      <td>0.415</td>\n      <td>0.265</td>\n      <td>0.755</td>\n    </tr>\n    <tr>\n      <th>5</th>\n      <td>-6178097404848359776</td>\n      <td>Arsenal</td>\n      <td>Brighton &amp; Hove Albion</td>\n      <td>38583.198239</td>\n      <td>True</td>\n      <td>6111503160491403443221654004462481775096015381...</td>\n      <td>0.0</td>\n      <td>5891194826219718921556265951457901437359904302...</td>\n      <td>1.0</td>\n      <td>2024-08-31 11:30:00</td>\n      <td>...</td>\n      <td>3282101053200081500732589041854931815637585813...</td>\n      <td>1.0</td>\n      <td>5646917549123102449163419527608818678170441410...</td>\n      <td>0.0</td>\n      <td>0.510</td>\n      <td>0.615</td>\n      <td>0.245</td>\n      <td>0.425</td>\n      <td>0.275</td>\n      <td>0.730</td>\n    </tr>\n    <tr>\n      <th>6</th>\n      <td>-5668478559215340077</td>\n      <td>Fulham</td>\n      <td>Leicester City</td>\n      <td>3539.832769</td>\n      <td>True</td>\n      <td>4607962402989626140266501134480645068086366987...</td>\n      <td>1.0</td>\n      <td>7261539017555037054997917278338131112479553989...</td>\n      <td>0.0</td>\n      <td>2024-08-24 14:00:00</td>\n      <td>...</td>\n      <td>8573518884612686090908478468464167480657353847...</td>\n      <td>0.0</td>\n      <td>1815059595045740714942503862018463711066903613...</td>\n      <td>1.0</td>\n      <td>0.200</td>\n      <td>0.610</td>\n      <td>0.405</td>\n      <td>0.195</td>\n      <td>0.265</td>\n      <td>0.720</td>\n    </tr>\n    <tr>\n      <th>7</th>\n      <td>-4473749050102683384</td>\n      <td>Everton</td>\n      <td>Tottenham Hotspur</td>\n      <td>2620.177761</td>\n      <td>True</td>\n      <td>6275796669559057519575423296233233326165712844...</td>\n      <td>0.0</td>\n      <td>8691539046046940277665499791939596124790931338...</td>\n      <td>1.0</td>\n      <td>2024-08-24 14:00:00</td>\n      <td>...</td>\n      <td>1030756381874894962188194491483407194908508542...</td>\n      <td>0.0</td>\n      <td>1065955351846421313987627768369814483760100781...</td>\n      <td>1.0</td>\n      <td>0.340</td>\n      <td>0.690</td>\n      <td>0.185</td>\n      <td>0.615</td>\n      <td>0.295</td>\n      <td>0.735</td>\n    </tr>\n    <tr>\n      <th>8</th>\n      <td>-1960004041559828337</td>\n      <td>Brentford</td>\n      <td>Southampton</td>\n      <td>8893.260638</td>\n      <td>True</td>\n      <td>9285165882976373321289124694825334422477391015...</td>\n      <td>1.0</td>\n      <td>6983060241552922298703023478823448877784249474...</td>\n      <td>0.0</td>\n      <td>2024-08-31 14:00:00</td>\n      <td>...</td>\n      <td>3102412140979869086108516105922538862811635984...</td>\n      <td>0.0</td>\n      <td>1071771006010210786837770353476734639789497155...</td>\n      <td>1.0</td>\n      <td>0.715</td>\n      <td>0.695</td>\n      <td>0.315</td>\n      <td>0.665</td>\n      <td>0.250</td>\n      <td>0.745</td>\n    </tr>\n    <tr>\n      <th>9</th>\n      <td>-1958410684441444657</td>\n      <td>Fulham</td>\n      <td>Manchester United</td>\n      <td>55641.874117</td>\n      <td>True</td>\n      <td>1315385407057815291697000886516025911268371559...</td>\n      <td>0.0</td>\n      <td>1406282590488127830418252672774515413854682441...</td>\n      <td>1.0</td>\n      <td>2024-08-16 19:00:00</td>\n      <td>...</td>\n      <td>4574822642040335406924607620918373394202085737...</td>\n      <td>0.0</td>\n      <td>9413900031581212950670543634633325437183025849...</td>\n      <td>1.0</td>\n      <td>0.400</td>\n      <td>0.595</td>\n      <td>0.245</td>\n      <td>0.755</td>\n      <td>0.170</td>\n      <td>0.770</td>\n    </tr>\n    <tr>\n      <th>10</th>\n      <td>-937966214669850518</td>\n      <td>Brighton &amp; Hove Albion</td>\n      <td>Everton</td>\n      <td>3653.510487</td>\n      <td>True</td>\n      <td>8649969074913199093366662172869297709764982534...</td>\n      <td>1.0</td>\n      <td>3826764301780064585839803219870728228769895841...</td>\n      <td>0.0</td>\n      <td>2024-08-17 14:00:00</td>\n      <td>...</td>\n      <td>9304919452958376896948055473437428899642005415...</td>\n      <td>0.0</td>\n      <td>3447947886944640827701489797204784932790754822...</td>\n      <td>1.0</td>\n      <td>0.385</td>\n      <td>0.610</td>\n      <td>0.375</td>\n      <td>0.630</td>\n      <td>0.235</td>\n      <td>0.725</td>\n    </tr>\n    <tr>\n      <th>11</th>\n      <td>-759681699818020003</td>\n      <td>Aston Villa</td>\n      <td>Leicester City</td>\n      <td>13667.839539</td>\n      <td>True</td>\n      <td>4895205612462089475470288018904350190822398673...</td>\n      <td>1.0</td>\n      <td>1024314703901033275352340158084315679587779112...</td>\n      <td>0.0</td>\n      <td>2024-08-31 14:00:00</td>\n      <td>...</td>\n      <td>7198006125524017729020999112949591754130072873...</td>\n      <td>0.0</td>\n      <td>1108105314871755573169486973066833564111072150...</td>\n      <td>1.0</td>\n      <td>0.730</td>\n      <td>0.645</td>\n      <td>0.195</td>\n      <td>0.685</td>\n      <td>0.225</td>\n      <td>0.820</td>\n    </tr>\n    <tr>\n      <th>12</th>\n      <td>-568488610496461985</td>\n      <td>Arsenal</td>\n      <td>Wolverhampton Wanderers</td>\n      <td>6020.189452</td>\n      <td>True</td>\n      <td>5527691846705234450672254184205107543305538545...</td>\n      <td>1.0</td>\n      <td>6356458188135244770097471152068516793489505990...</td>\n      <td>0.0</td>\n      <td>2024-08-17 14:00:00</td>\n      <td>...</td>\n      <td>6991194735553612848038250487034629546236464121...</td>\n      <td>0.0</td>\n      <td>5262318723269700375203161846345002558649857960...</td>\n      <td>1.0</td>\n      <td>0.405</td>\n      <td>0.920</td>\n      <td>0.110</td>\n      <td>0.735</td>\n      <td>0.175</td>\n      <td>0.705</td>\n    </tr>\n    <tr>\n      <th>13</th>\n      <td>243350930839179468</td>\n      <td>Manchester City</td>\n      <td>West Ham United</td>\n      <td>75228.648358</td>\n      <td>True</td>\n      <td>1152175810247391033797625278510112484896101388...</td>\n      <td>1.0</td>\n      <td>9614120485896560286434949594283223492495138737...</td>\n      <td>0.0</td>\n      <td>2024-08-31 16:30:00</td>\n      <td>...</td>\n      <td>4652444992635632642529930521199192482880908236...</td>\n      <td>0.0</td>\n      <td>5519563340748631936641826338054313097421920479...</td>\n      <td>1.0</td>\n      <td>0.490</td>\n      <td>0.510</td>\n      <td>0.110</td>\n      <td>0.890</td>\n      <td>0.130</td>\n      <td>0.925</td>\n    </tr>\n    <tr>\n      <th>14</th>\n      <td>566101740155459773</td>\n      <td>Leicester City</td>\n      <td>Tottenham Hotspur</td>\n      <td>35486.842783</td>\n      <td>True</td>\n      <td>2253496967083768029418370817958792540468892500...</td>\n      <td>0.0</td>\n      <td>5205264815967394975076098271007751665803291533...</td>\n      <td>1.0</td>\n      <td>2024-08-19 19:00:00</td>\n      <td>...</td>\n      <td>1092150698655357541278584944054193986397459611...</td>\n      <td>1.0</td>\n      <td>7969158721120412268685074789077235878213919874...</td>\n      <td>0.0</td>\n      <td>0.520</td>\n      <td>0.285</td>\n      <td>0.210</td>\n      <td>0.640</td>\n      <td>0.250</td>\n      <td>0.830</td>\n    </tr>\n    <tr>\n      <th>15</th>\n      <td>976617573959895639</td>\n      <td>Chelsea</td>\n      <td>Crystal Palace</td>\n      <td>74848.61748</td>\n      <td>True</td>\n      <td>8473141659136127648919471372081023410636831516...</td>\n      <td>0.0</td>\n      <td>7168237386744928574044957256855095466455619768...</td>\n      <td>1.0</td>\n      <td>2024-09-01 12:30:00</td>\n      <td>...</td>\n      <td>6628081043611276835629741132699692180128963103...</td>\n      <td>1.0</td>\n      <td>2038204275565301344807054547965085333069777021...</td>\n      <td>0.0</td>\n      <td>0.510</td>\n      <td>0.590</td>\n      <td>0.215</td>\n      <td>0.790</td>\n      <td>0.280</td>\n      <td>0.710</td>\n    </tr>\n    <tr>\n      <th>16</th>\n      <td>1377212323258161019</td>\n      <td>Crystal Palace</td>\n      <td>West Ham United</td>\n      <td>10191.574675</td>\n      <td>True</td>\n      <td>4516439200542223346191468991244421433853323549...</td>\n      <td>0.0</td>\n      <td>4687957320348410016122138051488234221412201927...</td>\n      <td>1.0</td>\n      <td>2024-08-24 14:00:00</td>\n      <td>...</td>\n      <td>9554407256829296345146719819597792373406094240...</td>\n      <td>0.0</td>\n      <td>1154766797920305868052899971040407028071036858...</td>\n      <td>1.0</td>\n      <td>0.500</td>\n      <td>0.095</td>\n      <td>0.575</td>\n      <td>0.890</td>\n      <td>0.245</td>\n      <td>0.765</td>\n    </tr>\n    <tr>\n      <th>17</th>\n      <td>1436906738194619564</td>\n      <td>Chelsea</td>\n      <td>Wolverhampton Wanderers</td>\n      <td>26634.716515</td>\n      <td>True</td>\n      <td>4693983744224611933414059770758735147603128512...</td>\n      <td>1.0</td>\n      <td>1676359483389114381616880318941226244037654967...</td>\n      <td>0.0</td>\n      <td>2024-08-25 13:00:00</td>\n      <td>...</td>\n      <td>2669948816667389679952961159118377490819933872...</td>\n      <td>0.0</td>\n      <td>9345163663462117530864421716810644385871310572...</td>\n      <td>1.0</td>\n      <td>0.410</td>\n      <td>0.660</td>\n      <td>0.725</td>\n      <td>0.785</td>\n      <td>0.230</td>\n      <td>0.895</td>\n    </tr>\n    <tr>\n      <th>18</th>\n      <td>3222644086984654977</td>\n      <td>Bournemouth</td>\n      <td>Nottingham Forest</td>\n      <td>1011.850958</td>\n      <td>True</td>\n      <td>1050823326941745808232230384776635914686556222...</td>\n      <td>0.0</td>\n      <td>3055705040419724043925898401765169215229404101...</td>\n      <td>1.0</td>\n      <td>2024-08-17 14:00:00</td>\n      <td>...</td>\n      <td>5548849022392522826256320455747757471022017206...</td>\n      <td>1.0</td>\n      <td>1287798470161381994661331765600389966380379915...</td>\n      <td>0.0</td>\n      <td>0.565</td>\n      <td>0.800</td>\n      <td>0.360</td>\n      <td>0.660</td>\n      <td>0.280</td>\n      <td>0.825</td>\n    </tr>\n    <tr>\n      <th>19</th>\n      <td>3249248685185371228</td>\n      <td>Newcastle United</td>\n      <td>Southampton</td>\n      <td>3826.085033</td>\n      <td>True</td>\n      <td>3703189904231227990983035320875064301349630483...</td>\n      <td>1.0</td>\n      <td>4835519349073389880262784246706662900972151660...</td>\n      <td>0.0</td>\n      <td>2024-08-17 14:00:00</td>\n      <td>...</td>\n      <td>9446028769889790347069042358640515469682078849...</td>\n      <td>0.0</td>\n      <td>2180189139190563354478432591385881887983722370...</td>\n      <td>1.0</td>\n      <td>0.355</td>\n      <td>0.275</td>\n      <td>0.430</td>\n      <td>0.750</td>\n      <td>0.105</td>\n      <td>0.830</td>\n    </tr>\n    <tr>\n      <th>20</th>\n      <td>3676152965018794107</td>\n      <td>Brighton &amp; Hove Albion</td>\n      <td>Manchester United</td>\n      <td>16100.67302</td>\n      <td>True</td>\n      <td>4363887430695681438439969777135385836141535812...</td>\n      <td>1.0</td>\n      <td>3220601571635084165345439339081203289434711305...</td>\n      <td>0.0</td>\n      <td>2024-08-24 11:30:00</td>\n      <td>...</td>\n      <td>9251162583240927984496059688535910213923573518...</td>\n      <td>0.0</td>\n      <td>8310108723809550530413844159414015681331768326...</td>\n      <td>1.0</td>\n      <td>0.855</td>\n      <td>0.735</td>\n      <td>0.805</td>\n      <td>0.755</td>\n      <td>0.250</td>\n      <td>0.720</td>\n    </tr>\n    <tr>\n      <th>21</th>\n      <td>4133713339814173687</td>\n      <td>Aston Villa</td>\n      <td>West Ham United</td>\n      <td>1586.266102</td>\n      <td>True</td>\n      <td>2590834825744532827126496855820377172959601337...</td>\n      <td>1.0</td>\n      <td>4986474821922900765021775461704418956007315170...</td>\n      <td>0.0</td>\n      <td>2024-08-17 16:30:00</td>\n      <td>...</td>\n      <td>2532192871106907135935473814725416209094440745...</td>\n      <td>0.0</td>\n      <td>9704881586517114115511717036962037270461276676...</td>\n      <td>1.0</td>\n      <td>0.390</td>\n      <td>0.145</td>\n      <td>0.585</td>\n      <td>0.950</td>\n      <td>0.265</td>\n      <td>0.750</td>\n    </tr>\n    <tr>\n      <th>22</th>\n      <td>4695431331216630878</td>\n      <td>Chelsea</td>\n      <td>Manchester City</td>\n      <td>69173.470051</td>\n      <td>True</td>\n      <td>1044409297542378279919133058732051678323714609...</td>\n      <td>0.0</td>\n      <td>5914849581549848345325833405767467637133756047...</td>\n      <td>1.0</td>\n      <td>2024-08-18 15:30:00</td>\n      <td>...</td>\n      <td>9235149848008054060490035014978016041910731296...</td>\n      <td>0.0</td>\n      <td>1973119911403294056966328834312271279094967896...</td>\n      <td>1.0</td>\n      <td>0.310</td>\n      <td>0.600</td>\n      <td>0.250</td>\n      <td>0.976</td>\n      <td>0.075</td>\n      <td>0.725</td>\n    </tr>\n    <tr>\n      <th>23</th>\n      <td>5474862885669447301</td>\n      <td>Manchester City</td>\n      <td>Ipswich Town</td>\n      <td>27893.808524</td>\n      <td>True</td>\n      <td>1032286975385829717679040619296039282922051758...</td>\n      <td>1.0</td>\n      <td>4865186346945742731547308793659948177461921637...</td>\n      <td>0.0</td>\n      <td>2024-08-24 14:00:00</td>\n      <td>...</td>\n      <td>8635915436035463467856304212862722541649139336...</td>\n      <td>0.0</td>\n      <td>2684865682111585531196272682439415627946860772...</td>\n      <td>1.0</td>\n      <td>0.725</td>\n      <td>0.455</td>\n      <td>0.250</td>\n      <td>0.275</td>\n      <td>0.275</td>\n      <td>0.775</td>\n    </tr>\n    <tr>\n      <th>24</th>\n      <td>5683784463457326474</td>\n      <td>Brentford</td>\n      <td>Crystal Palace</td>\n      <td>9461.179934</td>\n      <td>True</td>\n      <td>5429626262733062082159357387223963655041915915...</td>\n      <td>1.0</td>\n      <td>4400918050715841535738213725320333214733871865...</td>\n      <td>0.0</td>\n      <td>2024-08-18 13:00:00</td>\n      <td>...</td>\n      <td>3009219378362503783120539603216859989448679922...</td>\n      <td>0.0</td>\n      <td>2629166468993578745643089517480206338817416906...</td>\n      <td>1.0</td>\n      <td>0.485</td>\n      <td>0.410</td>\n      <td>0.115</td>\n      <td>0.625</td>\n      <td>0.255</td>\n      <td>0.740</td>\n    </tr>\n    <tr>\n      <th>25</th>\n      <td>6558637850094995970</td>\n      <td>Arsenal</td>\n      <td>Aston Villa</td>\n      <td>45331.94036</td>\n      <td>True</td>\n      <td>5407858762055642414194294314062033095094505113...</td>\n      <td>1.0</td>\n      <td>1926331838542292358683977471374101091601070425...</td>\n      <td>0.0</td>\n      <td>2024-08-24 16:30:00</td>\n      <td>...</td>\n      <td>3984949472265518240895263056129376916184709390...</td>\n      <td>0.0</td>\n      <td>4485337955163659016002637467309784252215764770...</td>\n      <td>1.0</td>\n      <td>0.110</td>\n      <td>0.480</td>\n      <td>0.335</td>\n      <td>0.815</td>\n      <td>0.260</td>\n      <td>0.870</td>\n    </tr>\n    <tr>\n      <th>26</th>\n      <td>6627028072653977744</td>\n      <td>Nottingham Forest</td>\n      <td>Southampton</td>\n      <td>5875.637812</td>\n      <td>True</td>\n      <td>6084219350777293337548432367912405711356629547...</td>\n      <td>1.0</td>\n      <td>2990764898818507744154341107216516002194136257...</td>\n      <td>0.0</td>\n      <td>2024-08-24 14:00:00</td>\n      <td>...</td>\n      <td>1023502335964161516192191431308073662125875606...</td>\n      <td>0.0</td>\n      <td>7609766072672013523728429479250792043771199824...</td>\n      <td>1.0</td>\n      <td>0.080</td>\n      <td>0.515</td>\n      <td>0.385</td>\n      <td>0.885</td>\n      <td>0.290</td>\n      <td>0.720</td>\n    </tr>\n    <tr>\n      <th>27</th>\n      <td>7114991348099034180</td>\n      <td>Bournemouth</td>\n      <td>Everton</td>\n      <td>4898.660583</td>\n      <td>True</td>\n      <td>3959980066742036215089748788937411215762900226...</td>\n      <td>1.0</td>\n      <td>2171311100446299993519861709116600368641588070...</td>\n      <td>0.0</td>\n      <td>2024-08-31 14:00:00</td>\n      <td>...</td>\n      <td>6979466265655015180736494637283075984297819167...</td>\n      <td>0.0</td>\n      <td>9201488080747150865847341565897594405713204637...</td>\n      <td>1.0</td>\n      <td>0.590</td>\n      <td>0.890</td>\n      <td>0.340</td>\n      <td>0.750</td>\n      <td>0.180</td>\n      <td>0.735</td>\n    </tr>\n    <tr>\n      <th>28</th>\n      <td>8403341662787711466</td>\n      <td>Liverpool</td>\n      <td>Manchester United</td>\n      <td>103092.660937</td>\n      <td>True</td>\n      <td>2240422563777819450306265318188080406256478492...</td>\n      <td>1.0</td>\n      <td>9820099966911355146652312394094644541815475460...</td>\n      <td>0.0</td>\n      <td>2024-09-01 15:00:00</td>\n      <td>...</td>\n      <td>5748346962930599168820369398523887618224462408...</td>\n      <td>0.0</td>\n      <td>1140402873184196006623330813957637322465116705...</td>\n      <td>1.0</td>\n      <td>0.390</td>\n      <td>0.295</td>\n      <td>0.050</td>\n      <td>0.890</td>\n      <td>0.170</td>\n      <td>0.775</td>\n    </tr>\n    <tr>\n      <th>29</th>\n      <td>9058556983094558512</td>\n      <td>Liverpool</td>\n      <td>Ipswich Town</td>\n      <td>49991.555894</td>\n      <td>True</td>\n      <td>4076493248006068459372043931314483211652301464...</td>\n      <td>1.0</td>\n      <td>1649837615641636063605105083833377683124643888...</td>\n      <td>0.0</td>\n      <td>2024-08-17 11:30:00</td>\n      <td>...</td>\n      <td>9540005954158311246396907146026386130907160950...</td>\n      <td>0.0</td>\n      <td>2855830619693306362215765671441184555426887207...</td>\n      <td>1.0</td>\n      <td>0.545</td>\n      <td>0.490</td>\n      <td>0.024</td>\n      <td>0.805</td>\n      <td>0.270</td>\n      <td>0.725</td>\n    </tr>\n  </tbody>\n</table>\n<p>30 rows × 28 columns</p>\n</div>"
     },
     "execution_count": 154,
     "metadata": {},
     "output_type": "execute_result"
    }
   ],
   "source": [
    "pre_game_timedelta = pd.Timedelta(minutes=5)\n",
    "\n",
    "\n",
    "def get_price_at_time(info_df, history_df, token_col, pre_game_timedelta):\n",
    "    joined_gametime_prices = (\n",
    "        history_df.reset_index(names=[\"token_id\", \"timestamp\"])\n",
    "        .merge(\n",
    "            info_df[\n",
    "                [\n",
    "                    \"game_start_time\",\n",
    "                    token_col,\n",
    "                ]\n",
    "            ],\n",
    "            left_on=\"token_id\",\n",
    "            right_on=token_col,\n",
    "        )\n",
    "        .assign(\n",
    "            timestamp=lambda x: pd.to_datetime(x.timestamp),\n",
    "        )\n",
    "        .assign(pre_game_time=lambda x: x.game_start_time - pre_game_timedelta)\n",
    "    )\n",
    "\n",
    "    price_at_time = (\n",
    "        joined_gametime_prices.loc[\n",
    "            (joined_gametime_prices.timestamp < joined_gametime_prices.pre_game_time)\n",
    "        ]\n",
    "        .groupby(\"token_id\")\n",
    "        .last()\n",
    "    )\n",
    "    return price_at_time.price\n",
    "\n",
    "\n",
    "token_cols_list = [\n",
    "    \"first_win_yes_token_id\",\n",
    "    \"first_win_no_token_id\",\n",
    "    \"second_win_yes_token_id\",\n",
    "    \"second_win_no_token_id\",\n",
    "    \"draw_yes_token_id\",\n",
    "    \"draw_no_token_id\",\n",
    "]\n",
    "\n",
    "df = merged_duped.assign(\n",
    "    **{\n",
    "        s[:-4]+ \"_pre_price\": get_price_at_time(\n",
    "            merged_duped, all_histories, s, pre_game_timedelta\n",
    "        ).values\n",
    "        for s in token_cols_list\n",
    "    }\n",
    ")\n",
    "df"
   ]
  },
  {
   "cell_type": "code",
   "execution_count": 111,
   "id": "a95283536c9851e0",
   "metadata": {
    "ExecuteTime": {
     "end_time": "2024-09-05T10:37:17.164196452Z",
     "start_time": "2024-09-05T10:37:17.131240872Z"
    },
    "collapsed": false
   },
   "outputs": [
    {
     "data": {
      "application/vnd.plotly.v1+json": {
       "config": {
        "plotlyServerURL": "https://plot.ly"
       },
       "data": [
        {
         "hovertemplate": "price=%{x}<br>first_token_price=%{y}<extra></extra>",
         "legendgroup": "",
         "marker": {
          "color": "#636efa",
          "symbol": "circle"
         },
         "mode": "markers",
         "name": "",
         "orientation": "v",
         "showlegend": false,
         "type": "scatter",
         "x": [
          0.275,
          0.17,
          0.265,
          0.305,
          0.49,
          0.5,
          0.37,
          0.225,
          0.6,
          0.31,
          0.175,
          0.245,
          0.405,
          0.2,
          0.275,
          0.34,
          0.265,
          0.245,
          0.375,
          0.5,
          0.295,
          0.675,
          0.505,
          0.195,
          0.715,
          0.11,
          0.235,
          0.11,
          0.73,
          0.405,
          0.36,
          0.49,
          0.225,
          0.52,
          0.575,
          0.51,
          0.63,
          0.725,
          0.13,
          0.69,
          0.4,
          0.565,
          0.355,
          0.855,
          0.28,
          0.39,
          0.565,
          0.62,
          0.59,
          0.31,
          0.43,
          0.805,
          0.11,
          0.585,
          0.755,
          0.835,
          0.37,
          0.105,
          0.68,
          0.08,
          0.5,
          0.265,
          0.075,
          0.39,
          0.275,
          0.31,
          0.255,
          0.26,
          0.385,
          0.29,
          0.18,
          0.71,
          0.61,
          0.17,
          0.27,
          0.34,
          0.4,
          0.05
         ],
         "xaxis": "x",
         "y": [
          0.0,
          0.0,
          0.0,
          0.0,
          1.0,
          0.0,
          0.0,
          1.0,
          0.0,
          0.0,
          0.0,
          1.0,
          0.0,
          0.0,
          0.0,
          1.0,
          0.0,
          0.0,
          0.0,
          0.0,
          0.0,
          1.0,
          1.0,
          0.0,
          1.0,
          0.0,
          0.0,
          0.0,
          1.0,
          1.0,
          0.0,
          0.0,
          0.0,
          1.0,
          0.0,
          1.0,
          0.0,
          1.0,
          0.0,
          8.140065502455539E-5,
          1.0,
          1.0,
          1.0,
          1.0,
          1.0,
          0.0,
          1.0,
          0.0,
          1.0,
          1.0,
          0.0,
          1.0,
          0.0,
          1.0,
          0.0,
          1.0,
          0.0,
          0.0,
          0.0,
          0.0,
          1.0,
          0.0,
          0.0,
          1.0,
          1.0,
          0.9767158039242548,
          0.0,
          0.0,
          0.0,
          0.0,
          0.0,
          0.0,
          0.9998105323986264,
          0.0,
          0.0,
          0.0,
          0.999883481099508,
          0.0
         ],
         "yaxis": "y"
        }
       ],
       "layout": {
        "legend": {
         "tracegroupgap": 0
        },
        "margin": {
         "t": 60
        },
        "template": {
         "data": {
          "bar": [
           {
            "error_x": {
             "color": "#f2f5fa"
            },
            "error_y": {
             "color": "#f2f5fa"
            },
            "marker": {
             "line": {
              "color": "rgb(17,17,17)",
              "width": 0.5
             },
             "pattern": {
              "fillmode": "overlay",
              "size": 10,
              "solidity": 0.2
             }
            },
            "type": "bar"
           }
          ],
          "barpolar": [
           {
            "marker": {
             "line": {
              "color": "rgb(17,17,17)",
              "width": 0.5
             },
             "pattern": {
              "fillmode": "overlay",
              "size": 10,
              "solidity": 0.2
             }
            },
            "type": "barpolar"
           }
          ],
          "carpet": [
           {
            "aaxis": {
             "endlinecolor": "#A2B1C6",
             "gridcolor": "#506784",
             "linecolor": "#506784",
             "minorgridcolor": "#506784",
             "startlinecolor": "#A2B1C6"
            },
            "baxis": {
             "endlinecolor": "#A2B1C6",
             "gridcolor": "#506784",
             "linecolor": "#506784",
             "minorgridcolor": "#506784",
             "startlinecolor": "#A2B1C6"
            },
            "type": "carpet"
           }
          ],
          "choropleth": [
           {
            "colorbar": {
             "outlinewidth": 0,
             "ticks": ""
            },
            "type": "choropleth"
           }
          ],
          "contour": [
           {
            "colorbar": {
             "outlinewidth": 0,
             "ticks": ""
            },
            "colorscale": [
             [
              0.0,
              "#0d0887"
             ],
             [
              0.1111111111111111,
              "#46039f"
             ],
             [
              0.2222222222222222,
              "#7201a8"
             ],
             [
              0.3333333333333333,
              "#9c179e"
             ],
             [
              0.4444444444444444,
              "#bd3786"
             ],
             [
              0.5555555555555556,
              "#d8576b"
             ],
             [
              0.6666666666666666,
              "#ed7953"
             ],
             [
              0.7777777777777778,
              "#fb9f3a"
             ],
             [
              0.8888888888888888,
              "#fdca26"
             ],
             [
              1.0,
              "#f0f921"
             ]
            ],
            "type": "contour"
           }
          ],
          "contourcarpet": [
           {
            "colorbar": {
             "outlinewidth": 0,
             "ticks": ""
            },
            "type": "contourcarpet"
           }
          ],
          "heatmap": [
           {
            "colorbar": {
             "outlinewidth": 0,
             "ticks": ""
            },
            "colorscale": [
             [
              0.0,
              "#0d0887"
             ],
             [
              0.1111111111111111,
              "#46039f"
             ],
             [
              0.2222222222222222,
              "#7201a8"
             ],
             [
              0.3333333333333333,
              "#9c179e"
             ],
             [
              0.4444444444444444,
              "#bd3786"
             ],
             [
              0.5555555555555556,
              "#d8576b"
             ],
             [
              0.6666666666666666,
              "#ed7953"
             ],
             [
              0.7777777777777778,
              "#fb9f3a"
             ],
             [
              0.8888888888888888,
              "#fdca26"
             ],
             [
              1.0,
              "#f0f921"
             ]
            ],
            "type": "heatmap"
           }
          ],
          "heatmapgl": [
           {
            "colorbar": {
             "outlinewidth": 0,
             "ticks": ""
            },
            "colorscale": [
             [
              0.0,
              "#0d0887"
             ],
             [
              0.1111111111111111,
              "#46039f"
             ],
             [
              0.2222222222222222,
              "#7201a8"
             ],
             [
              0.3333333333333333,
              "#9c179e"
             ],
             [
              0.4444444444444444,
              "#bd3786"
             ],
             [
              0.5555555555555556,
              "#d8576b"
             ],
             [
              0.6666666666666666,
              "#ed7953"
             ],
             [
              0.7777777777777778,
              "#fb9f3a"
             ],
             [
              0.8888888888888888,
              "#fdca26"
             ],
             [
              1.0,
              "#f0f921"
             ]
            ],
            "type": "heatmapgl"
           }
          ],
          "histogram": [
           {
            "marker": {
             "pattern": {
              "fillmode": "overlay",
              "size": 10,
              "solidity": 0.2
             }
            },
            "type": "histogram"
           }
          ],
          "histogram2d": [
           {
            "colorbar": {
             "outlinewidth": 0,
             "ticks": ""
            },
            "colorscale": [
             [
              0.0,
              "#0d0887"
             ],
             [
              0.1111111111111111,
              "#46039f"
             ],
             [
              0.2222222222222222,
              "#7201a8"
             ],
             [
              0.3333333333333333,
              "#9c179e"
             ],
             [
              0.4444444444444444,
              "#bd3786"
             ],
             [
              0.5555555555555556,
              "#d8576b"
             ],
             [
              0.6666666666666666,
              "#ed7953"
             ],
             [
              0.7777777777777778,
              "#fb9f3a"
             ],
             [
              0.8888888888888888,
              "#fdca26"
             ],
             [
              1.0,
              "#f0f921"
             ]
            ],
            "type": "histogram2d"
           }
          ],
          "histogram2dcontour": [
           {
            "colorbar": {
             "outlinewidth": 0,
             "ticks": ""
            },
            "colorscale": [
             [
              0.0,
              "#0d0887"
             ],
             [
              0.1111111111111111,
              "#46039f"
             ],
             [
              0.2222222222222222,
              "#7201a8"
             ],
             [
              0.3333333333333333,
              "#9c179e"
             ],
             [
              0.4444444444444444,
              "#bd3786"
             ],
             [
              0.5555555555555556,
              "#d8576b"
             ],
             [
              0.6666666666666666,
              "#ed7953"
             ],
             [
              0.7777777777777778,
              "#fb9f3a"
             ],
             [
              0.8888888888888888,
              "#fdca26"
             ],
             [
              1.0,
              "#f0f921"
             ]
            ],
            "type": "histogram2dcontour"
           }
          ],
          "mesh3d": [
           {
            "colorbar": {
             "outlinewidth": 0,
             "ticks": ""
            },
            "type": "mesh3d"
           }
          ],
          "parcoords": [
           {
            "line": {
             "colorbar": {
              "outlinewidth": 0,
              "ticks": ""
             }
            },
            "type": "parcoords"
           }
          ],
          "pie": [
           {
            "automargin": true,
            "type": "pie"
           }
          ],
          "scatter": [
           {
            "marker": {
             "line": {
              "color": "#283442"
             }
            },
            "type": "scatter"
           }
          ],
          "scatter3d": [
           {
            "line": {
             "colorbar": {
              "outlinewidth": 0,
              "ticks": ""
             }
            },
            "marker": {
             "colorbar": {
              "outlinewidth": 0,
              "ticks": ""
             }
            },
            "type": "scatter3d"
           }
          ],
          "scattercarpet": [
           {
            "marker": {
             "colorbar": {
              "outlinewidth": 0,
              "ticks": ""
             }
            },
            "type": "scattercarpet"
           }
          ],
          "scattergeo": [
           {
            "marker": {
             "colorbar": {
              "outlinewidth": 0,
              "ticks": ""
             }
            },
            "type": "scattergeo"
           }
          ],
          "scattergl": [
           {
            "marker": {
             "line": {
              "color": "#283442"
             }
            },
            "type": "scattergl"
           }
          ],
          "scattermapbox": [
           {
            "marker": {
             "colorbar": {
              "outlinewidth": 0,
              "ticks": ""
             }
            },
            "type": "scattermapbox"
           }
          ],
          "scatterpolar": [
           {
            "marker": {
             "colorbar": {
              "outlinewidth": 0,
              "ticks": ""
             }
            },
            "type": "scatterpolar"
           }
          ],
          "scatterpolargl": [
           {
            "marker": {
             "colorbar": {
              "outlinewidth": 0,
              "ticks": ""
             }
            },
            "type": "scatterpolargl"
           }
          ],
          "scatterternary": [
           {
            "marker": {
             "colorbar": {
              "outlinewidth": 0,
              "ticks": ""
             }
            },
            "type": "scatterternary"
           }
          ],
          "surface": [
           {
            "colorbar": {
             "outlinewidth": 0,
             "ticks": ""
            },
            "colorscale": [
             [
              0.0,
              "#0d0887"
             ],
             [
              0.1111111111111111,
              "#46039f"
             ],
             [
              0.2222222222222222,
              "#7201a8"
             ],
             [
              0.3333333333333333,
              "#9c179e"
             ],
             [
              0.4444444444444444,
              "#bd3786"
             ],
             [
              0.5555555555555556,
              "#d8576b"
             ],
             [
              0.6666666666666666,
              "#ed7953"
             ],
             [
              0.7777777777777778,
              "#fb9f3a"
             ],
             [
              0.8888888888888888,
              "#fdca26"
             ],
             [
              1.0,
              "#f0f921"
             ]
            ],
            "type": "surface"
           }
          ],
          "table": [
           {
            "cells": {
             "fill": {
              "color": "#506784"
             },
             "line": {
              "color": "rgb(17,17,17)"
             }
            },
            "header": {
             "fill": {
              "color": "#2a3f5f"
             },
             "line": {
              "color": "rgb(17,17,17)"
             }
            },
            "type": "table"
           }
          ]
         },
         "layout": {
          "annotationdefaults": {
           "arrowcolor": "#f2f5fa",
           "arrowhead": 0,
           "arrowwidth": 1
          },
          "autotypenumbers": "strict",
          "coloraxis": {
           "colorbar": {
            "outlinewidth": 0,
            "ticks": ""
           }
          },
          "colorscale": {
           "diverging": [
            [
             0,
             "#8e0152"
            ],
            [
             0.1,
             "#c51b7d"
            ],
            [
             0.2,
             "#de77ae"
            ],
            [
             0.3,
             "#f1b6da"
            ],
            [
             0.4,
             "#fde0ef"
            ],
            [
             0.5,
             "#f7f7f7"
            ],
            [
             0.6,
             "#e6f5d0"
            ],
            [
             0.7,
             "#b8e186"
            ],
            [
             0.8,
             "#7fbc41"
            ],
            [
             0.9,
             "#4d9221"
            ],
            [
             1,
             "#276419"
            ]
           ],
           "sequential": [
            [
             0.0,
             "#0d0887"
            ],
            [
             0.1111111111111111,
             "#46039f"
            ],
            [
             0.2222222222222222,
             "#7201a8"
            ],
            [
             0.3333333333333333,
             "#9c179e"
            ],
            [
             0.4444444444444444,
             "#bd3786"
            ],
            [
             0.5555555555555556,
             "#d8576b"
            ],
            [
             0.6666666666666666,
             "#ed7953"
            ],
            [
             0.7777777777777778,
             "#fb9f3a"
            ],
            [
             0.8888888888888888,
             "#fdca26"
            ],
            [
             1.0,
             "#f0f921"
            ]
           ],
           "sequentialminus": [
            [
             0.0,
             "#0d0887"
            ],
            [
             0.1111111111111111,
             "#46039f"
            ],
            [
             0.2222222222222222,
             "#7201a8"
            ],
            [
             0.3333333333333333,
             "#9c179e"
            ],
            [
             0.4444444444444444,
             "#bd3786"
            ],
            [
             0.5555555555555556,
             "#d8576b"
            ],
            [
             0.6666666666666666,
             "#ed7953"
            ],
            [
             0.7777777777777778,
             "#fb9f3a"
            ],
            [
             0.8888888888888888,
             "#fdca26"
            ],
            [
             1.0,
             "#f0f921"
            ]
           ]
          },
          "colorway": [
           "#636efa",
           "#EF553B",
           "#00cc96",
           "#ab63fa",
           "#FFA15A",
           "#19d3f3",
           "#FF6692",
           "#B6E880",
           "#FF97FF",
           "#FECB52"
          ],
          "font": {
           "color": "#f2f5fa"
          },
          "geo": {
           "bgcolor": "rgb(17,17,17)",
           "lakecolor": "rgb(17,17,17)",
           "landcolor": "rgb(17,17,17)",
           "showlakes": true,
           "showland": true,
           "subunitcolor": "#506784"
          },
          "hoverlabel": {
           "align": "left"
          },
          "hovermode": "closest",
          "mapbox": {
           "style": "dark"
          },
          "paper_bgcolor": "rgb(17,17,17)",
          "plot_bgcolor": "rgb(17,17,17)",
          "polar": {
           "angularaxis": {
            "gridcolor": "#506784",
            "linecolor": "#506784",
            "ticks": ""
           },
           "bgcolor": "rgb(17,17,17)",
           "radialaxis": {
            "gridcolor": "#506784",
            "linecolor": "#506784",
            "ticks": ""
           }
          },
          "scene": {
           "xaxis": {
            "backgroundcolor": "rgb(17,17,17)",
            "gridcolor": "#506784",
            "gridwidth": 2,
            "linecolor": "#506784",
            "showbackground": true,
            "ticks": "",
            "zerolinecolor": "#C8D4E3"
           },
           "yaxis": {
            "backgroundcolor": "rgb(17,17,17)",
            "gridcolor": "#506784",
            "gridwidth": 2,
            "linecolor": "#506784",
            "showbackground": true,
            "ticks": "",
            "zerolinecolor": "#C8D4E3"
           },
           "zaxis": {
            "backgroundcolor": "rgb(17,17,17)",
            "gridcolor": "#506784",
            "gridwidth": 2,
            "linecolor": "#506784",
            "showbackground": true,
            "ticks": "",
            "zerolinecolor": "#C8D4E3"
           }
          },
          "shapedefaults": {
           "line": {
            "color": "#f2f5fa"
           }
          },
          "sliderdefaults": {
           "bgcolor": "#C8D4E3",
           "bordercolor": "rgb(17,17,17)",
           "borderwidth": 1,
           "tickwidth": 0
          },
          "ternary": {
           "aaxis": {
            "gridcolor": "#506784",
            "linecolor": "#506784",
            "ticks": ""
           },
           "baxis": {
            "gridcolor": "#506784",
            "linecolor": "#506784",
            "ticks": ""
           },
           "bgcolor": "rgb(17,17,17)",
           "caxis": {
            "gridcolor": "#506784",
            "linecolor": "#506784",
            "ticks": ""
           }
          },
          "title": {
           "x": 0.05
          },
          "updatemenudefaults": {
           "bgcolor": "#506784",
           "borderwidth": 0
          },
          "xaxis": {
           "automargin": true,
           "gridcolor": "#283442",
           "linecolor": "#506784",
           "ticks": "",
           "title": {
            "standoff": 15
           },
           "zerolinecolor": "#283442",
           "zerolinewidth": 2
          },
          "yaxis": {
           "automargin": true,
           "gridcolor": "#283442",
           "linecolor": "#506784",
           "ticks": "",
           "title": {
            "standoff": 15
           },
           "zerolinecolor": "#283442",
           "zerolinewidth": 2
          }
         }
        },
        "xaxis": {
         "anchor": "y",
         "domain": [
          0.0,
          1.0
         ],
         "title": {
          "text": "price"
         }
        },
        "yaxis": {
         "anchor": "x",
         "domain": [
          0.0,
          1.0
         ],
         "title": {
          "text": "first_token_price"
         }
        }
       }
      },
      "text/html": "<div>                            <div id=\"99ee366f-1f55-4774-9c4d-7c7202ab4049\" class=\"plotly-graph-div\" style=\"height:525px; width:100%;\"></div>            <script type=\"text/javascript\">                require([\"plotly\"], function(Plotly) {                    window.PLOTLYENV=window.PLOTLYENV || {};                                    if (document.getElementById(\"99ee366f-1f55-4774-9c4d-7c7202ab4049\")) {                    Plotly.newPlot(                        \"99ee366f-1f55-4774-9c4d-7c7202ab4049\",                        [{\"hovertemplate\":\"price=%{x}\\u003cbr\\u003efirst_token_price=%{y}\\u003cextra\\u003e\\u003c\\u002fextra\\u003e\",\"legendgroup\":\"\",\"marker\":{\"color\":\"#636efa\",\"symbol\":\"circle\"},\"mode\":\"markers\",\"name\":\"\",\"orientation\":\"v\",\"showlegend\":false,\"x\":[0.275,0.17,0.265,0.305,0.49,0.5,0.37,0.225,0.6,0.31,0.175,0.245,0.405,0.2,0.275,0.34,0.265,0.245,0.375,0.5,0.295,0.675,0.505,0.195,0.715,0.11,0.235,0.11,0.73,0.405,0.36,0.49,0.225,0.52,0.575,0.51,0.63,0.725,0.13,0.69,0.4,0.565,0.355,0.855,0.28,0.39,0.565,0.62,0.59,0.31,0.43,0.805,0.11,0.585,0.755,0.835,0.37,0.105,0.68,0.08,0.5,0.265,0.075,0.39,0.275,0.31,0.255,0.26,0.385,0.29,0.18,0.71,0.61,0.17,0.27,0.34,0.4,0.05],\"xaxis\":\"x\",\"y\":[0.0,0.0,0.0,0.0,1.0,0.0,0.0,1.0,0.0,0.0,0.0,1.0,0.0,0.0,0.0,1.0,0.0,0.0,0.0,0.0,0.0,1.0,1.0,0.0,1.0,0.0,0.0,0.0,1.0,1.0,0.0,0.0,0.0,1.0,0.0,1.0,0.0,1.0,0.0,8.140065502455539e-05,1.0,1.0,1.0,1.0,1.0,0.0,1.0,0.0,1.0,1.0,0.0,1.0,0.0,1.0,0.0,1.0,0.0,0.0,0.0,0.0,1.0,0.0,0.0,1.0,1.0,0.9767158039242547,0.0,0.0,0.0,0.0,0.0,0.0,0.9998105323986264,0.0,0.0,0.0,0.999883481099508,0.0],\"yaxis\":\"y\",\"type\":\"scatter\"}],                        {\"template\":{\"data\":{\"histogram2dcontour\":[{\"type\":\"histogram2dcontour\",\"colorbar\":{\"outlinewidth\":0,\"ticks\":\"\"},\"colorscale\":[[0.0,\"#0d0887\"],[0.1111111111111111,\"#46039f\"],[0.2222222222222222,\"#7201a8\"],[0.3333333333333333,\"#9c179e\"],[0.4444444444444444,\"#bd3786\"],[0.5555555555555556,\"#d8576b\"],[0.6666666666666666,\"#ed7953\"],[0.7777777777777778,\"#fb9f3a\"],[0.8888888888888888,\"#fdca26\"],[1.0,\"#f0f921\"]]}],\"choropleth\":[{\"type\":\"choropleth\",\"colorbar\":{\"outlinewidth\":0,\"ticks\":\"\"}}],\"histogram2d\":[{\"type\":\"histogram2d\",\"colorbar\":{\"outlinewidth\":0,\"ticks\":\"\"},\"colorscale\":[[0.0,\"#0d0887\"],[0.1111111111111111,\"#46039f\"],[0.2222222222222222,\"#7201a8\"],[0.3333333333333333,\"#9c179e\"],[0.4444444444444444,\"#bd3786\"],[0.5555555555555556,\"#d8576b\"],[0.6666666666666666,\"#ed7953\"],[0.7777777777777778,\"#fb9f3a\"],[0.8888888888888888,\"#fdca26\"],[1.0,\"#f0f921\"]]}],\"heatmap\":[{\"type\":\"heatmap\",\"colorbar\":{\"outlinewidth\":0,\"ticks\":\"\"},\"colorscale\":[[0.0,\"#0d0887\"],[0.1111111111111111,\"#46039f\"],[0.2222222222222222,\"#7201a8\"],[0.3333333333333333,\"#9c179e\"],[0.4444444444444444,\"#bd3786\"],[0.5555555555555556,\"#d8576b\"],[0.6666666666666666,\"#ed7953\"],[0.7777777777777778,\"#fb9f3a\"],[0.8888888888888888,\"#fdca26\"],[1.0,\"#f0f921\"]]}],\"heatmapgl\":[{\"type\":\"heatmapgl\",\"colorbar\":{\"outlinewidth\":0,\"ticks\":\"\"},\"colorscale\":[[0.0,\"#0d0887\"],[0.1111111111111111,\"#46039f\"],[0.2222222222222222,\"#7201a8\"],[0.3333333333333333,\"#9c179e\"],[0.4444444444444444,\"#bd3786\"],[0.5555555555555556,\"#d8576b\"],[0.6666666666666666,\"#ed7953\"],[0.7777777777777778,\"#fb9f3a\"],[0.8888888888888888,\"#fdca26\"],[1.0,\"#f0f921\"]]}],\"contourcarpet\":[{\"type\":\"contourcarpet\",\"colorbar\":{\"outlinewidth\":0,\"ticks\":\"\"}}],\"contour\":[{\"type\":\"contour\",\"colorbar\":{\"outlinewidth\":0,\"ticks\":\"\"},\"colorscale\":[[0.0,\"#0d0887\"],[0.1111111111111111,\"#46039f\"],[0.2222222222222222,\"#7201a8\"],[0.3333333333333333,\"#9c179e\"],[0.4444444444444444,\"#bd3786\"],[0.5555555555555556,\"#d8576b\"],[0.6666666666666666,\"#ed7953\"],[0.7777777777777778,\"#fb9f3a\"],[0.8888888888888888,\"#fdca26\"],[1.0,\"#f0f921\"]]}],\"surface\":[{\"type\":\"surface\",\"colorbar\":{\"outlinewidth\":0,\"ticks\":\"\"},\"colorscale\":[[0.0,\"#0d0887\"],[0.1111111111111111,\"#46039f\"],[0.2222222222222222,\"#7201a8\"],[0.3333333333333333,\"#9c179e\"],[0.4444444444444444,\"#bd3786\"],[0.5555555555555556,\"#d8576b\"],[0.6666666666666666,\"#ed7953\"],[0.7777777777777778,\"#fb9f3a\"],[0.8888888888888888,\"#fdca26\"],[1.0,\"#f0f921\"]]}],\"mesh3d\":[{\"type\":\"mesh3d\",\"colorbar\":{\"outlinewidth\":0,\"ticks\":\"\"}}],\"scatter\":[{\"marker\":{\"line\":{\"color\":\"#283442\"}},\"type\":\"scatter\"}],\"parcoords\":[{\"type\":\"parcoords\",\"line\":{\"colorbar\":{\"outlinewidth\":0,\"ticks\":\"\"}}}],\"scatterpolargl\":[{\"type\":\"scatterpolargl\",\"marker\":{\"colorbar\":{\"outlinewidth\":0,\"ticks\":\"\"}}}],\"bar\":[{\"error_x\":{\"color\":\"#f2f5fa\"},\"error_y\":{\"color\":\"#f2f5fa\"},\"marker\":{\"line\":{\"color\":\"rgb(17,17,17)\",\"width\":0.5},\"pattern\":{\"fillmode\":\"overlay\",\"size\":10,\"solidity\":0.2}},\"type\":\"bar\"}],\"scattergeo\":[{\"type\":\"scattergeo\",\"marker\":{\"colorbar\":{\"outlinewidth\":0,\"ticks\":\"\"}}}],\"scatterpolar\":[{\"type\":\"scatterpolar\",\"marker\":{\"colorbar\":{\"outlinewidth\":0,\"ticks\":\"\"}}}],\"histogram\":[{\"marker\":{\"pattern\":{\"fillmode\":\"overlay\",\"size\":10,\"solidity\":0.2}},\"type\":\"histogram\"}],\"scattergl\":[{\"marker\":{\"line\":{\"color\":\"#283442\"}},\"type\":\"scattergl\"}],\"scatter3d\":[{\"type\":\"scatter3d\",\"line\":{\"colorbar\":{\"outlinewidth\":0,\"ticks\":\"\"}},\"marker\":{\"colorbar\":{\"outlinewidth\":0,\"ticks\":\"\"}}}],\"scattermapbox\":[{\"type\":\"scattermapbox\",\"marker\":{\"colorbar\":{\"outlinewidth\":0,\"ticks\":\"\"}}}],\"scatterternary\":[{\"type\":\"scatterternary\",\"marker\":{\"colorbar\":{\"outlinewidth\":0,\"ticks\":\"\"}}}],\"scattercarpet\":[{\"type\":\"scattercarpet\",\"marker\":{\"colorbar\":{\"outlinewidth\":0,\"ticks\":\"\"}}}],\"carpet\":[{\"aaxis\":{\"endlinecolor\":\"#A2B1C6\",\"gridcolor\":\"#506784\",\"linecolor\":\"#506784\",\"minorgridcolor\":\"#506784\",\"startlinecolor\":\"#A2B1C6\"},\"baxis\":{\"endlinecolor\":\"#A2B1C6\",\"gridcolor\":\"#506784\",\"linecolor\":\"#506784\",\"minorgridcolor\":\"#506784\",\"startlinecolor\":\"#A2B1C6\"},\"type\":\"carpet\"}],\"table\":[{\"cells\":{\"fill\":{\"color\":\"#506784\"},\"line\":{\"color\":\"rgb(17,17,17)\"}},\"header\":{\"fill\":{\"color\":\"#2a3f5f\"},\"line\":{\"color\":\"rgb(17,17,17)\"}},\"type\":\"table\"}],\"barpolar\":[{\"marker\":{\"line\":{\"color\":\"rgb(17,17,17)\",\"width\":0.5},\"pattern\":{\"fillmode\":\"overlay\",\"size\":10,\"solidity\":0.2}},\"type\":\"barpolar\"}],\"pie\":[{\"automargin\":true,\"type\":\"pie\"}]},\"layout\":{\"autotypenumbers\":\"strict\",\"colorway\":[\"#636efa\",\"#EF553B\",\"#00cc96\",\"#ab63fa\",\"#FFA15A\",\"#19d3f3\",\"#FF6692\",\"#B6E880\",\"#FF97FF\",\"#FECB52\"],\"font\":{\"color\":\"#f2f5fa\"},\"hovermode\":\"closest\",\"hoverlabel\":{\"align\":\"left\"},\"paper_bgcolor\":\"rgb(17,17,17)\",\"plot_bgcolor\":\"rgb(17,17,17)\",\"polar\":{\"bgcolor\":\"rgb(17,17,17)\",\"angularaxis\":{\"gridcolor\":\"#506784\",\"linecolor\":\"#506784\",\"ticks\":\"\"},\"radialaxis\":{\"gridcolor\":\"#506784\",\"linecolor\":\"#506784\",\"ticks\":\"\"}},\"ternary\":{\"bgcolor\":\"rgb(17,17,17)\",\"aaxis\":{\"gridcolor\":\"#506784\",\"linecolor\":\"#506784\",\"ticks\":\"\"},\"baxis\":{\"gridcolor\":\"#506784\",\"linecolor\":\"#506784\",\"ticks\":\"\"},\"caxis\":{\"gridcolor\":\"#506784\",\"linecolor\":\"#506784\",\"ticks\":\"\"}},\"coloraxis\":{\"colorbar\":{\"outlinewidth\":0,\"ticks\":\"\"}},\"colorscale\":{\"sequential\":[[0.0,\"#0d0887\"],[0.1111111111111111,\"#46039f\"],[0.2222222222222222,\"#7201a8\"],[0.3333333333333333,\"#9c179e\"],[0.4444444444444444,\"#bd3786\"],[0.5555555555555556,\"#d8576b\"],[0.6666666666666666,\"#ed7953\"],[0.7777777777777778,\"#fb9f3a\"],[0.8888888888888888,\"#fdca26\"],[1.0,\"#f0f921\"]],\"sequentialminus\":[[0.0,\"#0d0887\"],[0.1111111111111111,\"#46039f\"],[0.2222222222222222,\"#7201a8\"],[0.3333333333333333,\"#9c179e\"],[0.4444444444444444,\"#bd3786\"],[0.5555555555555556,\"#d8576b\"],[0.6666666666666666,\"#ed7953\"],[0.7777777777777778,\"#fb9f3a\"],[0.8888888888888888,\"#fdca26\"],[1.0,\"#f0f921\"]],\"diverging\":[[0,\"#8e0152\"],[0.1,\"#c51b7d\"],[0.2,\"#de77ae\"],[0.3,\"#f1b6da\"],[0.4,\"#fde0ef\"],[0.5,\"#f7f7f7\"],[0.6,\"#e6f5d0\"],[0.7,\"#b8e186\"],[0.8,\"#7fbc41\"],[0.9,\"#4d9221\"],[1,\"#276419\"]]},\"xaxis\":{\"gridcolor\":\"#283442\",\"linecolor\":\"#506784\",\"ticks\":\"\",\"title\":{\"standoff\":15},\"zerolinecolor\":\"#283442\",\"automargin\":true,\"zerolinewidth\":2},\"yaxis\":{\"gridcolor\":\"#283442\",\"linecolor\":\"#506784\",\"ticks\":\"\",\"title\":{\"standoff\":15},\"zerolinecolor\":\"#283442\",\"automargin\":true,\"zerolinewidth\":2},\"scene\":{\"xaxis\":{\"backgroundcolor\":\"rgb(17,17,17)\",\"gridcolor\":\"#506784\",\"linecolor\":\"#506784\",\"showbackground\":true,\"ticks\":\"\",\"zerolinecolor\":\"#C8D4E3\",\"gridwidth\":2},\"yaxis\":{\"backgroundcolor\":\"rgb(17,17,17)\",\"gridcolor\":\"#506784\",\"linecolor\":\"#506784\",\"showbackground\":true,\"ticks\":\"\",\"zerolinecolor\":\"#C8D4E3\",\"gridwidth\":2},\"zaxis\":{\"backgroundcolor\":\"rgb(17,17,17)\",\"gridcolor\":\"#506784\",\"linecolor\":\"#506784\",\"showbackground\":true,\"ticks\":\"\",\"zerolinecolor\":\"#C8D4E3\",\"gridwidth\":2}},\"shapedefaults\":{\"line\":{\"color\":\"#f2f5fa\"}},\"annotationdefaults\":{\"arrowcolor\":\"#f2f5fa\",\"arrowhead\":0,\"arrowwidth\":1},\"geo\":{\"bgcolor\":\"rgb(17,17,17)\",\"landcolor\":\"rgb(17,17,17)\",\"subunitcolor\":\"#506784\",\"showland\":true,\"showlakes\":true,\"lakecolor\":\"rgb(17,17,17)\"},\"title\":{\"x\":0.05},\"updatemenudefaults\":{\"bgcolor\":\"#506784\",\"borderwidth\":0},\"sliderdefaults\":{\"bgcolor\":\"#C8D4E3\",\"borderwidth\":1,\"bordercolor\":\"rgb(17,17,17)\",\"tickwidth\":0},\"mapbox\":{\"style\":\"dark\"}}},\"xaxis\":{\"anchor\":\"y\",\"domain\":[0.0,1.0],\"title\":{\"text\":\"price\"}},\"yaxis\":{\"anchor\":\"x\",\"domain\":[0.0,1.0],\"title\":{\"text\":\"first_token_price\"}},\"legend\":{\"tracegroupgap\":0},\"margin\":{\"t\":60}},                        {\"responsive\": true}                    ).then(function(){\n                            \nvar gd = document.getElementById('99ee366f-1f55-4774-9c4d-7c7202ab4049');\nvar x = new MutationObserver(function (mutations, observer) {{\n        var display = window.getComputedStyle(gd).display;\n        if (!display || display === 'none') {{\n            console.log([gd, 'removed!']);\n            Plotly.purge(gd);\n            observer.disconnect();\n        }}\n}});\n\n// Listen for the removal of the full notebook cells\nvar notebookContainer = gd.closest('#notebook-container');\nif (notebookContainer) {{\n    x.observe(notebookContainer, {childList: true});\n}}\n\n// Listen for the clearing of the current output cell\nvar outputEl = gd.closest('.output');\nif (outputEl) {{\n    x.observe(outputEl, {childList: true});\n}}\n\n                        })                };                });            </script>        </div>"
     },
     "metadata": {},
     "output_type": "display_data"
    }
   ],
   "source": [
    "import plotly.express as px\n",
    "\n",
    "px.scatter(procesed_df, x=\"price\", y=\"first_token_price\")"
   ]
  },
  {
   "cell_type": "code",
   "execution_count": 8,
   "id": "32de614c3ea3410a",
   "metadata": {
    "ExecuteTime": {
     "end_time": "2024-09-05T08:22:51.075172859Z",
     "start_time": "2024-09-05T08:22:51.052362054Z"
    },
    "collapsed": false
   },
   "outputs": [
    {
     "data": {
      "text/plain": "np.float64(0.717948717948718)"
     },
     "execution_count": 8,
     "metadata": {},
     "output_type": "execute_result"
    }
   ],
   "source": [
    "import numpy as np\n",
    "\n",
    "(\n",
    "    np.round(procesed_df.price, 0) == np.round(procesed_df.first_token_price, 0)\n",
    ").sum() / len(procesed_df)"
   ]
  },
  {
   "cell_type": "code",
   "execution_count": null,
   "id": "4ae9b1e412bdac00",
   "metadata": {
    "collapsed": false
   },
   "outputs": [],
   "source": []
  }
 ],
 "metadata": {
  "kernelspec": {
   "display_name": "Python 3",
   "language": "python",
   "name": "python3"
  },
  "language_info": {
   "codemirror_mode": {
    "name": "ipython",
    "version": 2
   },
   "file_extension": ".py",
   "mimetype": "text/x-python",
   "name": "python",
   "nbconvert_exporter": "python",
   "pygments_lexer": "ipython2",
   "version": "2.7.6"
  }
 },
 "nbformat": 4,
 "nbformat_minor": 5
}
